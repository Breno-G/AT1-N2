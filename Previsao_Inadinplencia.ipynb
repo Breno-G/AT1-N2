{
  "nbformat": 4,
  "nbformat_minor": 0,
  "metadata": {
    "colab": {
      "provenance": [],
      "collapsed_sections": [
        "l8DbVYFnro6U",
        "tuGEe5YMdfsm"
      ]
    },
    "kernelspec": {
      "name": "python3",
      "display_name": "Python 3"
    },
    "language_info": {
      "name": "python"
    }
  },
  "cells": [
    {
      "cell_type": "markdown",
      "source": [
        "Primeira etapa: Limpeza de dados com pandas"
      ],
      "metadata": {
        "id": "6E9X8jtVy1ku"
      }
    },
    {
      "cell_type": "markdown",
      "source": [
        "# **1. Entendendo os dados**\n",
        "\n",
        "---\n",
        "\n"
      ],
      "metadata": {
        "id": "l8DbVYFnro6U"
      }
    },
    {
      "cell_type": "markdown",
      "source": [
        "O  [*default of credit card clients dataset*](https://www.kaggle.com/datasets/uciml/default-of-credit-card-clients-dataset) foi extaído do Kaggle.<br>\n",
        "\n",
        "\n",
        "Nele é possível ter acesso a toda documentação.\n"
      ],
      "metadata": {
        "id": "dP7M-U2Yw9Lr"
      }
    },
    {
      "cell_type": "markdown",
      "source": [
        "## **1.1  Importando os pacotes e lendo os dados**"
      ],
      "metadata": {
        "id": "z9W3YlTGvt9y"
      }
    },
    {
      "cell_type": "markdown",
      "source": [
        "Bibliotecas"
      ],
      "metadata": {
        "id": "JjCVJDz3mVzs"
      }
    },
    {
      "cell_type": "code",
      "execution_count": null,
      "metadata": {
        "id": "BgyLENJfrj5L"
      },
      "outputs": [],
      "source": [
        "import pandas as pd\n",
        "import matplotlib.pyplot as plt\n",
        "import numpy as np\n",
        "from sklearn.preprocessing import StandardScaler, MinMaxScaler, OneHotEncoder\n",
        "from matplotlib.ticker import FuncFormatter\n",
        "from sklearn.pipeline import Pipeline\n",
        "from sklearn.impute import SimpleImputer\n",
        "from sklearn.compose import ColumnTransformer\n",
        "from sklearn.metrics import accuracy_score, precision_score, recall_score, confusion_matrix, f1_score, roc_auc_score\n",
        "from sklearn.model_selection import train_test_split, GridSearchCV\n",
        "from sklearn.svm import LinearSVC\n",
        "from sklearn.dummy import DummyClassifier\n",
        "from sklearn.tree import DecisionTreeClassifier\n",
        "from sklearn.ensemble import RandomForestClassifier"
      ]
    },
    {
      "cell_type": "code",
      "source": [
        "df = pd.read_csv('https://raw.githubusercontent.com/Breno-G/AT1-N2/refs/heads/main/dataset/UCI_Credit_Card.csv')"
      ],
      "metadata": {
        "id": "TK3SXFJIylTl"
      },
      "execution_count": null,
      "outputs": []
    },
    {
      "cell_type": "markdown",
      "source": [
        "### Variáreis\n"
      ],
      "metadata": {
        "id": "V4uE1GuNy_Ew"
      }
    },
    {
      "cell_type": "markdown",
      "source": [
        "<ol>\n",
        "  <li><strong>ID</strong>: Identificador único de cada cliente.</li>\n",
        "  <li><strong>LIMIT_BAL</strong>: Valor total de crédito concedido (em dólares taiwaneses), incluindo limites pessoais e adicionais.</li>\n",
        "  <li><strong>SEX</strong>: Sexo do cliente: 1 para masculino, 2 para feminino.</li>\n",
        "  <li><strong>EDUCATION</strong>: Grau de escolaridade: 1 = pós-graduação, 2 = universidade, 3 = ensino médio, 4 = outros, 5 e 6 = desconhecido.</li>\n",
        "  <li><strong>MARRIAGE</strong>: Estado civil: 1 = casado, 2 = solteiro, 3 = outros.</li>\n",
        "  <li><strong>AGE</strong>: Idade do cliente (em anos).</li>\n",
        "  <li><strong>PAY_0</strong>: Situação de pagamento em setembro de 2005: -1 = pagamento em dia, 1 = atraso de 1 mês, até 9 = 9 meses ou mais de atraso.</li>\n",
        "  <li><strong>PAY_2</strong>: Situação de pagamento em agosto de 2005 (mesma escala de PAY_0).</li>\n",
        "  <li><strong>PAY_3</strong>: Situação de pagamento em julho de 2005 (mesma escala).</li>\n",
        "  <li><strong>PAY_4</strong>: Situação de pagamento em junho de 2005 (mesma escala).</li>\n",
        "  <li><strong>PAY_5</strong>: Situação de pagamento em maio de 2005 (mesma escala).</li>\n",
        "  <li><strong>PAY_6</strong>: Situação de pagamento em abril de 2005 (mesma escala).</li>\n",
        "  <li><strong>BILL_AMT1</strong>: Valor da fatura em setembro de 2005 (em dólares taiwaneses).</li>\n",
        "  <li><strong>BILL_AMT2</strong>: Valor da fatura em agosto de 2005.</li>\n",
        "  <li><strong>BILL_AMT3</strong>: Valor da fatura em julho de 2005.</li>\n",
        "  <li><strong>BILL_AMT4</strong>: Valor da fatura em junho de 2005.</li>\n",
        "  <li><strong>BILL_AMT5</strong>: Valor da fatura em maio de 2005.</li>\n",
        "  <li><strong>BILL_AMT6</strong>: Valor da fatura em abril de 2005.</li>\n",
        "  <li><strong>PAY_AMT1</strong>: Valor do pagamento realizado em setembro de 2005.</li>\n",
        "  <li><strong>PAY_AMT2</strong>: Valor do pagamento realizado em agosto de 2005.</li>\n",
        "  <li><strong>PAY_AMT3</strong>: Valor do pagamento realizado em julho de 2005.</li>\n",
        "  <li><strong>PAY_AMT4</strong>: Valor do pagamento realizado em junho de 2005.</li>\n",
        "  <li><strong>PAY_AMT5</strong>: Valor do pagamento realizado em maio de 2005.</li>\n",
        "  <li><strong>PAY_AMT6</strong>: Valor do pagamento realizado em abril de 2005.</li>\n",
        "  <li><strong>default.payment.next.month</strong>: Indica inadimplência no mês seguinte: 1 = sim (houve inadimplência), 0 = não.</li>\n",
        "</ol>"
      ],
      "metadata": {
        "id": "PWQXetim2li5"
      }
    },
    {
      "cell_type": "markdown",
      "source": [
        "## 1.2 Renomeando variáveis\n"
      ],
      "metadata": {
        "id": "2yaJv21A2xqa"
      }
    },
    {
      "cell_type": "markdown",
      "source": [
        "Duas colunas podem ter nomes melhores:"
      ],
      "metadata": {
        "id": "kc_G_VR-8lDB"
      }
    },
    {
      "cell_type": "code",
      "source": [
        "df = df.rename(columns={'PAY_0' : 'PAY_1',\n",
        "                        'default.payment.next.month' : 'DEF_NEXT_MONTH'})\n"
      ],
      "metadata": {
        "id": "5d_TDPKW7LXZ"
      },
      "execution_count": null,
      "outputs": []
    },
    {
      "cell_type": "markdown",
      "source": [
        "## 1.3 Análise e limpeza de dados"
      ],
      "metadata": {
        "id": "U9_BfkKb88_Y"
      }
    },
    {
      "cell_type": "markdown",
      "source": [
        "O método .info() mostra que não será necessário fazer casting."
      ],
      "metadata": {
        "id": "IoYuzh4JEJtk"
      }
    },
    {
      "cell_type": "code",
      "source": [
        "df.info()"
      ],
      "metadata": {
        "colab": {
          "base_uri": "https://localhost:8080/"
        },
        "id": "yEXk0-PVzGbN",
        "outputId": "9428a4a1-1360-4d8d-ccec-61d15e66c89d"
      },
      "execution_count": null,
      "outputs": [
        {
          "output_type": "stream",
          "name": "stdout",
          "text": [
            "<class 'pandas.core.frame.DataFrame'>\n",
            "RangeIndex: 30000 entries, 0 to 29999\n",
            "Data columns (total 25 columns):\n",
            " #   Column          Non-Null Count  Dtype  \n",
            "---  ------          --------------  -----  \n",
            " 0   ID              30000 non-null  int64  \n",
            " 1   LIMIT_BAL       30000 non-null  float64\n",
            " 2   SEX             30000 non-null  int64  \n",
            " 3   EDUCATION       30000 non-null  int64  \n",
            " 4   MARRIAGE        30000 non-null  int64  \n",
            " 5   AGE             30000 non-null  int64  \n",
            " 6   PAY_1           30000 non-null  int64  \n",
            " 7   PAY_2           30000 non-null  int64  \n",
            " 8   PAY_3           30000 non-null  int64  \n",
            " 9   PAY_4           30000 non-null  int64  \n",
            " 10  PAY_5           30000 non-null  int64  \n",
            " 11  PAY_6           30000 non-null  int64  \n",
            " 12  BILL_AMT1       30000 non-null  float64\n",
            " 13  BILL_AMT2       30000 non-null  float64\n",
            " 14  BILL_AMT3       30000 non-null  float64\n",
            " 15  BILL_AMT4       30000 non-null  float64\n",
            " 16  BILL_AMT5       30000 non-null  float64\n",
            " 17  BILL_AMT6       30000 non-null  float64\n",
            " 18  PAY_AMT1        30000 non-null  float64\n",
            " 19  PAY_AMT2        30000 non-null  float64\n",
            " 20  PAY_AMT3        30000 non-null  float64\n",
            " 21  PAY_AMT4        30000 non-null  float64\n",
            " 22  PAY_AMT5        30000 non-null  float64\n",
            " 23  PAY_AMT6        30000 non-null  float64\n",
            " 24  DEF_NEXT_MONTH  30000 non-null  int64  \n",
            "dtypes: float64(13), int64(12)\n",
            "memory usage: 5.7 MB\n"
          ]
        }
      ]
    },
    {
      "cell_type": "markdown",
      "source": [
        "### **Veficar dados estranhos no dataframe:**\n"
      ],
      "metadata": {
        "id": "taeT_gNoEHPU"
      }
    },
    {
      "cell_type": "code",
      "source": [
        "for col in df.columns:\n",
        "    print(f\"Coluna: {col}\")\n",
        "    print(df[col].unique())\n",
        "    print(\"-\" * 30)"
      ],
      "metadata": {
        "colab": {
          "base_uri": "https://localhost:8080/"
        },
        "id": "74svQu-EEk6J",
        "outputId": "1179c4d9-8b18-44cf-eca7-d92d44fa948c"
      },
      "execution_count": null,
      "outputs": [
        {
          "output_type": "stream",
          "name": "stdout",
          "text": [
            "Coluna: ID\n",
            "[    1     2     3 ... 29998 29999 30000]\n",
            "------------------------------\n",
            "Coluna: LIMIT_BAL\n",
            "[  20000.  120000.   90000.   50000.  500000.  100000.  140000.  200000.\n",
            "  260000.  630000.   70000.  250000.  320000.  360000.  180000.  130000.\n",
            "  450000.   60000.  230000.  160000.  280000.   10000.   40000.  210000.\n",
            "  150000.  380000.  310000.  400000.   80000.  290000.  340000.  300000.\n",
            "   30000.  240000.  470000.  480000.  350000.  330000.  110000.  420000.\n",
            "  170000.  370000.  270000.  220000.  190000.  510000.  460000.  440000.\n",
            "  410000.  490000.  390000.  580000.  600000.  620000.  610000.  700000.\n",
            "  670000.  680000.  430000.  550000.  540000. 1000000.  530000.  710000.\n",
            "  560000.  520000.  750000.  640000.   16000.  570000.  590000.  660000.\n",
            "  720000.  327680.  740000.  800000.  760000.  690000.  650000.  780000.\n",
            "  730000.]\n",
            "------------------------------\n",
            "Coluna: SEX\n",
            "[2 1]\n",
            "------------------------------\n",
            "Coluna: EDUCATION\n",
            "[2 1 3 5 4 6 0]\n",
            "------------------------------\n",
            "Coluna: MARRIAGE\n",
            "[1 2 3 0]\n",
            "------------------------------\n",
            "Coluna: AGE\n",
            "[24 26 34 37 57 29 23 28 35 51 41 30 49 39 40 27 47 33 32 54 58 22 25 31\n",
            " 46 42 43 45 56 44 53 38 63 36 52 48 55 60 50 75 61 73 59 21 67 66 62 70\n",
            " 72 64 65 71 69 68 79 74]\n",
            "------------------------------\n",
            "Coluna: PAY_1\n",
            "[ 2 -1  0 -2  1  3  4  8  7  5  6]\n",
            "------------------------------\n",
            "Coluna: PAY_2\n",
            "[ 2  0 -1 -2  3  5  7  4  1  6  8]\n",
            "------------------------------\n",
            "Coluna: PAY_3\n",
            "[-1  0  2 -2  3  4  6  7  1  5  8]\n",
            "------------------------------\n",
            "Coluna: PAY_4\n",
            "[-1  0 -2  2  3  4  5  7  6  1  8]\n",
            "------------------------------\n",
            "Coluna: PAY_5\n",
            "[-2  0 -1  2  3  5  4  7  8  6]\n",
            "------------------------------\n",
            "Coluna: PAY_6\n",
            "[-2  2  0 -1  3  6  4  7  8  5]\n",
            "------------------------------\n",
            "Coluna: BILL_AMT1\n",
            "[ 3913.  2682. 29239. ...  1683. -1645. 47929.]\n",
            "------------------------------\n",
            "Coluna: BILL_AMT2\n",
            "[ 3102.  1725. 14027. ...  3356. 78379. 48905.]\n",
            "------------------------------\n",
            "Coluna: BILL_AMT3\n",
            "[  689.  2682. 13559. ...  2758. 76304. 49764.]\n",
            "------------------------------\n",
            "Coluna: BILL_AMT4\n",
            "[    0.  3272. 14331. ... 20878. 52774. 36535.]\n",
            "------------------------------\n",
            "Coluna: BILL_AMT5\n",
            "[    0.  3455. 14948. ... 31237.  5190. 32428.]\n",
            "------------------------------\n",
            "Coluna: BILL_AMT6\n",
            "[    0.  3261. 15549. ... 19357. 48944. 15313.]\n",
            "------------------------------\n",
            "Coluna: PAY_AMT1\n",
            "[    0.  1518.  2000. ... 10029.  9054. 85900.]\n",
            "------------------------------\n",
            "Coluna: PAY_AMT2\n",
            "[   689.   1000.   1500. ...   2977. 111784.   3526.]\n",
            "------------------------------\n",
            "Coluna: PAY_AMT3\n",
            "[     0.   1000.   1200. ... 349395.   8907.  25128.]\n",
            "------------------------------\n",
            "Coluna: PAY_AMT4\n",
            "[    0.  1000.  1100. ...  2556. 10115.  8049.]\n",
            "------------------------------\n",
            "Coluna: PAY_AMT5\n",
            "[    0.  1000.  1069. ...  8040.  3319. 52964.]\n",
            "------------------------------\n",
            "Coluna: PAY_AMT6\n",
            "[     0.   2000.   5000. ...  70052. 220076.  16080.]\n",
            "------------------------------\n",
            "Coluna: DEF_NEXT_MONTH\n",
            "[1 0]\n",
            "------------------------------\n"
          ]
        }
      ]
    },
    {
      "cell_type": "markdown",
      "source": [
        "### Limpando dados inválidos"
      ],
      "metadata": {
        "id": "MOd5Yl-tGiEc"
      }
    },
    {
      "cell_type": "markdown",
      "source": [
        "EDUCATION: 0 não existe na documentação e 5 e 6 são desconhecidos, subtituir para 4 (outros)\n",
        "\n",
        "MARIAGE: 0 não existe, substituir para 3 (outros\n",
        ")"
      ],
      "metadata": {
        "id": "ReLI9h6ZRnea"
      }
    },
    {
      "cell_type": "code",
      "source": [
        "# Corrigir valores incorretos em 'EDUCATION'\n",
        "df[\"EDUCATION\"] = df[\"EDUCATION\"].replace({0: 4, 5: 4, 6: 4})\n",
        "\n",
        "# Corrigir valores incorretos em 'MARRIAGE'\n",
        "df[\"MARRIAGE\"] = df[\"MARRIAGE\"].replace({0: 3})\n",
        "\n",
        "#Verificar\n",
        "for col in ['MARRIAGE', 'EDUCATION']:\n",
        "    print(f\"Coluna: {col}\")\n",
        "    print(df[col].unique())\n",
        "    print(\"-\" * 30)"
      ],
      "metadata": {
        "colab": {
          "base_uri": "https://localhost:8080/"
        },
        "id": "_o6Y6SHERnGk",
        "outputId": "e4e56b7c-6900-41d8-bee2-99c073dabce4"
      },
      "execution_count": null,
      "outputs": [
        {
          "output_type": "stream",
          "name": "stdout",
          "text": [
            "Coluna: MARRIAGE\n",
            "[1 2 3]\n",
            "------------------------------\n",
            "Coluna: EDUCATION\n",
            "[2 1 3 4]\n",
            "------------------------------\n"
          ]
        }
      ]
    },
    {
      "cell_type": "markdown",
      "source": [
        "A coluna PAY_[n] contem numeros negativos, que sugere que o cliente pagou antecipadamente. Mas além de não estar documentado, pode atrapalhar o processo de aprendizado de máquina."
      ],
      "metadata": {
        "id": "UKO61xzMXGQ6"
      }
    },
    {
      "cell_type": "code",
      "source": [
        "#Corrigir valores negativos\n",
        "pay_status_cols = [\"PAY_1\", \"PAY_2\", \"PAY_3\", \"PAY_4\", \"PAY_5\", \"PAY_6\"]\n",
        "for col in pay_status_cols:\n",
        "    df[col] = df[col].apply(lambda x: 0 if x < 0 else x)\n",
        "#Verificar\n",
        "for col in [\"PAY_1\", \"PAY_2\", \"PAY_3\", \"PAY_4\", \"PAY_5\", \"PAY_6\"]:\n",
        "    print(f\"Coluna: {col}\")\n",
        "    print(df[col].unique())\n",
        "    print(\"-\" * 30)\n"
      ],
      "metadata": {
        "colab": {
          "base_uri": "https://localhost:8080/"
        },
        "id": "2GH4QsuJZhuY",
        "outputId": "2fbc1f19-5f0b-4f0f-d128-044aed74e2df"
      },
      "execution_count": null,
      "outputs": [
        {
          "output_type": "stream",
          "name": "stdout",
          "text": [
            "Coluna: PAY_1\n",
            "[2 0 1 3 4 8 7 5 6]\n",
            "------------------------------\n",
            "Coluna: PAY_2\n",
            "[2 0 3 5 7 4 1 6 8]\n",
            "------------------------------\n",
            "Coluna: PAY_3\n",
            "[0 2 3 4 6 7 1 5 8]\n",
            "------------------------------\n",
            "Coluna: PAY_4\n",
            "[0 2 3 4 5 7 6 1 8]\n",
            "------------------------------\n",
            "Coluna: PAY_5\n",
            "[0 2 3 5 4 7 8 6]\n",
            "------------------------------\n",
            "Coluna: PAY_6\n",
            "[0 2 3 6 4 7 8 5]\n",
            "------------------------------\n"
          ]
        }
      ]
    },
    {
      "cell_type": "markdown",
      "source": [
        "O dados em PAY_AMT[n] e BILL_AMT[n] precisam ser normalizados para maior precisão nas próximas etapas."
      ],
      "metadata": {
        "id": "s622zbwpou1j"
      }
    },
    {
      "cell_type": "code",
      "source": [
        "df[['PAY_AMT1', 'PAY_AMT2', 'PAY_AMT3', 'PAY_AMT4', 'PAY_AMT5', 'PAY_AMT6']].describe()"
      ],
      "metadata": {
        "colab": {
          "base_uri": "https://localhost:8080/",
          "height": 300
        },
        "id": "T84NeNRscX-f",
        "outputId": "35f2e371-0f0a-48a6-ed6a-03cbce6cd10d"
      },
      "execution_count": null,
      "outputs": [
        {
          "output_type": "execute_result",
          "data": {
            "text/plain": [
              "            PAY_AMT1      PAY_AMT2      PAY_AMT3       PAY_AMT4  \\\n",
              "count   30000.000000  3.000000e+04   30000.00000   30000.000000   \n",
              "mean     5663.580500  5.921163e+03    5225.68150    4826.076867   \n",
              "std     16563.280354  2.304087e+04   17606.96147   15666.159744   \n",
              "min         0.000000  0.000000e+00       0.00000       0.000000   \n",
              "25%      1000.000000  8.330000e+02     390.00000     296.000000   \n",
              "50%      2100.000000  2.009000e+03    1800.00000    1500.000000   \n",
              "75%      5006.000000  5.000000e+03    4505.00000    4013.250000   \n",
              "max    873552.000000  1.684259e+06  896040.00000  621000.000000   \n",
              "\n",
              "            PAY_AMT5       PAY_AMT6  \n",
              "count   30000.000000   30000.000000  \n",
              "mean     4799.387633    5215.502567  \n",
              "std     15278.305679   17777.465775  \n",
              "min         0.000000       0.000000  \n",
              "25%       252.500000     117.750000  \n",
              "50%      1500.000000    1500.000000  \n",
              "75%      4031.500000    4000.000000  \n",
              "max    426529.000000  528666.000000  "
            ],
            "text/html": [
              "\n",
              "  <div id=\"df-e85e33dc-6878-433b-8a24-0ed3670b5670\" class=\"colab-df-container\">\n",
              "    <div>\n",
              "<style scoped>\n",
              "    .dataframe tbody tr th:only-of-type {\n",
              "        vertical-align: middle;\n",
              "    }\n",
              "\n",
              "    .dataframe tbody tr th {\n",
              "        vertical-align: top;\n",
              "    }\n",
              "\n",
              "    .dataframe thead th {\n",
              "        text-align: right;\n",
              "    }\n",
              "</style>\n",
              "<table border=\"1\" class=\"dataframe\">\n",
              "  <thead>\n",
              "    <tr style=\"text-align: right;\">\n",
              "      <th></th>\n",
              "      <th>PAY_AMT1</th>\n",
              "      <th>PAY_AMT2</th>\n",
              "      <th>PAY_AMT3</th>\n",
              "      <th>PAY_AMT4</th>\n",
              "      <th>PAY_AMT5</th>\n",
              "      <th>PAY_AMT6</th>\n",
              "    </tr>\n",
              "  </thead>\n",
              "  <tbody>\n",
              "    <tr>\n",
              "      <th>count</th>\n",
              "      <td>30000.000000</td>\n",
              "      <td>3.000000e+04</td>\n",
              "      <td>30000.00000</td>\n",
              "      <td>30000.000000</td>\n",
              "      <td>30000.000000</td>\n",
              "      <td>30000.000000</td>\n",
              "    </tr>\n",
              "    <tr>\n",
              "      <th>mean</th>\n",
              "      <td>5663.580500</td>\n",
              "      <td>5.921163e+03</td>\n",
              "      <td>5225.68150</td>\n",
              "      <td>4826.076867</td>\n",
              "      <td>4799.387633</td>\n",
              "      <td>5215.502567</td>\n",
              "    </tr>\n",
              "    <tr>\n",
              "      <th>std</th>\n",
              "      <td>16563.280354</td>\n",
              "      <td>2.304087e+04</td>\n",
              "      <td>17606.96147</td>\n",
              "      <td>15666.159744</td>\n",
              "      <td>15278.305679</td>\n",
              "      <td>17777.465775</td>\n",
              "    </tr>\n",
              "    <tr>\n",
              "      <th>min</th>\n",
              "      <td>0.000000</td>\n",
              "      <td>0.000000e+00</td>\n",
              "      <td>0.00000</td>\n",
              "      <td>0.000000</td>\n",
              "      <td>0.000000</td>\n",
              "      <td>0.000000</td>\n",
              "    </tr>\n",
              "    <tr>\n",
              "      <th>25%</th>\n",
              "      <td>1000.000000</td>\n",
              "      <td>8.330000e+02</td>\n",
              "      <td>390.00000</td>\n",
              "      <td>296.000000</td>\n",
              "      <td>252.500000</td>\n",
              "      <td>117.750000</td>\n",
              "    </tr>\n",
              "    <tr>\n",
              "      <th>50%</th>\n",
              "      <td>2100.000000</td>\n",
              "      <td>2.009000e+03</td>\n",
              "      <td>1800.00000</td>\n",
              "      <td>1500.000000</td>\n",
              "      <td>1500.000000</td>\n",
              "      <td>1500.000000</td>\n",
              "    </tr>\n",
              "    <tr>\n",
              "      <th>75%</th>\n",
              "      <td>5006.000000</td>\n",
              "      <td>5.000000e+03</td>\n",
              "      <td>4505.00000</td>\n",
              "      <td>4013.250000</td>\n",
              "      <td>4031.500000</td>\n",
              "      <td>4000.000000</td>\n",
              "    </tr>\n",
              "    <tr>\n",
              "      <th>max</th>\n",
              "      <td>873552.000000</td>\n",
              "      <td>1.684259e+06</td>\n",
              "      <td>896040.00000</td>\n",
              "      <td>621000.000000</td>\n",
              "      <td>426529.000000</td>\n",
              "      <td>528666.000000</td>\n",
              "    </tr>\n",
              "  </tbody>\n",
              "</table>\n",
              "</div>\n",
              "    <div class=\"colab-df-buttons\">\n",
              "\n",
              "  <div class=\"colab-df-container\">\n",
              "    <button class=\"colab-df-convert\" onclick=\"convertToInteractive('df-e85e33dc-6878-433b-8a24-0ed3670b5670')\"\n",
              "            title=\"Convert this dataframe to an interactive table.\"\n",
              "            style=\"display:none;\">\n",
              "\n",
              "  <svg xmlns=\"http://www.w3.org/2000/svg\" height=\"24px\" viewBox=\"0 -960 960 960\">\n",
              "    <path d=\"M120-120v-720h720v720H120Zm60-500h600v-160H180v160Zm220 220h160v-160H400v160Zm0 220h160v-160H400v160ZM180-400h160v-160H180v160Zm440 0h160v-160H620v160ZM180-180h160v-160H180v160Zm440 0h160v-160H620v160Z\"/>\n",
              "  </svg>\n",
              "    </button>\n",
              "\n",
              "  <style>\n",
              "    .colab-df-container {\n",
              "      display:flex;\n",
              "      gap: 12px;\n",
              "    }\n",
              "\n",
              "    .colab-df-convert {\n",
              "      background-color: #E8F0FE;\n",
              "      border: none;\n",
              "      border-radius: 50%;\n",
              "      cursor: pointer;\n",
              "      display: none;\n",
              "      fill: #1967D2;\n",
              "      height: 32px;\n",
              "      padding: 0 0 0 0;\n",
              "      width: 32px;\n",
              "    }\n",
              "\n",
              "    .colab-df-convert:hover {\n",
              "      background-color: #E2EBFA;\n",
              "      box-shadow: 0px 1px 2px rgba(60, 64, 67, 0.3), 0px 1px 3px 1px rgba(60, 64, 67, 0.15);\n",
              "      fill: #174EA6;\n",
              "    }\n",
              "\n",
              "    .colab-df-buttons div {\n",
              "      margin-bottom: 4px;\n",
              "    }\n",
              "\n",
              "    [theme=dark] .colab-df-convert {\n",
              "      background-color: #3B4455;\n",
              "      fill: #D2E3FC;\n",
              "    }\n",
              "\n",
              "    [theme=dark] .colab-df-convert:hover {\n",
              "      background-color: #434B5C;\n",
              "      box-shadow: 0px 1px 3px 1px rgba(0, 0, 0, 0.15);\n",
              "      filter: drop-shadow(0px 1px 2px rgba(0, 0, 0, 0.3));\n",
              "      fill: #FFFFFF;\n",
              "    }\n",
              "  </style>\n",
              "\n",
              "    <script>\n",
              "      const buttonEl =\n",
              "        document.querySelector('#df-e85e33dc-6878-433b-8a24-0ed3670b5670 button.colab-df-convert');\n",
              "      buttonEl.style.display =\n",
              "        google.colab.kernel.accessAllowed ? 'block' : 'none';\n",
              "\n",
              "      async function convertToInteractive(key) {\n",
              "        const element = document.querySelector('#df-e85e33dc-6878-433b-8a24-0ed3670b5670');\n",
              "        const dataTable =\n",
              "          await google.colab.kernel.invokeFunction('convertToInteractive',\n",
              "                                                    [key], {});\n",
              "        if (!dataTable) return;\n",
              "\n",
              "        const docLinkHtml = 'Like what you see? Visit the ' +\n",
              "          '<a target=\"_blank\" href=https://colab.research.google.com/notebooks/data_table.ipynb>data table notebook</a>'\n",
              "          + ' to learn more about interactive tables.';\n",
              "        element.innerHTML = '';\n",
              "        dataTable['output_type'] = 'display_data';\n",
              "        await google.colab.output.renderOutput(dataTable, element);\n",
              "        const docLink = document.createElement('div');\n",
              "        docLink.innerHTML = docLinkHtml;\n",
              "        element.appendChild(docLink);\n",
              "      }\n",
              "    </script>\n",
              "  </div>\n",
              "\n",
              "\n",
              "    <div id=\"df-e1be285d-c743-4dd7-af8c-b428f608ef65\">\n",
              "      <button class=\"colab-df-quickchart\" onclick=\"quickchart('df-e1be285d-c743-4dd7-af8c-b428f608ef65')\"\n",
              "                title=\"Suggest charts\"\n",
              "                style=\"display:none;\">\n",
              "\n",
              "<svg xmlns=\"http://www.w3.org/2000/svg\" height=\"24px\"viewBox=\"0 0 24 24\"\n",
              "     width=\"24px\">\n",
              "    <g>\n",
              "        <path d=\"M19 3H5c-1.1 0-2 .9-2 2v14c0 1.1.9 2 2 2h14c1.1 0 2-.9 2-2V5c0-1.1-.9-2-2-2zM9 17H7v-7h2v7zm4 0h-2V7h2v10zm4 0h-2v-4h2v4z\"/>\n",
              "    </g>\n",
              "</svg>\n",
              "      </button>\n",
              "\n",
              "<style>\n",
              "  .colab-df-quickchart {\n",
              "      --bg-color: #E8F0FE;\n",
              "      --fill-color: #1967D2;\n",
              "      --hover-bg-color: #E2EBFA;\n",
              "      --hover-fill-color: #174EA6;\n",
              "      --disabled-fill-color: #AAA;\n",
              "      --disabled-bg-color: #DDD;\n",
              "  }\n",
              "\n",
              "  [theme=dark] .colab-df-quickchart {\n",
              "      --bg-color: #3B4455;\n",
              "      --fill-color: #D2E3FC;\n",
              "      --hover-bg-color: #434B5C;\n",
              "      --hover-fill-color: #FFFFFF;\n",
              "      --disabled-bg-color: #3B4455;\n",
              "      --disabled-fill-color: #666;\n",
              "  }\n",
              "\n",
              "  .colab-df-quickchart {\n",
              "    background-color: var(--bg-color);\n",
              "    border: none;\n",
              "    border-radius: 50%;\n",
              "    cursor: pointer;\n",
              "    display: none;\n",
              "    fill: var(--fill-color);\n",
              "    height: 32px;\n",
              "    padding: 0;\n",
              "    width: 32px;\n",
              "  }\n",
              "\n",
              "  .colab-df-quickchart:hover {\n",
              "    background-color: var(--hover-bg-color);\n",
              "    box-shadow: 0 1px 2px rgba(60, 64, 67, 0.3), 0 1px 3px 1px rgba(60, 64, 67, 0.15);\n",
              "    fill: var(--button-hover-fill-color);\n",
              "  }\n",
              "\n",
              "  .colab-df-quickchart-complete:disabled,\n",
              "  .colab-df-quickchart-complete:disabled:hover {\n",
              "    background-color: var(--disabled-bg-color);\n",
              "    fill: var(--disabled-fill-color);\n",
              "    box-shadow: none;\n",
              "  }\n",
              "\n",
              "  .colab-df-spinner {\n",
              "    border: 2px solid var(--fill-color);\n",
              "    border-color: transparent;\n",
              "    border-bottom-color: var(--fill-color);\n",
              "    animation:\n",
              "      spin 1s steps(1) infinite;\n",
              "  }\n",
              "\n",
              "  @keyframes spin {\n",
              "    0% {\n",
              "      border-color: transparent;\n",
              "      border-bottom-color: var(--fill-color);\n",
              "      border-left-color: var(--fill-color);\n",
              "    }\n",
              "    20% {\n",
              "      border-color: transparent;\n",
              "      border-left-color: var(--fill-color);\n",
              "      border-top-color: var(--fill-color);\n",
              "    }\n",
              "    30% {\n",
              "      border-color: transparent;\n",
              "      border-left-color: var(--fill-color);\n",
              "      border-top-color: var(--fill-color);\n",
              "      border-right-color: var(--fill-color);\n",
              "    }\n",
              "    40% {\n",
              "      border-color: transparent;\n",
              "      border-right-color: var(--fill-color);\n",
              "      border-top-color: var(--fill-color);\n",
              "    }\n",
              "    60% {\n",
              "      border-color: transparent;\n",
              "      border-right-color: var(--fill-color);\n",
              "    }\n",
              "    80% {\n",
              "      border-color: transparent;\n",
              "      border-right-color: var(--fill-color);\n",
              "      border-bottom-color: var(--fill-color);\n",
              "    }\n",
              "    90% {\n",
              "      border-color: transparent;\n",
              "      border-bottom-color: var(--fill-color);\n",
              "    }\n",
              "  }\n",
              "</style>\n",
              "\n",
              "      <script>\n",
              "        async function quickchart(key) {\n",
              "          const quickchartButtonEl =\n",
              "            document.querySelector('#' + key + ' button');\n",
              "          quickchartButtonEl.disabled = true;  // To prevent multiple clicks.\n",
              "          quickchartButtonEl.classList.add('colab-df-spinner');\n",
              "          try {\n",
              "            const charts = await google.colab.kernel.invokeFunction(\n",
              "                'suggestCharts', [key], {});\n",
              "          } catch (error) {\n",
              "            console.error('Error during call to suggestCharts:', error);\n",
              "          }\n",
              "          quickchartButtonEl.classList.remove('colab-df-spinner');\n",
              "          quickchartButtonEl.classList.add('colab-df-quickchart-complete');\n",
              "        }\n",
              "        (() => {\n",
              "          let quickchartButtonEl =\n",
              "            document.querySelector('#df-e1be285d-c743-4dd7-af8c-b428f608ef65 button');\n",
              "          quickchartButtonEl.style.display =\n",
              "            google.colab.kernel.accessAllowed ? 'block' : 'none';\n",
              "        })();\n",
              "      </script>\n",
              "    </div>\n",
              "\n",
              "    </div>\n",
              "  </div>\n"
            ],
            "application/vnd.google.colaboratory.intrinsic+json": {
              "type": "dataframe",
              "summary": "{\n  \"name\": \"df[['PAY_AMT1', 'PAY_AMT2', 'PAY_AMT3', 'PAY_AMT4', 'PAY_AMT5', 'PAY_AMT6']]\",\n  \"rows\": 8,\n  \"fields\": [\n    {\n      \"column\": \"PAY_AMT1\",\n      \"properties\": {\n        \"dtype\": \"number\",\n        \"std\": 305967.4045369686,\n        \"min\": 0.0,\n        \"max\": 873552.0,\n        \"num_unique_values\": 8,\n        \"samples\": [\n          5663.5805,\n          2100.0,\n          30000.0\n        ],\n        \"semantic_type\": \"\",\n        \"description\": \"\"\n      }\n    },\n    {\n      \"column\": \"PAY_AMT2\",\n      \"properties\": {\n        \"dtype\": \"number\",\n        \"std\": 592204.8791652374,\n        \"min\": 0.0,\n        \"max\": 1684259.0,\n        \"num_unique_values\": 8,\n        \"samples\": [\n          5921.1635,\n          2009.0,\n          30000.0\n        ],\n        \"semantic_type\": \"\",\n        \"description\": \"\"\n      }\n    },\n    {\n      \"column\": \"PAY_AMT3\",\n      \"properties\": {\n        \"dtype\": \"number\",\n        \"std\": 313963.14422646584,\n        \"min\": 0.0,\n        \"max\": 896040.0,\n        \"num_unique_values\": 8,\n        \"samples\": [\n          5225.6815,\n          1800.0,\n          30000.0\n        ],\n        \"semantic_type\": \"\",\n        \"description\": \"\"\n      }\n    },\n    {\n      \"column\": \"PAY_AMT4\",\n      \"properties\": {\n        \"dtype\": \"number\",\n        \"std\": 216954.899987459,\n        \"min\": 0.0,\n        \"max\": 621000.0,\n        \"num_unique_values\": 8,\n        \"samples\": [\n          4826.076866666666,\n          1500.0,\n          30000.0\n        ],\n        \"semantic_type\": \"\",\n        \"description\": \"\"\n      }\n    },\n    {\n      \"column\": \"PAY_AMT5\",\n      \"properties\": {\n        \"dtype\": \"number\",\n        \"std\": 148330.91273580966,\n        \"min\": 0.0,\n        \"max\": 426529.0,\n        \"num_unique_values\": 8,\n        \"samples\": [\n          4799.387633333334,\n          1500.0,\n          30000.0\n        ],\n        \"semantic_type\": \"\",\n        \"description\": \"\"\n      }\n    },\n    {\n      \"column\": \"PAY_AMT6\",\n      \"properties\": {\n        \"dtype\": \"number\",\n        \"std\": 184250.4119743984,\n        \"min\": 0.0,\n        \"max\": 528666.0,\n        \"num_unique_values\": 8,\n        \"samples\": [\n          5215.502566666667,\n          1500.0,\n          30000.0\n        ],\n        \"semantic_type\": \"\",\n        \"description\": \"\"\n      }\n    }\n  ]\n}"
            }
          },
          "metadata": {},
          "execution_count": 131
        }
      ]
    },
    {
      "cell_type": "code",
      "source": [
        "#Normalização dos dados\n",
        "scaler = StandardScaler()\n",
        "bill_amt_cols = [f\"BILL_AMT{i}\" for i in range(1, 7)]\n",
        "pay_amt_cols = [f\"PAY_AMT{i}\" for i in range(1, 7)]\n",
        "df[bill_amt_cols + pay_amt_cols] = scaler.fit_transform(df[bill_amt_cols + pay_amt_cols])\n",
        "\n",
        "\n"
      ],
      "metadata": {
        "id": "4TMnNCAMnBf6"
      },
      "execution_count": null,
      "outputs": []
    },
    {
      "cell_type": "code",
      "source": [
        "df[bill_amt_cols + pay_amt_cols].describe()\n"
      ],
      "metadata": {
        "colab": {
          "base_uri": "https://localhost:8080/",
          "height": 300
        },
        "id": "6PPUamyWmkDC",
        "outputId": "51120a18-d9fd-4257-f4d3-e73a2d080228"
      },
      "execution_count": null,
      "outputs": [
        {
          "output_type": "execute_result",
          "data": {
            "text/plain": [
              "          BILL_AMT1     BILL_AMT2     BILL_AMT3     BILL_AMT4     BILL_AMT5  \\\n",
              "count  3.000000e+04  3.000000e+04  3.000000e+04  3.000000e+04  3.000000e+04   \n",
              "mean  -1.231607e-17 -3.789561e-17  6.252776e-17  5.873820e-17 -2.368476e-17   \n",
              "std    1.000017e+00  1.000017e+00  1.000017e+00  1.000017e+00  1.000017e+00   \n",
              "min   -2.944312e+00 -1.671375e+00 -2.945672e+00 -3.315048e+00 -2.000874e+00   \n",
              "25%   -6.473120e-01 -6.490466e-01 -6.394814e-01 -6.363293e-01 -6.340600e-01   \n",
              "50%   -3.916884e-01 -3.931159e-01 -3.882529e-01 -3.763451e-01 -3.652683e-01   \n",
              "75%    2.154919e-01  2.083271e-01  1.896457e-01  1.747667e-01  1.624955e-01   \n",
              "max    1.240296e+01  1.313360e+01  2.331820e+01  1.318669e+01  1.458743e+01   \n",
              "\n",
              "          BILL_AMT6      PAY_AMT1      PAY_AMT2      PAY_AMT3      PAY_AMT4  \\\n",
              "count  3.000000e+04  3.000000e+04  3.000000e+04  3.000000e+04  3.000000e+04   \n",
              "mean   1.136868e-17 -4.736952e-18  1.373716e-17  2.084259e-17  1.800042e-17   \n",
              "std    1.000017e+00  1.000017e+00  1.000017e+00  1.000017e+00  1.000017e+00   \n",
              "min   -6.355247e+00 -3.419416e-01 -2.569895e-01 -2.968013e-01 -3.080626e-01   \n",
              "25%   -6.316338e-01 -2.815661e-01 -2.208358e-01 -2.746506e-01 -2.891680e-01   \n",
              "50%   -3.660725e-01 -2.151530e-01 -1.697952e-01 -1.945673e-01 -2.123132e-01   \n",
              "75%    1.733997e-01 -3.970176e-02 -3.998021e-02 -4.093230e-02 -5.188511e-02   \n",
              "max    1.549528e+01  5.239921e+01  7.284299e+01  5.059528e+01  3.933218e+01   \n",
              "\n",
              "           PAY_AMT5      PAY_AMT6  \n",
              "count  3.000000e+04  3.000000e+04  \n",
              "mean  -1.965835e-17 -1.788199e-17  \n",
              "std    1.000017e+00  1.000017e+00  \n",
              "min   -3.141361e-01 -2.933821e-01  \n",
              "25%   -2.976091e-01 -2.867584e-01  \n",
              "50%   -2.159561e-01 -2.090042e-01  \n",
              "75%   -5.026084e-02 -6.837436e-02  \n",
              "max    2.760363e+01  2.944510e+01  "
            ],
            "text/html": [
              "\n",
              "  <div id=\"df-4262b12a-f2b7-4eb0-9fcc-e0ab197a4287\" class=\"colab-df-container\">\n",
              "    <div>\n",
              "<style scoped>\n",
              "    .dataframe tbody tr th:only-of-type {\n",
              "        vertical-align: middle;\n",
              "    }\n",
              "\n",
              "    .dataframe tbody tr th {\n",
              "        vertical-align: top;\n",
              "    }\n",
              "\n",
              "    .dataframe thead th {\n",
              "        text-align: right;\n",
              "    }\n",
              "</style>\n",
              "<table border=\"1\" class=\"dataframe\">\n",
              "  <thead>\n",
              "    <tr style=\"text-align: right;\">\n",
              "      <th></th>\n",
              "      <th>BILL_AMT1</th>\n",
              "      <th>BILL_AMT2</th>\n",
              "      <th>BILL_AMT3</th>\n",
              "      <th>BILL_AMT4</th>\n",
              "      <th>BILL_AMT5</th>\n",
              "      <th>BILL_AMT6</th>\n",
              "      <th>PAY_AMT1</th>\n",
              "      <th>PAY_AMT2</th>\n",
              "      <th>PAY_AMT3</th>\n",
              "      <th>PAY_AMT4</th>\n",
              "      <th>PAY_AMT5</th>\n",
              "      <th>PAY_AMT6</th>\n",
              "    </tr>\n",
              "  </thead>\n",
              "  <tbody>\n",
              "    <tr>\n",
              "      <th>count</th>\n",
              "      <td>3.000000e+04</td>\n",
              "      <td>3.000000e+04</td>\n",
              "      <td>3.000000e+04</td>\n",
              "      <td>3.000000e+04</td>\n",
              "      <td>3.000000e+04</td>\n",
              "      <td>3.000000e+04</td>\n",
              "      <td>3.000000e+04</td>\n",
              "      <td>3.000000e+04</td>\n",
              "      <td>3.000000e+04</td>\n",
              "      <td>3.000000e+04</td>\n",
              "      <td>3.000000e+04</td>\n",
              "      <td>3.000000e+04</td>\n",
              "    </tr>\n",
              "    <tr>\n",
              "      <th>mean</th>\n",
              "      <td>-1.231607e-17</td>\n",
              "      <td>-3.789561e-17</td>\n",
              "      <td>6.252776e-17</td>\n",
              "      <td>5.873820e-17</td>\n",
              "      <td>-2.368476e-17</td>\n",
              "      <td>1.136868e-17</td>\n",
              "      <td>-4.736952e-18</td>\n",
              "      <td>1.373716e-17</td>\n",
              "      <td>2.084259e-17</td>\n",
              "      <td>1.800042e-17</td>\n",
              "      <td>-1.965835e-17</td>\n",
              "      <td>-1.788199e-17</td>\n",
              "    </tr>\n",
              "    <tr>\n",
              "      <th>std</th>\n",
              "      <td>1.000017e+00</td>\n",
              "      <td>1.000017e+00</td>\n",
              "      <td>1.000017e+00</td>\n",
              "      <td>1.000017e+00</td>\n",
              "      <td>1.000017e+00</td>\n",
              "      <td>1.000017e+00</td>\n",
              "      <td>1.000017e+00</td>\n",
              "      <td>1.000017e+00</td>\n",
              "      <td>1.000017e+00</td>\n",
              "      <td>1.000017e+00</td>\n",
              "      <td>1.000017e+00</td>\n",
              "      <td>1.000017e+00</td>\n",
              "    </tr>\n",
              "    <tr>\n",
              "      <th>min</th>\n",
              "      <td>-2.944312e+00</td>\n",
              "      <td>-1.671375e+00</td>\n",
              "      <td>-2.945672e+00</td>\n",
              "      <td>-3.315048e+00</td>\n",
              "      <td>-2.000874e+00</td>\n",
              "      <td>-6.355247e+00</td>\n",
              "      <td>-3.419416e-01</td>\n",
              "      <td>-2.569895e-01</td>\n",
              "      <td>-2.968013e-01</td>\n",
              "      <td>-3.080626e-01</td>\n",
              "      <td>-3.141361e-01</td>\n",
              "      <td>-2.933821e-01</td>\n",
              "    </tr>\n",
              "    <tr>\n",
              "      <th>25%</th>\n",
              "      <td>-6.473120e-01</td>\n",
              "      <td>-6.490466e-01</td>\n",
              "      <td>-6.394814e-01</td>\n",
              "      <td>-6.363293e-01</td>\n",
              "      <td>-6.340600e-01</td>\n",
              "      <td>-6.316338e-01</td>\n",
              "      <td>-2.815661e-01</td>\n",
              "      <td>-2.208358e-01</td>\n",
              "      <td>-2.746506e-01</td>\n",
              "      <td>-2.891680e-01</td>\n",
              "      <td>-2.976091e-01</td>\n",
              "      <td>-2.867584e-01</td>\n",
              "    </tr>\n",
              "    <tr>\n",
              "      <th>50%</th>\n",
              "      <td>-3.916884e-01</td>\n",
              "      <td>-3.931159e-01</td>\n",
              "      <td>-3.882529e-01</td>\n",
              "      <td>-3.763451e-01</td>\n",
              "      <td>-3.652683e-01</td>\n",
              "      <td>-3.660725e-01</td>\n",
              "      <td>-2.151530e-01</td>\n",
              "      <td>-1.697952e-01</td>\n",
              "      <td>-1.945673e-01</td>\n",
              "      <td>-2.123132e-01</td>\n",
              "      <td>-2.159561e-01</td>\n",
              "      <td>-2.090042e-01</td>\n",
              "    </tr>\n",
              "    <tr>\n",
              "      <th>75%</th>\n",
              "      <td>2.154919e-01</td>\n",
              "      <td>2.083271e-01</td>\n",
              "      <td>1.896457e-01</td>\n",
              "      <td>1.747667e-01</td>\n",
              "      <td>1.624955e-01</td>\n",
              "      <td>1.733997e-01</td>\n",
              "      <td>-3.970176e-02</td>\n",
              "      <td>-3.998021e-02</td>\n",
              "      <td>-4.093230e-02</td>\n",
              "      <td>-5.188511e-02</td>\n",
              "      <td>-5.026084e-02</td>\n",
              "      <td>-6.837436e-02</td>\n",
              "    </tr>\n",
              "    <tr>\n",
              "      <th>max</th>\n",
              "      <td>1.240296e+01</td>\n",
              "      <td>1.313360e+01</td>\n",
              "      <td>2.331820e+01</td>\n",
              "      <td>1.318669e+01</td>\n",
              "      <td>1.458743e+01</td>\n",
              "      <td>1.549528e+01</td>\n",
              "      <td>5.239921e+01</td>\n",
              "      <td>7.284299e+01</td>\n",
              "      <td>5.059528e+01</td>\n",
              "      <td>3.933218e+01</td>\n",
              "      <td>2.760363e+01</td>\n",
              "      <td>2.944510e+01</td>\n",
              "    </tr>\n",
              "  </tbody>\n",
              "</table>\n",
              "</div>\n",
              "    <div class=\"colab-df-buttons\">\n",
              "\n",
              "  <div class=\"colab-df-container\">\n",
              "    <button class=\"colab-df-convert\" onclick=\"convertToInteractive('df-4262b12a-f2b7-4eb0-9fcc-e0ab197a4287')\"\n",
              "            title=\"Convert this dataframe to an interactive table.\"\n",
              "            style=\"display:none;\">\n",
              "\n",
              "  <svg xmlns=\"http://www.w3.org/2000/svg\" height=\"24px\" viewBox=\"0 -960 960 960\">\n",
              "    <path d=\"M120-120v-720h720v720H120Zm60-500h600v-160H180v160Zm220 220h160v-160H400v160Zm0 220h160v-160H400v160ZM180-400h160v-160H180v160Zm440 0h160v-160H620v160ZM180-180h160v-160H180v160Zm440 0h160v-160H620v160Z\"/>\n",
              "  </svg>\n",
              "    </button>\n",
              "\n",
              "  <style>\n",
              "    .colab-df-container {\n",
              "      display:flex;\n",
              "      gap: 12px;\n",
              "    }\n",
              "\n",
              "    .colab-df-convert {\n",
              "      background-color: #E8F0FE;\n",
              "      border: none;\n",
              "      border-radius: 50%;\n",
              "      cursor: pointer;\n",
              "      display: none;\n",
              "      fill: #1967D2;\n",
              "      height: 32px;\n",
              "      padding: 0 0 0 0;\n",
              "      width: 32px;\n",
              "    }\n",
              "\n",
              "    .colab-df-convert:hover {\n",
              "      background-color: #E2EBFA;\n",
              "      box-shadow: 0px 1px 2px rgba(60, 64, 67, 0.3), 0px 1px 3px 1px rgba(60, 64, 67, 0.15);\n",
              "      fill: #174EA6;\n",
              "    }\n",
              "\n",
              "    .colab-df-buttons div {\n",
              "      margin-bottom: 4px;\n",
              "    }\n",
              "\n",
              "    [theme=dark] .colab-df-convert {\n",
              "      background-color: #3B4455;\n",
              "      fill: #D2E3FC;\n",
              "    }\n",
              "\n",
              "    [theme=dark] .colab-df-convert:hover {\n",
              "      background-color: #434B5C;\n",
              "      box-shadow: 0px 1px 3px 1px rgba(0, 0, 0, 0.15);\n",
              "      filter: drop-shadow(0px 1px 2px rgba(0, 0, 0, 0.3));\n",
              "      fill: #FFFFFF;\n",
              "    }\n",
              "  </style>\n",
              "\n",
              "    <script>\n",
              "      const buttonEl =\n",
              "        document.querySelector('#df-4262b12a-f2b7-4eb0-9fcc-e0ab197a4287 button.colab-df-convert');\n",
              "      buttonEl.style.display =\n",
              "        google.colab.kernel.accessAllowed ? 'block' : 'none';\n",
              "\n",
              "      async function convertToInteractive(key) {\n",
              "        const element = document.querySelector('#df-4262b12a-f2b7-4eb0-9fcc-e0ab197a4287');\n",
              "        const dataTable =\n",
              "          await google.colab.kernel.invokeFunction('convertToInteractive',\n",
              "                                                    [key], {});\n",
              "        if (!dataTable) return;\n",
              "\n",
              "        const docLinkHtml = 'Like what you see? Visit the ' +\n",
              "          '<a target=\"_blank\" href=https://colab.research.google.com/notebooks/data_table.ipynb>data table notebook</a>'\n",
              "          + ' to learn more about interactive tables.';\n",
              "        element.innerHTML = '';\n",
              "        dataTable['output_type'] = 'display_data';\n",
              "        await google.colab.output.renderOutput(dataTable, element);\n",
              "        const docLink = document.createElement('div');\n",
              "        docLink.innerHTML = docLinkHtml;\n",
              "        element.appendChild(docLink);\n",
              "      }\n",
              "    </script>\n",
              "  </div>\n",
              "\n",
              "\n",
              "    <div id=\"df-acb42b63-6f9c-47b4-8d5a-1722a1163bef\">\n",
              "      <button class=\"colab-df-quickchart\" onclick=\"quickchart('df-acb42b63-6f9c-47b4-8d5a-1722a1163bef')\"\n",
              "                title=\"Suggest charts\"\n",
              "                style=\"display:none;\">\n",
              "\n",
              "<svg xmlns=\"http://www.w3.org/2000/svg\" height=\"24px\"viewBox=\"0 0 24 24\"\n",
              "     width=\"24px\">\n",
              "    <g>\n",
              "        <path d=\"M19 3H5c-1.1 0-2 .9-2 2v14c0 1.1.9 2 2 2h14c1.1 0 2-.9 2-2V5c0-1.1-.9-2-2-2zM9 17H7v-7h2v7zm4 0h-2V7h2v10zm4 0h-2v-4h2v4z\"/>\n",
              "    </g>\n",
              "</svg>\n",
              "      </button>\n",
              "\n",
              "<style>\n",
              "  .colab-df-quickchart {\n",
              "      --bg-color: #E8F0FE;\n",
              "      --fill-color: #1967D2;\n",
              "      --hover-bg-color: #E2EBFA;\n",
              "      --hover-fill-color: #174EA6;\n",
              "      --disabled-fill-color: #AAA;\n",
              "      --disabled-bg-color: #DDD;\n",
              "  }\n",
              "\n",
              "  [theme=dark] .colab-df-quickchart {\n",
              "      --bg-color: #3B4455;\n",
              "      --fill-color: #D2E3FC;\n",
              "      --hover-bg-color: #434B5C;\n",
              "      --hover-fill-color: #FFFFFF;\n",
              "      --disabled-bg-color: #3B4455;\n",
              "      --disabled-fill-color: #666;\n",
              "  }\n",
              "\n",
              "  .colab-df-quickchart {\n",
              "    background-color: var(--bg-color);\n",
              "    border: none;\n",
              "    border-radius: 50%;\n",
              "    cursor: pointer;\n",
              "    display: none;\n",
              "    fill: var(--fill-color);\n",
              "    height: 32px;\n",
              "    padding: 0;\n",
              "    width: 32px;\n",
              "  }\n",
              "\n",
              "  .colab-df-quickchart:hover {\n",
              "    background-color: var(--hover-bg-color);\n",
              "    box-shadow: 0 1px 2px rgba(60, 64, 67, 0.3), 0 1px 3px 1px rgba(60, 64, 67, 0.15);\n",
              "    fill: var(--button-hover-fill-color);\n",
              "  }\n",
              "\n",
              "  .colab-df-quickchart-complete:disabled,\n",
              "  .colab-df-quickchart-complete:disabled:hover {\n",
              "    background-color: var(--disabled-bg-color);\n",
              "    fill: var(--disabled-fill-color);\n",
              "    box-shadow: none;\n",
              "  }\n",
              "\n",
              "  .colab-df-spinner {\n",
              "    border: 2px solid var(--fill-color);\n",
              "    border-color: transparent;\n",
              "    border-bottom-color: var(--fill-color);\n",
              "    animation:\n",
              "      spin 1s steps(1) infinite;\n",
              "  }\n",
              "\n",
              "  @keyframes spin {\n",
              "    0% {\n",
              "      border-color: transparent;\n",
              "      border-bottom-color: var(--fill-color);\n",
              "      border-left-color: var(--fill-color);\n",
              "    }\n",
              "    20% {\n",
              "      border-color: transparent;\n",
              "      border-left-color: var(--fill-color);\n",
              "      border-top-color: var(--fill-color);\n",
              "    }\n",
              "    30% {\n",
              "      border-color: transparent;\n",
              "      border-left-color: var(--fill-color);\n",
              "      border-top-color: var(--fill-color);\n",
              "      border-right-color: var(--fill-color);\n",
              "    }\n",
              "    40% {\n",
              "      border-color: transparent;\n",
              "      border-right-color: var(--fill-color);\n",
              "      border-top-color: var(--fill-color);\n",
              "    }\n",
              "    60% {\n",
              "      border-color: transparent;\n",
              "      border-right-color: var(--fill-color);\n",
              "    }\n",
              "    80% {\n",
              "      border-color: transparent;\n",
              "      border-right-color: var(--fill-color);\n",
              "      border-bottom-color: var(--fill-color);\n",
              "    }\n",
              "    90% {\n",
              "      border-color: transparent;\n",
              "      border-bottom-color: var(--fill-color);\n",
              "    }\n",
              "  }\n",
              "</style>\n",
              "\n",
              "      <script>\n",
              "        async function quickchart(key) {\n",
              "          const quickchartButtonEl =\n",
              "            document.querySelector('#' + key + ' button');\n",
              "          quickchartButtonEl.disabled = true;  // To prevent multiple clicks.\n",
              "          quickchartButtonEl.classList.add('colab-df-spinner');\n",
              "          try {\n",
              "            const charts = await google.colab.kernel.invokeFunction(\n",
              "                'suggestCharts', [key], {});\n",
              "          } catch (error) {\n",
              "            console.error('Error during call to suggestCharts:', error);\n",
              "          }\n",
              "          quickchartButtonEl.classList.remove('colab-df-spinner');\n",
              "          quickchartButtonEl.classList.add('colab-df-quickchart-complete');\n",
              "        }\n",
              "        (() => {\n",
              "          let quickchartButtonEl =\n",
              "            document.querySelector('#df-acb42b63-6f9c-47b4-8d5a-1722a1163bef button');\n",
              "          quickchartButtonEl.style.display =\n",
              "            google.colab.kernel.accessAllowed ? 'block' : 'none';\n",
              "        })();\n",
              "      </script>\n",
              "    </div>\n",
              "\n",
              "    </div>\n",
              "  </div>\n"
            ],
            "application/vnd.google.colaboratory.intrinsic+json": {
              "type": "dataframe",
              "summary": "{\n  \"name\": \"df[bill_amt_cols + pay_amt_cols]\",\n  \"rows\": 8,\n  \"fields\": [\n    {\n      \"column\": \"BILL_AMT1\",\n      \"properties\": {\n        \"dtype\": \"number\",\n        \"std\": 10606.11608472479,\n        \"min\": -2.9443119518757164,\n        \"max\": 30000.0,\n        \"num_unique_values\": 8,\n        \"samples\": [\n          -1.2316074086508403e-17,\n          -0.39168838910513415,\n          30000.0\n        ],\n        \"semantic_type\": \"\",\n        \"description\": \"\"\n      }\n    },\n    {\n      \"column\": \"BILL_AMT2\",\n      \"properties\": {\n        \"dtype\": \"number\",\n        \"std\": 10606.015456115107,\n        \"min\": -1.6713750002611574,\n        \"max\": 30000.0,\n        \"num_unique_values\": 8,\n        \"samples\": [\n          -3.789561257387201e-17,\n          -0.3931159186151285,\n          30000.0\n        ],\n        \"semantic_type\": \"\",\n        \"description\": \"\"\n      }\n    },\n    {\n      \"column\": \"BILL_AMT3\",\n      \"properties\": {\n        \"dtype\": \"number\",\n        \"std\": 10605.567896787286,\n        \"min\": -2.94567215491687,\n        \"max\": 30000.0,\n        \"num_unique_values\": 8,\n        \"samples\": [\n          6.252776074688882e-17,\n          -0.3882529399959551,\n          30000.0\n        ],\n        \"semantic_type\": \"\",\n        \"description\": \"\"\n      }\n    },\n    {\n      \"column\": \"BILL_AMT4\",\n      \"properties\": {\n        \"dtype\": \"number\",\n        \"std\": 10606.096095886933,\n        \"min\": -3.315047959227435,\n        \"max\": 30000.0,\n        \"num_unique_values\": 8,\n        \"samples\": [\n          5.873819948950162e-17,\n          -0.3763450583038348,\n          30000.0\n        ],\n        \"semantic_type\": \"\",\n        \"description\": \"\"\n      }\n    },\n    {\n      \"column\": \"BILL_AMT5\",\n      \"properties\": {\n        \"dtype\": \"number\",\n        \"std\": 10605.95907276141,\n        \"min\": -2.0008736740970923,\n        \"max\": 30000.0,\n        \"num_unique_values\": 8,\n        \"samples\": [\n          -2.3684757858670008e-17,\n          -0.3652682565423103,\n          30000.0\n        ],\n        \"semantic_type\": \"\",\n        \"description\": \"\"\n      }\n    },\n    {\n      \"column\": \"BILL_AMT6\",\n      \"properties\": {\n        \"dtype\": \"number\",\n        \"std\": 10606.133017742442,\n        \"min\": -6.355247087480026,\n        \"max\": 30000.0,\n        \"num_unique_values\": 8,\n        \"samples\": [\n          1.1368683772161604e-17,\n          -0.36607254573731907,\n          30000.0\n        ],\n        \"semantic_type\": \"\",\n        \"description\": \"\"\n      }\n    },\n    {\n      \"column\": \"PAY_AMT1\",\n      \"properties\": {\n        \"dtype\": \"number\",\n        \"std\": 10603.964862255143,\n        \"min\": -0.34194161870789364,\n        \"max\": 30000.0,\n        \"num_unique_values\": 8,\n        \"samples\": [\n          -4.736951571734001e-18,\n          -0.21515302635247877,\n          30000.0\n        ],\n        \"semantic_type\": \"\",\n        \"description\": \"\"\n      }\n    },\n    {\n      \"column\": \"PAY_AMT2\",\n      \"properties\": {\n        \"dtype\": \"number\",\n        \"std\": 10602.93741485849,\n        \"min\": -0.2569895184166682,\n        \"max\": 30000.0,\n        \"num_unique_values\": 8,\n        \"samples\": [\n          1.3737159558028604e-17,\n          -0.16979517857128365,\n          30000.0\n        ],\n        \"semantic_type\": \"\",\n        \"description\": \"\"\n      }\n    },\n    {\n      \"column\": \"PAY_AMT3\",\n      \"properties\": {\n        \"dtype\": \"number\",\n        \"std\": 10604.05128817463,\n        \"min\": -0.296801274077391,\n        \"max\": 30000.0,\n        \"num_unique_values\": 8,\n        \"samples\": [\n          2.0842586915629606e-17,\n          -0.19456727965210813,\n          30000.0\n        ],\n        \"semantic_type\": \"\",\n        \"description\": \"\"\n      }\n    },\n    {\n      \"column\": \"PAY_AMT4\",\n      \"properties\": {\n        \"dtype\": \"number\",\n        \"std\": 10604.6170723351,\n        \"min\": -0.3080625617347319,\n        \"max\": 30000.0,\n        \"num_unique_values\": 8,\n        \"samples\": [\n          1.8000415972589204e-17,\n          -0.21231318695917795,\n          30000.0\n        ],\n        \"semantic_type\": \"\",\n        \"description\": \"\"\n      }\n    },\n    {\n      \"column\": \"PAY_AMT5\",\n      \"properties\": {\n        \"dtype\": \"number\",\n        \"std\": 10605.205760116723,\n        \"min\": -0.3141361173103375,\n        \"max\": 30000.0,\n        \"num_unique_values\": 8,\n        \"samples\": [\n          -1.9658349022696106e-17,\n          -0.21595605519307123,\n          30000.0\n        ],\n        \"semantic_type\": \"\",\n        \"description\": \"\"\n      }\n    },\n    {\n      \"column\": \"PAY_AMT6\",\n      \"properties\": {\n        \"dtype\": \"number\",\n        \"std\": 10605.11232401398,\n        \"min\": -0.2933820579246719,\n        \"max\": 30000.0,\n        \"num_unique_values\": 8,\n        \"samples\": [\n          -1.7881992183295854e-17,\n          -0.2090041707964776,\n          30000.0\n        ],\n        \"semantic_type\": \"\",\n        \"description\": \"\"\n      }\n    }\n  ]\n}"
            }
          },
          "metadata": {},
          "execution_count": 133
        }
      ]
    },
    {
      "cell_type": "code",
      "source": [
        "# Resultado final limpo\n",
        "df_cleaned = df.copy()\n"
      ],
      "metadata": {
        "id": "CBiiab-MQh7-"
      },
      "execution_count": null,
      "outputs": []
    },
    {
      "cell_type": "markdown",
      "source": [
        "# 2 Análise Exploratória (EDA)\n"
      ],
      "metadata": {
        "id": "IG0b0QcZoiFZ"
      }
    },
    {
      "cell_type": "markdown",
      "source": [
        "##2.1 Estatísticas descritivas"
      ],
      "metadata": {
        "id": "tuGEe5YMdfsm"
      }
    },
    {
      "cell_type": "markdown",
      "source": [
        "Primeiras 5 linhas da tabela"
      ],
      "metadata": {
        "id": "WdK2aNHdd_jw"
      }
    },
    {
      "cell_type": "code",
      "source": [
        "df.head()"
      ],
      "metadata": {
        "colab": {
          "base_uri": "https://localhost:8080/"
        },
        "id": "B0219G6DWuSX",
        "outputId": "56b41491-cf92-4454-febb-7dda1c0f060e"
      },
      "execution_count": null,
      "outputs": [
        {
          "output_type": "execute_result",
          "data": {
            "text/plain": [
              "   ID  LIMIT_BAL  SEX  EDUCATION  MARRIAGE  AGE  PAY_1  PAY_2  PAY_3  PAY_4  \\\n",
              "0   1    20000.0    2          2         1   24      2      2      0      0   \n",
              "1   2   120000.0    2          2         2   26      0      2      0      0   \n",
              "2   3    90000.0    2          2         2   34      0      0      0      0   \n",
              "3   4    50000.0    2          2         1   37      0      0      0      0   \n",
              "4   5    50000.0    1          2         1   57      0      0      0      0   \n",
              "\n",
              "   ...  BILL_AMT4  BILL_AMT5  BILL_AMT6  PAY_AMT1  PAY_AMT2  PAY_AMT3  \\\n",
              "0  ...  -0.672497  -0.663059  -0.652724 -0.341942 -0.227086 -0.296801   \n",
              "1  ...  -0.621636  -0.606229  -0.597966 -0.341942 -0.213588 -0.240005   \n",
              "2  ...  -0.449730  -0.417188  -0.391630 -0.250292 -0.191887 -0.240005   \n",
              "3  ...  -0.232373  -0.186729  -0.156579 -0.221191 -0.169361 -0.228645   \n",
              "4  ...  -0.346997  -0.348137  -0.331482 -0.221191  1.335034  0.271165   \n",
              "\n",
              "   PAY_AMT4  PAY_AMT5  PAY_AMT6  DEF_NEXT_MONTH  \n",
              "0 -0.308063 -0.314136 -0.293382               1  \n",
              "1 -0.244230 -0.314136 -0.180878               1  \n",
              "2 -0.244230 -0.248683 -0.012122               0  \n",
              "3 -0.237846 -0.244166 -0.237130               0  \n",
              "4  0.266434 -0.269039 -0.255187               0  \n",
              "\n",
              "[5 rows x 25 columns]"
            ],
            "text/html": [
              "\n",
              "  <div id=\"df-78168ac0-bf96-4d9b-9261-c16a979ce2ea\" class=\"colab-df-container\">\n",
              "    <div>\n",
              "<style scoped>\n",
              "    .dataframe tbody tr th:only-of-type {\n",
              "        vertical-align: middle;\n",
              "    }\n",
              "\n",
              "    .dataframe tbody tr th {\n",
              "        vertical-align: top;\n",
              "    }\n",
              "\n",
              "    .dataframe thead th {\n",
              "        text-align: right;\n",
              "    }\n",
              "</style>\n",
              "<table border=\"1\" class=\"dataframe\">\n",
              "  <thead>\n",
              "    <tr style=\"text-align: right;\">\n",
              "      <th></th>\n",
              "      <th>ID</th>\n",
              "      <th>LIMIT_BAL</th>\n",
              "      <th>SEX</th>\n",
              "      <th>EDUCATION</th>\n",
              "      <th>MARRIAGE</th>\n",
              "      <th>AGE</th>\n",
              "      <th>PAY_1</th>\n",
              "      <th>PAY_2</th>\n",
              "      <th>PAY_3</th>\n",
              "      <th>PAY_4</th>\n",
              "      <th>...</th>\n",
              "      <th>BILL_AMT4</th>\n",
              "      <th>BILL_AMT5</th>\n",
              "      <th>BILL_AMT6</th>\n",
              "      <th>PAY_AMT1</th>\n",
              "      <th>PAY_AMT2</th>\n",
              "      <th>PAY_AMT3</th>\n",
              "      <th>PAY_AMT4</th>\n",
              "      <th>PAY_AMT5</th>\n",
              "      <th>PAY_AMT6</th>\n",
              "      <th>DEF_NEXT_MONTH</th>\n",
              "    </tr>\n",
              "  </thead>\n",
              "  <tbody>\n",
              "    <tr>\n",
              "      <th>0</th>\n",
              "      <td>1</td>\n",
              "      <td>20000.0</td>\n",
              "      <td>2</td>\n",
              "      <td>2</td>\n",
              "      <td>1</td>\n",
              "      <td>24</td>\n",
              "      <td>2</td>\n",
              "      <td>2</td>\n",
              "      <td>0</td>\n",
              "      <td>0</td>\n",
              "      <td>...</td>\n",
              "      <td>-0.672497</td>\n",
              "      <td>-0.663059</td>\n",
              "      <td>-0.652724</td>\n",
              "      <td>-0.341942</td>\n",
              "      <td>-0.227086</td>\n",
              "      <td>-0.296801</td>\n",
              "      <td>-0.308063</td>\n",
              "      <td>-0.314136</td>\n",
              "      <td>-0.293382</td>\n",
              "      <td>1</td>\n",
              "    </tr>\n",
              "    <tr>\n",
              "      <th>1</th>\n",
              "      <td>2</td>\n",
              "      <td>120000.0</td>\n",
              "      <td>2</td>\n",
              "      <td>2</td>\n",
              "      <td>2</td>\n",
              "      <td>26</td>\n",
              "      <td>0</td>\n",
              "      <td>2</td>\n",
              "      <td>0</td>\n",
              "      <td>0</td>\n",
              "      <td>...</td>\n",
              "      <td>-0.621636</td>\n",
              "      <td>-0.606229</td>\n",
              "      <td>-0.597966</td>\n",
              "      <td>-0.341942</td>\n",
              "      <td>-0.213588</td>\n",
              "      <td>-0.240005</td>\n",
              "      <td>-0.244230</td>\n",
              "      <td>-0.314136</td>\n",
              "      <td>-0.180878</td>\n",
              "      <td>1</td>\n",
              "    </tr>\n",
              "    <tr>\n",
              "      <th>2</th>\n",
              "      <td>3</td>\n",
              "      <td>90000.0</td>\n",
              "      <td>2</td>\n",
              "      <td>2</td>\n",
              "      <td>2</td>\n",
              "      <td>34</td>\n",
              "      <td>0</td>\n",
              "      <td>0</td>\n",
              "      <td>0</td>\n",
              "      <td>0</td>\n",
              "      <td>...</td>\n",
              "      <td>-0.449730</td>\n",
              "      <td>-0.417188</td>\n",
              "      <td>-0.391630</td>\n",
              "      <td>-0.250292</td>\n",
              "      <td>-0.191887</td>\n",
              "      <td>-0.240005</td>\n",
              "      <td>-0.244230</td>\n",
              "      <td>-0.248683</td>\n",
              "      <td>-0.012122</td>\n",
              "      <td>0</td>\n",
              "    </tr>\n",
              "    <tr>\n",
              "      <th>3</th>\n",
              "      <td>4</td>\n",
              "      <td>50000.0</td>\n",
              "      <td>2</td>\n",
              "      <td>2</td>\n",
              "      <td>1</td>\n",
              "      <td>37</td>\n",
              "      <td>0</td>\n",
              "      <td>0</td>\n",
              "      <td>0</td>\n",
              "      <td>0</td>\n",
              "      <td>...</td>\n",
              "      <td>-0.232373</td>\n",
              "      <td>-0.186729</td>\n",
              "      <td>-0.156579</td>\n",
              "      <td>-0.221191</td>\n",
              "      <td>-0.169361</td>\n",
              "      <td>-0.228645</td>\n",
              "      <td>-0.237846</td>\n",
              "      <td>-0.244166</td>\n",
              "      <td>-0.237130</td>\n",
              "      <td>0</td>\n",
              "    </tr>\n",
              "    <tr>\n",
              "      <th>4</th>\n",
              "      <td>5</td>\n",
              "      <td>50000.0</td>\n",
              "      <td>1</td>\n",
              "      <td>2</td>\n",
              "      <td>1</td>\n",
              "      <td>57</td>\n",
              "      <td>0</td>\n",
              "      <td>0</td>\n",
              "      <td>0</td>\n",
              "      <td>0</td>\n",
              "      <td>...</td>\n",
              "      <td>-0.346997</td>\n",
              "      <td>-0.348137</td>\n",
              "      <td>-0.331482</td>\n",
              "      <td>-0.221191</td>\n",
              "      <td>1.335034</td>\n",
              "      <td>0.271165</td>\n",
              "      <td>0.266434</td>\n",
              "      <td>-0.269039</td>\n",
              "      <td>-0.255187</td>\n",
              "      <td>0</td>\n",
              "    </tr>\n",
              "  </tbody>\n",
              "</table>\n",
              "<p>5 rows × 25 columns</p>\n",
              "</div>\n",
              "    <div class=\"colab-df-buttons\">\n",
              "\n",
              "  <div class=\"colab-df-container\">\n",
              "    <button class=\"colab-df-convert\" onclick=\"convertToInteractive('df-78168ac0-bf96-4d9b-9261-c16a979ce2ea')\"\n",
              "            title=\"Convert this dataframe to an interactive table.\"\n",
              "            style=\"display:none;\">\n",
              "\n",
              "  <svg xmlns=\"http://www.w3.org/2000/svg\" height=\"24px\" viewBox=\"0 -960 960 960\">\n",
              "    <path d=\"M120-120v-720h720v720H120Zm60-500h600v-160H180v160Zm220 220h160v-160H400v160Zm0 220h160v-160H400v160ZM180-400h160v-160H180v160Zm440 0h160v-160H620v160ZM180-180h160v-160H180v160Zm440 0h160v-160H620v160Z\"/>\n",
              "  </svg>\n",
              "    </button>\n",
              "\n",
              "  <style>\n",
              "    .colab-df-container {\n",
              "      display:flex;\n",
              "      gap: 12px;\n",
              "    }\n",
              "\n",
              "    .colab-df-convert {\n",
              "      background-color: #E8F0FE;\n",
              "      border: none;\n",
              "      border-radius: 50%;\n",
              "      cursor: pointer;\n",
              "      display: none;\n",
              "      fill: #1967D2;\n",
              "      height: 32px;\n",
              "      padding: 0 0 0 0;\n",
              "      width: 32px;\n",
              "    }\n",
              "\n",
              "    .colab-df-convert:hover {\n",
              "      background-color: #E2EBFA;\n",
              "      box-shadow: 0px 1px 2px rgba(60, 64, 67, 0.3), 0px 1px 3px 1px rgba(60, 64, 67, 0.15);\n",
              "      fill: #174EA6;\n",
              "    }\n",
              "\n",
              "    .colab-df-buttons div {\n",
              "      margin-bottom: 4px;\n",
              "    }\n",
              "\n",
              "    [theme=dark] .colab-df-convert {\n",
              "      background-color: #3B4455;\n",
              "      fill: #D2E3FC;\n",
              "    }\n",
              "\n",
              "    [theme=dark] .colab-df-convert:hover {\n",
              "      background-color: #434B5C;\n",
              "      box-shadow: 0px 1px 3px 1px rgba(0, 0, 0, 0.15);\n",
              "      filter: drop-shadow(0px 1px 2px rgba(0, 0, 0, 0.3));\n",
              "      fill: #FFFFFF;\n",
              "    }\n",
              "  </style>\n",
              "\n",
              "    <script>\n",
              "      const buttonEl =\n",
              "        document.querySelector('#df-78168ac0-bf96-4d9b-9261-c16a979ce2ea button.colab-df-convert');\n",
              "      buttonEl.style.display =\n",
              "        google.colab.kernel.accessAllowed ? 'block' : 'none';\n",
              "\n",
              "      async function convertToInteractive(key) {\n",
              "        const element = document.querySelector('#df-78168ac0-bf96-4d9b-9261-c16a979ce2ea');\n",
              "        const dataTable =\n",
              "          await google.colab.kernel.invokeFunction('convertToInteractive',\n",
              "                                                    [key], {});\n",
              "        if (!dataTable) return;\n",
              "\n",
              "        const docLinkHtml = 'Like what you see? Visit the ' +\n",
              "          '<a target=\"_blank\" href=https://colab.research.google.com/notebooks/data_table.ipynb>data table notebook</a>'\n",
              "          + ' to learn more about interactive tables.';\n",
              "        element.innerHTML = '';\n",
              "        dataTable['output_type'] = 'display_data';\n",
              "        await google.colab.output.renderOutput(dataTable, element);\n",
              "        const docLink = document.createElement('div');\n",
              "        docLink.innerHTML = docLinkHtml;\n",
              "        element.appendChild(docLink);\n",
              "      }\n",
              "    </script>\n",
              "  </div>\n",
              "\n",
              "\n",
              "    <div id=\"df-8d75749c-ce0a-46c2-92a0-ccfef8285daf\">\n",
              "      <button class=\"colab-df-quickchart\" onclick=\"quickchart('df-8d75749c-ce0a-46c2-92a0-ccfef8285daf')\"\n",
              "                title=\"Suggest charts\"\n",
              "                style=\"display:none;\">\n",
              "\n",
              "<svg xmlns=\"http://www.w3.org/2000/svg\" height=\"24px\"viewBox=\"0 0 24 24\"\n",
              "     width=\"24px\">\n",
              "    <g>\n",
              "        <path d=\"M19 3H5c-1.1 0-2 .9-2 2v14c0 1.1.9 2 2 2h14c1.1 0 2-.9 2-2V5c0-1.1-.9-2-2-2zM9 17H7v-7h2v7zm4 0h-2V7h2v10zm4 0h-2v-4h2v4z\"/>\n",
              "    </g>\n",
              "</svg>\n",
              "      </button>\n",
              "\n",
              "<style>\n",
              "  .colab-df-quickchart {\n",
              "      --bg-color: #E8F0FE;\n",
              "      --fill-color: #1967D2;\n",
              "      --hover-bg-color: #E2EBFA;\n",
              "      --hover-fill-color: #174EA6;\n",
              "      --disabled-fill-color: #AAA;\n",
              "      --disabled-bg-color: #DDD;\n",
              "  }\n",
              "\n",
              "  [theme=dark] .colab-df-quickchart {\n",
              "      --bg-color: #3B4455;\n",
              "      --fill-color: #D2E3FC;\n",
              "      --hover-bg-color: #434B5C;\n",
              "      --hover-fill-color: #FFFFFF;\n",
              "      --disabled-bg-color: #3B4455;\n",
              "      --disabled-fill-color: #666;\n",
              "  }\n",
              "\n",
              "  .colab-df-quickchart {\n",
              "    background-color: var(--bg-color);\n",
              "    border: none;\n",
              "    border-radius: 50%;\n",
              "    cursor: pointer;\n",
              "    display: none;\n",
              "    fill: var(--fill-color);\n",
              "    height: 32px;\n",
              "    padding: 0;\n",
              "    width: 32px;\n",
              "  }\n",
              "\n",
              "  .colab-df-quickchart:hover {\n",
              "    background-color: var(--hover-bg-color);\n",
              "    box-shadow: 0 1px 2px rgba(60, 64, 67, 0.3), 0 1px 3px 1px rgba(60, 64, 67, 0.15);\n",
              "    fill: var(--button-hover-fill-color);\n",
              "  }\n",
              "\n",
              "  .colab-df-quickchart-complete:disabled,\n",
              "  .colab-df-quickchart-complete:disabled:hover {\n",
              "    background-color: var(--disabled-bg-color);\n",
              "    fill: var(--disabled-fill-color);\n",
              "    box-shadow: none;\n",
              "  }\n",
              "\n",
              "  .colab-df-spinner {\n",
              "    border: 2px solid var(--fill-color);\n",
              "    border-color: transparent;\n",
              "    border-bottom-color: var(--fill-color);\n",
              "    animation:\n",
              "      spin 1s steps(1) infinite;\n",
              "  }\n",
              "\n",
              "  @keyframes spin {\n",
              "    0% {\n",
              "      border-color: transparent;\n",
              "      border-bottom-color: var(--fill-color);\n",
              "      border-left-color: var(--fill-color);\n",
              "    }\n",
              "    20% {\n",
              "      border-color: transparent;\n",
              "      border-left-color: var(--fill-color);\n",
              "      border-top-color: var(--fill-color);\n",
              "    }\n",
              "    30% {\n",
              "      border-color: transparent;\n",
              "      border-left-color: var(--fill-color);\n",
              "      border-top-color: var(--fill-color);\n",
              "      border-right-color: var(--fill-color);\n",
              "    }\n",
              "    40% {\n",
              "      border-color: transparent;\n",
              "      border-right-color: var(--fill-color);\n",
              "      border-top-color: var(--fill-color);\n",
              "    }\n",
              "    60% {\n",
              "      border-color: transparent;\n",
              "      border-right-color: var(--fill-color);\n",
              "    }\n",
              "    80% {\n",
              "      border-color: transparent;\n",
              "      border-right-color: var(--fill-color);\n",
              "      border-bottom-color: var(--fill-color);\n",
              "    }\n",
              "    90% {\n",
              "      border-color: transparent;\n",
              "      border-bottom-color: var(--fill-color);\n",
              "    }\n",
              "  }\n",
              "</style>\n",
              "\n",
              "      <script>\n",
              "        async function quickchart(key) {\n",
              "          const quickchartButtonEl =\n",
              "            document.querySelector('#' + key + ' button');\n",
              "          quickchartButtonEl.disabled = true;  // To prevent multiple clicks.\n",
              "          quickchartButtonEl.classList.add('colab-df-spinner');\n",
              "          try {\n",
              "            const charts = await google.colab.kernel.invokeFunction(\n",
              "                'suggestCharts', [key], {});\n",
              "          } catch (error) {\n",
              "            console.error('Error during call to suggestCharts:', error);\n",
              "          }\n",
              "          quickchartButtonEl.classList.remove('colab-df-spinner');\n",
              "          quickchartButtonEl.classList.add('colab-df-quickchart-complete');\n",
              "        }\n",
              "        (() => {\n",
              "          let quickchartButtonEl =\n",
              "            document.querySelector('#df-8d75749c-ce0a-46c2-92a0-ccfef8285daf button');\n",
              "          quickchartButtonEl.style.display =\n",
              "            google.colab.kernel.accessAllowed ? 'block' : 'none';\n",
              "        })();\n",
              "      </script>\n",
              "    </div>\n",
              "\n",
              "    </div>\n",
              "  </div>\n"
            ],
            "application/vnd.google.colaboratory.intrinsic+json": {
              "type": "dataframe",
              "variable_name": "df"
            }
          },
          "metadata": {},
          "execution_count": 94
        }
      ]
    },
    {
      "cell_type": "code",
      "source": [],
      "metadata": {
        "id": "C4sFbGG6Hx2h"
      },
      "execution_count": null,
      "outputs": []
    },
    {
      "cell_type": "markdown",
      "source": [
        "Contagem de variáveis, Média, Desvio padrão, Mínimo e Máximo"
      ],
      "metadata": {
        "id": "FnSsIXJzq_K9"
      }
    },
    {
      "cell_type": "code",
      "source": [
        "df.describe()"
      ],
      "metadata": {
        "colab": {
          "base_uri": "https://localhost:8080/"
        },
        "id": "iwqf6SWYdP_P",
        "outputId": "db6559ce-7797-46cc-f47a-31ca99fb51f8"
      },
      "execution_count": null,
      "outputs": [
        {
          "output_type": "execute_result",
          "data": {
            "text/plain": [
              "                 ID       LIMIT_BAL           SEX     EDUCATION      MARRIAGE  \\\n",
              "count  30000.000000    30000.000000  30000.000000  30000.000000  30000.000000   \n",
              "mean   15000.500000   167484.322667      1.603733      1.842267      1.557267   \n",
              "std     8660.398374   129747.661567      0.489129      0.744494      0.521405   \n",
              "min        1.000000    10000.000000      1.000000      1.000000      1.000000   \n",
              "25%     7500.750000    50000.000000      1.000000      1.000000      1.000000   \n",
              "50%    15000.500000   140000.000000      2.000000      2.000000      2.000000   \n",
              "75%    22500.250000   240000.000000      2.000000      2.000000      2.000000   \n",
              "max    30000.000000  1000000.000000      2.000000      4.000000      3.000000   \n",
              "\n",
              "                AGE         PAY_1         PAY_2         PAY_3         PAY_4  \\\n",
              "count  30000.000000  30000.000000  30000.000000  30000.000000  30000.000000   \n",
              "mean      35.485500      0.356767      0.320033      0.304067      0.258767   \n",
              "std        9.217904      0.760594      0.801727      0.790589      0.761113   \n",
              "min       21.000000      0.000000      0.000000      0.000000      0.000000   \n",
              "25%       28.000000      0.000000      0.000000      0.000000      0.000000   \n",
              "50%       34.000000      0.000000      0.000000      0.000000      0.000000   \n",
              "75%       41.000000      0.000000      0.000000      0.000000      0.000000   \n",
              "max       79.000000      8.000000      8.000000      8.000000      8.000000   \n",
              "\n",
              "       ...     BILL_AMT4     BILL_AMT5     BILL_AMT6      PAY_AMT1  \\\n",
              "count  ...  3.000000e+04  3.000000e+04  3.000000e+04  3.000000e+04   \n",
              "mean   ...  5.873820e-17 -2.368476e-17  1.136868e-17 -4.736952e-18   \n",
              "std    ...  1.000017e+00  1.000017e+00  1.000017e+00  1.000017e+00   \n",
              "min    ... -3.315048e+00 -2.000874e+00 -6.355247e+00 -3.419416e-01   \n",
              "25%    ... -6.363293e-01 -6.340600e-01 -6.316338e-01 -2.815661e-01   \n",
              "50%    ... -3.763451e-01 -3.652683e-01 -3.660725e-01 -2.151530e-01   \n",
              "75%    ...  1.747667e-01  1.624955e-01  1.733997e-01 -3.970176e-02   \n",
              "max    ...  1.318669e+01  1.458743e+01  1.549528e+01  5.239921e+01   \n",
              "\n",
              "           PAY_AMT2      PAY_AMT3      PAY_AMT4      PAY_AMT5      PAY_AMT6  \\\n",
              "count  3.000000e+04  3.000000e+04  3.000000e+04  3.000000e+04  3.000000e+04   \n",
              "mean   1.373716e-17  2.084259e-17  1.800042e-17 -1.965835e-17 -1.788199e-17   \n",
              "std    1.000017e+00  1.000017e+00  1.000017e+00  1.000017e+00  1.000017e+00   \n",
              "min   -2.569895e-01 -2.968013e-01 -3.080626e-01 -3.141361e-01 -2.933821e-01   \n",
              "25%   -2.208358e-01 -2.746506e-01 -2.891680e-01 -2.976091e-01 -2.867584e-01   \n",
              "50%   -1.697952e-01 -1.945673e-01 -2.123132e-01 -2.159561e-01 -2.090042e-01   \n",
              "75%   -3.998021e-02 -4.093230e-02 -5.188511e-02 -5.026084e-02 -6.837436e-02   \n",
              "max    7.284299e+01  5.059528e+01  3.933218e+01  2.760363e+01  2.944510e+01   \n",
              "\n",
              "       DEF_NEXT_MONTH  \n",
              "count    30000.000000  \n",
              "mean         0.221200  \n",
              "std          0.415062  \n",
              "min          0.000000  \n",
              "25%          0.000000  \n",
              "50%          0.000000  \n",
              "75%          0.000000  \n",
              "max          1.000000  \n",
              "\n",
              "[8 rows x 25 columns]"
            ],
            "text/html": [
              "\n",
              "  <div id=\"df-b562cc11-7749-476c-96c6-2ad88630d08b\" class=\"colab-df-container\">\n",
              "    <div>\n",
              "<style scoped>\n",
              "    .dataframe tbody tr th:only-of-type {\n",
              "        vertical-align: middle;\n",
              "    }\n",
              "\n",
              "    .dataframe tbody tr th {\n",
              "        vertical-align: top;\n",
              "    }\n",
              "\n",
              "    .dataframe thead th {\n",
              "        text-align: right;\n",
              "    }\n",
              "</style>\n",
              "<table border=\"1\" class=\"dataframe\">\n",
              "  <thead>\n",
              "    <tr style=\"text-align: right;\">\n",
              "      <th></th>\n",
              "      <th>ID</th>\n",
              "      <th>LIMIT_BAL</th>\n",
              "      <th>SEX</th>\n",
              "      <th>EDUCATION</th>\n",
              "      <th>MARRIAGE</th>\n",
              "      <th>AGE</th>\n",
              "      <th>PAY_1</th>\n",
              "      <th>PAY_2</th>\n",
              "      <th>PAY_3</th>\n",
              "      <th>PAY_4</th>\n",
              "      <th>...</th>\n",
              "      <th>BILL_AMT4</th>\n",
              "      <th>BILL_AMT5</th>\n",
              "      <th>BILL_AMT6</th>\n",
              "      <th>PAY_AMT1</th>\n",
              "      <th>PAY_AMT2</th>\n",
              "      <th>PAY_AMT3</th>\n",
              "      <th>PAY_AMT4</th>\n",
              "      <th>PAY_AMT5</th>\n",
              "      <th>PAY_AMT6</th>\n",
              "      <th>DEF_NEXT_MONTH</th>\n",
              "    </tr>\n",
              "  </thead>\n",
              "  <tbody>\n",
              "    <tr>\n",
              "      <th>count</th>\n",
              "      <td>30000.000000</td>\n",
              "      <td>30000.000000</td>\n",
              "      <td>30000.000000</td>\n",
              "      <td>30000.000000</td>\n",
              "      <td>30000.000000</td>\n",
              "      <td>30000.000000</td>\n",
              "      <td>30000.000000</td>\n",
              "      <td>30000.000000</td>\n",
              "      <td>30000.000000</td>\n",
              "      <td>30000.000000</td>\n",
              "      <td>...</td>\n",
              "      <td>3.000000e+04</td>\n",
              "      <td>3.000000e+04</td>\n",
              "      <td>3.000000e+04</td>\n",
              "      <td>3.000000e+04</td>\n",
              "      <td>3.000000e+04</td>\n",
              "      <td>3.000000e+04</td>\n",
              "      <td>3.000000e+04</td>\n",
              "      <td>3.000000e+04</td>\n",
              "      <td>3.000000e+04</td>\n",
              "      <td>30000.000000</td>\n",
              "    </tr>\n",
              "    <tr>\n",
              "      <th>mean</th>\n",
              "      <td>15000.500000</td>\n",
              "      <td>167484.322667</td>\n",
              "      <td>1.603733</td>\n",
              "      <td>1.842267</td>\n",
              "      <td>1.557267</td>\n",
              "      <td>35.485500</td>\n",
              "      <td>0.356767</td>\n",
              "      <td>0.320033</td>\n",
              "      <td>0.304067</td>\n",
              "      <td>0.258767</td>\n",
              "      <td>...</td>\n",
              "      <td>5.873820e-17</td>\n",
              "      <td>-2.368476e-17</td>\n",
              "      <td>1.136868e-17</td>\n",
              "      <td>-4.736952e-18</td>\n",
              "      <td>1.373716e-17</td>\n",
              "      <td>2.084259e-17</td>\n",
              "      <td>1.800042e-17</td>\n",
              "      <td>-1.965835e-17</td>\n",
              "      <td>-1.788199e-17</td>\n",
              "      <td>0.221200</td>\n",
              "    </tr>\n",
              "    <tr>\n",
              "      <th>std</th>\n",
              "      <td>8660.398374</td>\n",
              "      <td>129747.661567</td>\n",
              "      <td>0.489129</td>\n",
              "      <td>0.744494</td>\n",
              "      <td>0.521405</td>\n",
              "      <td>9.217904</td>\n",
              "      <td>0.760594</td>\n",
              "      <td>0.801727</td>\n",
              "      <td>0.790589</td>\n",
              "      <td>0.761113</td>\n",
              "      <td>...</td>\n",
              "      <td>1.000017e+00</td>\n",
              "      <td>1.000017e+00</td>\n",
              "      <td>1.000017e+00</td>\n",
              "      <td>1.000017e+00</td>\n",
              "      <td>1.000017e+00</td>\n",
              "      <td>1.000017e+00</td>\n",
              "      <td>1.000017e+00</td>\n",
              "      <td>1.000017e+00</td>\n",
              "      <td>1.000017e+00</td>\n",
              "      <td>0.415062</td>\n",
              "    </tr>\n",
              "    <tr>\n",
              "      <th>min</th>\n",
              "      <td>1.000000</td>\n",
              "      <td>10000.000000</td>\n",
              "      <td>1.000000</td>\n",
              "      <td>1.000000</td>\n",
              "      <td>1.000000</td>\n",
              "      <td>21.000000</td>\n",
              "      <td>0.000000</td>\n",
              "      <td>0.000000</td>\n",
              "      <td>0.000000</td>\n",
              "      <td>0.000000</td>\n",
              "      <td>...</td>\n",
              "      <td>-3.315048e+00</td>\n",
              "      <td>-2.000874e+00</td>\n",
              "      <td>-6.355247e+00</td>\n",
              "      <td>-3.419416e-01</td>\n",
              "      <td>-2.569895e-01</td>\n",
              "      <td>-2.968013e-01</td>\n",
              "      <td>-3.080626e-01</td>\n",
              "      <td>-3.141361e-01</td>\n",
              "      <td>-2.933821e-01</td>\n",
              "      <td>0.000000</td>\n",
              "    </tr>\n",
              "    <tr>\n",
              "      <th>25%</th>\n",
              "      <td>7500.750000</td>\n",
              "      <td>50000.000000</td>\n",
              "      <td>1.000000</td>\n",
              "      <td>1.000000</td>\n",
              "      <td>1.000000</td>\n",
              "      <td>28.000000</td>\n",
              "      <td>0.000000</td>\n",
              "      <td>0.000000</td>\n",
              "      <td>0.000000</td>\n",
              "      <td>0.000000</td>\n",
              "      <td>...</td>\n",
              "      <td>-6.363293e-01</td>\n",
              "      <td>-6.340600e-01</td>\n",
              "      <td>-6.316338e-01</td>\n",
              "      <td>-2.815661e-01</td>\n",
              "      <td>-2.208358e-01</td>\n",
              "      <td>-2.746506e-01</td>\n",
              "      <td>-2.891680e-01</td>\n",
              "      <td>-2.976091e-01</td>\n",
              "      <td>-2.867584e-01</td>\n",
              "      <td>0.000000</td>\n",
              "    </tr>\n",
              "    <tr>\n",
              "      <th>50%</th>\n",
              "      <td>15000.500000</td>\n",
              "      <td>140000.000000</td>\n",
              "      <td>2.000000</td>\n",
              "      <td>2.000000</td>\n",
              "      <td>2.000000</td>\n",
              "      <td>34.000000</td>\n",
              "      <td>0.000000</td>\n",
              "      <td>0.000000</td>\n",
              "      <td>0.000000</td>\n",
              "      <td>0.000000</td>\n",
              "      <td>...</td>\n",
              "      <td>-3.763451e-01</td>\n",
              "      <td>-3.652683e-01</td>\n",
              "      <td>-3.660725e-01</td>\n",
              "      <td>-2.151530e-01</td>\n",
              "      <td>-1.697952e-01</td>\n",
              "      <td>-1.945673e-01</td>\n",
              "      <td>-2.123132e-01</td>\n",
              "      <td>-2.159561e-01</td>\n",
              "      <td>-2.090042e-01</td>\n",
              "      <td>0.000000</td>\n",
              "    </tr>\n",
              "    <tr>\n",
              "      <th>75%</th>\n",
              "      <td>22500.250000</td>\n",
              "      <td>240000.000000</td>\n",
              "      <td>2.000000</td>\n",
              "      <td>2.000000</td>\n",
              "      <td>2.000000</td>\n",
              "      <td>41.000000</td>\n",
              "      <td>0.000000</td>\n",
              "      <td>0.000000</td>\n",
              "      <td>0.000000</td>\n",
              "      <td>0.000000</td>\n",
              "      <td>...</td>\n",
              "      <td>1.747667e-01</td>\n",
              "      <td>1.624955e-01</td>\n",
              "      <td>1.733997e-01</td>\n",
              "      <td>-3.970176e-02</td>\n",
              "      <td>-3.998021e-02</td>\n",
              "      <td>-4.093230e-02</td>\n",
              "      <td>-5.188511e-02</td>\n",
              "      <td>-5.026084e-02</td>\n",
              "      <td>-6.837436e-02</td>\n",
              "      <td>0.000000</td>\n",
              "    </tr>\n",
              "    <tr>\n",
              "      <th>max</th>\n",
              "      <td>30000.000000</td>\n",
              "      <td>1000000.000000</td>\n",
              "      <td>2.000000</td>\n",
              "      <td>4.000000</td>\n",
              "      <td>3.000000</td>\n",
              "      <td>79.000000</td>\n",
              "      <td>8.000000</td>\n",
              "      <td>8.000000</td>\n",
              "      <td>8.000000</td>\n",
              "      <td>8.000000</td>\n",
              "      <td>...</td>\n",
              "      <td>1.318669e+01</td>\n",
              "      <td>1.458743e+01</td>\n",
              "      <td>1.549528e+01</td>\n",
              "      <td>5.239921e+01</td>\n",
              "      <td>7.284299e+01</td>\n",
              "      <td>5.059528e+01</td>\n",
              "      <td>3.933218e+01</td>\n",
              "      <td>2.760363e+01</td>\n",
              "      <td>2.944510e+01</td>\n",
              "      <td>1.000000</td>\n",
              "    </tr>\n",
              "  </tbody>\n",
              "</table>\n",
              "<p>8 rows × 25 columns</p>\n",
              "</div>\n",
              "    <div class=\"colab-df-buttons\">\n",
              "\n",
              "  <div class=\"colab-df-container\">\n",
              "    <button class=\"colab-df-convert\" onclick=\"convertToInteractive('df-b562cc11-7749-476c-96c6-2ad88630d08b')\"\n",
              "            title=\"Convert this dataframe to an interactive table.\"\n",
              "            style=\"display:none;\">\n",
              "\n",
              "  <svg xmlns=\"http://www.w3.org/2000/svg\" height=\"24px\" viewBox=\"0 -960 960 960\">\n",
              "    <path d=\"M120-120v-720h720v720H120Zm60-500h600v-160H180v160Zm220 220h160v-160H400v160Zm0 220h160v-160H400v160ZM180-400h160v-160H180v160Zm440 0h160v-160H620v160ZM180-180h160v-160H180v160Zm440 0h160v-160H620v160Z\"/>\n",
              "  </svg>\n",
              "    </button>\n",
              "\n",
              "  <style>\n",
              "    .colab-df-container {\n",
              "      display:flex;\n",
              "      gap: 12px;\n",
              "    }\n",
              "\n",
              "    .colab-df-convert {\n",
              "      background-color: #E8F0FE;\n",
              "      border: none;\n",
              "      border-radius: 50%;\n",
              "      cursor: pointer;\n",
              "      display: none;\n",
              "      fill: #1967D2;\n",
              "      height: 32px;\n",
              "      padding: 0 0 0 0;\n",
              "      width: 32px;\n",
              "    }\n",
              "\n",
              "    .colab-df-convert:hover {\n",
              "      background-color: #E2EBFA;\n",
              "      box-shadow: 0px 1px 2px rgba(60, 64, 67, 0.3), 0px 1px 3px 1px rgba(60, 64, 67, 0.15);\n",
              "      fill: #174EA6;\n",
              "    }\n",
              "\n",
              "    .colab-df-buttons div {\n",
              "      margin-bottom: 4px;\n",
              "    }\n",
              "\n",
              "    [theme=dark] .colab-df-convert {\n",
              "      background-color: #3B4455;\n",
              "      fill: #D2E3FC;\n",
              "    }\n",
              "\n",
              "    [theme=dark] .colab-df-convert:hover {\n",
              "      background-color: #434B5C;\n",
              "      box-shadow: 0px 1px 3px 1px rgba(0, 0, 0, 0.15);\n",
              "      filter: drop-shadow(0px 1px 2px rgba(0, 0, 0, 0.3));\n",
              "      fill: #FFFFFF;\n",
              "    }\n",
              "  </style>\n",
              "\n",
              "    <script>\n",
              "      const buttonEl =\n",
              "        document.querySelector('#df-b562cc11-7749-476c-96c6-2ad88630d08b button.colab-df-convert');\n",
              "      buttonEl.style.display =\n",
              "        google.colab.kernel.accessAllowed ? 'block' : 'none';\n",
              "\n",
              "      async function convertToInteractive(key) {\n",
              "        const element = document.querySelector('#df-b562cc11-7749-476c-96c6-2ad88630d08b');\n",
              "        const dataTable =\n",
              "          await google.colab.kernel.invokeFunction('convertToInteractive',\n",
              "                                                    [key], {});\n",
              "        if (!dataTable) return;\n",
              "\n",
              "        const docLinkHtml = 'Like what you see? Visit the ' +\n",
              "          '<a target=\"_blank\" href=https://colab.research.google.com/notebooks/data_table.ipynb>data table notebook</a>'\n",
              "          + ' to learn more about interactive tables.';\n",
              "        element.innerHTML = '';\n",
              "        dataTable['output_type'] = 'display_data';\n",
              "        await google.colab.output.renderOutput(dataTable, element);\n",
              "        const docLink = document.createElement('div');\n",
              "        docLink.innerHTML = docLinkHtml;\n",
              "        element.appendChild(docLink);\n",
              "      }\n",
              "    </script>\n",
              "  </div>\n",
              "\n",
              "\n",
              "    <div id=\"df-c4832140-0be9-484b-8d82-084614c060fa\">\n",
              "      <button class=\"colab-df-quickchart\" onclick=\"quickchart('df-c4832140-0be9-484b-8d82-084614c060fa')\"\n",
              "                title=\"Suggest charts\"\n",
              "                style=\"display:none;\">\n",
              "\n",
              "<svg xmlns=\"http://www.w3.org/2000/svg\" height=\"24px\"viewBox=\"0 0 24 24\"\n",
              "     width=\"24px\">\n",
              "    <g>\n",
              "        <path d=\"M19 3H5c-1.1 0-2 .9-2 2v14c0 1.1.9 2 2 2h14c1.1 0 2-.9 2-2V5c0-1.1-.9-2-2-2zM9 17H7v-7h2v7zm4 0h-2V7h2v10zm4 0h-2v-4h2v4z\"/>\n",
              "    </g>\n",
              "</svg>\n",
              "      </button>\n",
              "\n",
              "<style>\n",
              "  .colab-df-quickchart {\n",
              "      --bg-color: #E8F0FE;\n",
              "      --fill-color: #1967D2;\n",
              "      --hover-bg-color: #E2EBFA;\n",
              "      --hover-fill-color: #174EA6;\n",
              "      --disabled-fill-color: #AAA;\n",
              "      --disabled-bg-color: #DDD;\n",
              "  }\n",
              "\n",
              "  [theme=dark] .colab-df-quickchart {\n",
              "      --bg-color: #3B4455;\n",
              "      --fill-color: #D2E3FC;\n",
              "      --hover-bg-color: #434B5C;\n",
              "      --hover-fill-color: #FFFFFF;\n",
              "      --disabled-bg-color: #3B4455;\n",
              "      --disabled-fill-color: #666;\n",
              "  }\n",
              "\n",
              "  .colab-df-quickchart {\n",
              "    background-color: var(--bg-color);\n",
              "    border: none;\n",
              "    border-radius: 50%;\n",
              "    cursor: pointer;\n",
              "    display: none;\n",
              "    fill: var(--fill-color);\n",
              "    height: 32px;\n",
              "    padding: 0;\n",
              "    width: 32px;\n",
              "  }\n",
              "\n",
              "  .colab-df-quickchart:hover {\n",
              "    background-color: var(--hover-bg-color);\n",
              "    box-shadow: 0 1px 2px rgba(60, 64, 67, 0.3), 0 1px 3px 1px rgba(60, 64, 67, 0.15);\n",
              "    fill: var(--button-hover-fill-color);\n",
              "  }\n",
              "\n",
              "  .colab-df-quickchart-complete:disabled,\n",
              "  .colab-df-quickchart-complete:disabled:hover {\n",
              "    background-color: var(--disabled-bg-color);\n",
              "    fill: var(--disabled-fill-color);\n",
              "    box-shadow: none;\n",
              "  }\n",
              "\n",
              "  .colab-df-spinner {\n",
              "    border: 2px solid var(--fill-color);\n",
              "    border-color: transparent;\n",
              "    border-bottom-color: var(--fill-color);\n",
              "    animation:\n",
              "      spin 1s steps(1) infinite;\n",
              "  }\n",
              "\n",
              "  @keyframes spin {\n",
              "    0% {\n",
              "      border-color: transparent;\n",
              "      border-bottom-color: var(--fill-color);\n",
              "      border-left-color: var(--fill-color);\n",
              "    }\n",
              "    20% {\n",
              "      border-color: transparent;\n",
              "      border-left-color: var(--fill-color);\n",
              "      border-top-color: var(--fill-color);\n",
              "    }\n",
              "    30% {\n",
              "      border-color: transparent;\n",
              "      border-left-color: var(--fill-color);\n",
              "      border-top-color: var(--fill-color);\n",
              "      border-right-color: var(--fill-color);\n",
              "    }\n",
              "    40% {\n",
              "      border-color: transparent;\n",
              "      border-right-color: var(--fill-color);\n",
              "      border-top-color: var(--fill-color);\n",
              "    }\n",
              "    60% {\n",
              "      border-color: transparent;\n",
              "      border-right-color: var(--fill-color);\n",
              "    }\n",
              "    80% {\n",
              "      border-color: transparent;\n",
              "      border-right-color: var(--fill-color);\n",
              "      border-bottom-color: var(--fill-color);\n",
              "    }\n",
              "    90% {\n",
              "      border-color: transparent;\n",
              "      border-bottom-color: var(--fill-color);\n",
              "    }\n",
              "  }\n",
              "</style>\n",
              "\n",
              "      <script>\n",
              "        async function quickchart(key) {\n",
              "          const quickchartButtonEl =\n",
              "            document.querySelector('#' + key + ' button');\n",
              "          quickchartButtonEl.disabled = true;  // To prevent multiple clicks.\n",
              "          quickchartButtonEl.classList.add('colab-df-spinner');\n",
              "          try {\n",
              "            const charts = await google.colab.kernel.invokeFunction(\n",
              "                'suggestCharts', [key], {});\n",
              "          } catch (error) {\n",
              "            console.error('Error during call to suggestCharts:', error);\n",
              "          }\n",
              "          quickchartButtonEl.classList.remove('colab-df-spinner');\n",
              "          quickchartButtonEl.classList.add('colab-df-quickchart-complete');\n",
              "        }\n",
              "        (() => {\n",
              "          let quickchartButtonEl =\n",
              "            document.querySelector('#df-c4832140-0be9-484b-8d82-084614c060fa button');\n",
              "          quickchartButtonEl.style.display =\n",
              "            google.colab.kernel.accessAllowed ? 'block' : 'none';\n",
              "        })();\n",
              "      </script>\n",
              "    </div>\n",
              "\n",
              "    </div>\n",
              "  </div>\n"
            ],
            "application/vnd.google.colaboratory.intrinsic+json": {
              "type": "dataframe"
            }
          },
          "metadata": {},
          "execution_count": 95
        }
      ]
    },
    {
      "cell_type": "markdown",
      "source": [
        "Valores nulos em cada coluna"
      ],
      "metadata": {
        "id": "Pd1YQ9RAsXc5"
      }
    },
    {
      "cell_type": "code",
      "source": [
        "df.isnull().sum()"
      ],
      "metadata": {
        "colab": {
          "base_uri": "https://localhost:8080/"
        },
        "id": "D3nzDevIsW6j",
        "outputId": "adc8d76f-d832-42ff-f9f5-b739abc3f9bb"
      },
      "execution_count": null,
      "outputs": [
        {
          "output_type": "execute_result",
          "data": {
            "text/plain": [
              "ID                0\n",
              "LIMIT_BAL         0\n",
              "SEX               0\n",
              "EDUCATION         0\n",
              "MARRIAGE          0\n",
              "AGE               0\n",
              "PAY_1             0\n",
              "PAY_2             0\n",
              "PAY_3             0\n",
              "PAY_4             0\n",
              "PAY_5             0\n",
              "PAY_6             0\n",
              "BILL_AMT1         0\n",
              "BILL_AMT2         0\n",
              "BILL_AMT3         0\n",
              "BILL_AMT4         0\n",
              "BILL_AMT5         0\n",
              "BILL_AMT6         0\n",
              "PAY_AMT1          0\n",
              "PAY_AMT2          0\n",
              "PAY_AMT3          0\n",
              "PAY_AMT4          0\n",
              "PAY_AMT5          0\n",
              "PAY_AMT6          0\n",
              "DEF_NEXT_MONTH    0\n",
              "dtype: int64"
            ],
            "text/html": [
              "<div>\n",
              "<style scoped>\n",
              "    .dataframe tbody tr th:only-of-type {\n",
              "        vertical-align: middle;\n",
              "    }\n",
              "\n",
              "    .dataframe tbody tr th {\n",
              "        vertical-align: top;\n",
              "    }\n",
              "\n",
              "    .dataframe thead th {\n",
              "        text-align: right;\n",
              "    }\n",
              "</style>\n",
              "<table border=\"1\" class=\"dataframe\">\n",
              "  <thead>\n",
              "    <tr style=\"text-align: right;\">\n",
              "      <th></th>\n",
              "      <th>0</th>\n",
              "    </tr>\n",
              "  </thead>\n",
              "  <tbody>\n",
              "    <tr>\n",
              "      <th>ID</th>\n",
              "      <td>0</td>\n",
              "    </tr>\n",
              "    <tr>\n",
              "      <th>LIMIT_BAL</th>\n",
              "      <td>0</td>\n",
              "    </tr>\n",
              "    <tr>\n",
              "      <th>SEX</th>\n",
              "      <td>0</td>\n",
              "    </tr>\n",
              "    <tr>\n",
              "      <th>EDUCATION</th>\n",
              "      <td>0</td>\n",
              "    </tr>\n",
              "    <tr>\n",
              "      <th>MARRIAGE</th>\n",
              "      <td>0</td>\n",
              "    </tr>\n",
              "    <tr>\n",
              "      <th>AGE</th>\n",
              "      <td>0</td>\n",
              "    </tr>\n",
              "    <tr>\n",
              "      <th>PAY_1</th>\n",
              "      <td>0</td>\n",
              "    </tr>\n",
              "    <tr>\n",
              "      <th>PAY_2</th>\n",
              "      <td>0</td>\n",
              "    </tr>\n",
              "    <tr>\n",
              "      <th>PAY_3</th>\n",
              "      <td>0</td>\n",
              "    </tr>\n",
              "    <tr>\n",
              "      <th>PAY_4</th>\n",
              "      <td>0</td>\n",
              "    </tr>\n",
              "    <tr>\n",
              "      <th>PAY_5</th>\n",
              "      <td>0</td>\n",
              "    </tr>\n",
              "    <tr>\n",
              "      <th>PAY_6</th>\n",
              "      <td>0</td>\n",
              "    </tr>\n",
              "    <tr>\n",
              "      <th>BILL_AMT1</th>\n",
              "      <td>0</td>\n",
              "    </tr>\n",
              "    <tr>\n",
              "      <th>BILL_AMT2</th>\n",
              "      <td>0</td>\n",
              "    </tr>\n",
              "    <tr>\n",
              "      <th>BILL_AMT3</th>\n",
              "      <td>0</td>\n",
              "    </tr>\n",
              "    <tr>\n",
              "      <th>BILL_AMT4</th>\n",
              "      <td>0</td>\n",
              "    </tr>\n",
              "    <tr>\n",
              "      <th>BILL_AMT5</th>\n",
              "      <td>0</td>\n",
              "    </tr>\n",
              "    <tr>\n",
              "      <th>BILL_AMT6</th>\n",
              "      <td>0</td>\n",
              "    </tr>\n",
              "    <tr>\n",
              "      <th>PAY_AMT1</th>\n",
              "      <td>0</td>\n",
              "    </tr>\n",
              "    <tr>\n",
              "      <th>PAY_AMT2</th>\n",
              "      <td>0</td>\n",
              "    </tr>\n",
              "    <tr>\n",
              "      <th>PAY_AMT3</th>\n",
              "      <td>0</td>\n",
              "    </tr>\n",
              "    <tr>\n",
              "      <th>PAY_AMT4</th>\n",
              "      <td>0</td>\n",
              "    </tr>\n",
              "    <tr>\n",
              "      <th>PAY_AMT5</th>\n",
              "      <td>0</td>\n",
              "    </tr>\n",
              "    <tr>\n",
              "      <th>PAY_AMT6</th>\n",
              "      <td>0</td>\n",
              "    </tr>\n",
              "    <tr>\n",
              "      <th>DEF_NEXT_MONTH</th>\n",
              "      <td>0</td>\n",
              "    </tr>\n",
              "  </tbody>\n",
              "</table>\n",
              "</div><br><label><b>dtype:</b> int64</label>"
            ]
          },
          "metadata": {},
          "execution_count": 96
        }
      ]
    },
    {
      "cell_type": "markdown",
      "source": [
        "Quantidade de variaveis unicas em cada coluna"
      ],
      "metadata": {
        "id": "hWsxpDx2tMvJ"
      }
    },
    {
      "cell_type": "code",
      "source": [
        "df.nunique()"
      ],
      "metadata": {
        "colab": {
          "base_uri": "https://localhost:8080/"
        },
        "id": "7D5G3VOutMZz",
        "outputId": "598b7385-eede-40f7-a480-23131b804446"
      },
      "execution_count": null,
      "outputs": [
        {
          "output_type": "execute_result",
          "data": {
            "text/plain": [
              "ID                30000\n",
              "LIMIT_BAL            81\n",
              "SEX                   2\n",
              "EDUCATION             4\n",
              "MARRIAGE              3\n",
              "AGE                  56\n",
              "PAY_1                 9\n",
              "PAY_2                 9\n",
              "PAY_3                 9\n",
              "PAY_4                 9\n",
              "PAY_5                 8\n",
              "PAY_6                 8\n",
              "BILL_AMT1         22723\n",
              "BILL_AMT2         22346\n",
              "BILL_AMT3         22026\n",
              "BILL_AMT4         21548\n",
              "BILL_AMT5         21010\n",
              "BILL_AMT6         20604\n",
              "PAY_AMT1           7943\n",
              "PAY_AMT2           7899\n",
              "PAY_AMT3           7518\n",
              "PAY_AMT4           6937\n",
              "PAY_AMT5           6897\n",
              "PAY_AMT6           6939\n",
              "DEF_NEXT_MONTH        2\n",
              "dtype: int64"
            ],
            "text/html": [
              "<div>\n",
              "<style scoped>\n",
              "    .dataframe tbody tr th:only-of-type {\n",
              "        vertical-align: middle;\n",
              "    }\n",
              "\n",
              "    .dataframe tbody tr th {\n",
              "        vertical-align: top;\n",
              "    }\n",
              "\n",
              "    .dataframe thead th {\n",
              "        text-align: right;\n",
              "    }\n",
              "</style>\n",
              "<table border=\"1\" class=\"dataframe\">\n",
              "  <thead>\n",
              "    <tr style=\"text-align: right;\">\n",
              "      <th></th>\n",
              "      <th>0</th>\n",
              "    </tr>\n",
              "  </thead>\n",
              "  <tbody>\n",
              "    <tr>\n",
              "      <th>ID</th>\n",
              "      <td>30000</td>\n",
              "    </tr>\n",
              "    <tr>\n",
              "      <th>LIMIT_BAL</th>\n",
              "      <td>81</td>\n",
              "    </tr>\n",
              "    <tr>\n",
              "      <th>SEX</th>\n",
              "      <td>2</td>\n",
              "    </tr>\n",
              "    <tr>\n",
              "      <th>EDUCATION</th>\n",
              "      <td>4</td>\n",
              "    </tr>\n",
              "    <tr>\n",
              "      <th>MARRIAGE</th>\n",
              "      <td>3</td>\n",
              "    </tr>\n",
              "    <tr>\n",
              "      <th>AGE</th>\n",
              "      <td>56</td>\n",
              "    </tr>\n",
              "    <tr>\n",
              "      <th>PAY_1</th>\n",
              "      <td>9</td>\n",
              "    </tr>\n",
              "    <tr>\n",
              "      <th>PAY_2</th>\n",
              "      <td>9</td>\n",
              "    </tr>\n",
              "    <tr>\n",
              "      <th>PAY_3</th>\n",
              "      <td>9</td>\n",
              "    </tr>\n",
              "    <tr>\n",
              "      <th>PAY_4</th>\n",
              "      <td>9</td>\n",
              "    </tr>\n",
              "    <tr>\n",
              "      <th>PAY_5</th>\n",
              "      <td>8</td>\n",
              "    </tr>\n",
              "    <tr>\n",
              "      <th>PAY_6</th>\n",
              "      <td>8</td>\n",
              "    </tr>\n",
              "    <tr>\n",
              "      <th>BILL_AMT1</th>\n",
              "      <td>22723</td>\n",
              "    </tr>\n",
              "    <tr>\n",
              "      <th>BILL_AMT2</th>\n",
              "      <td>22346</td>\n",
              "    </tr>\n",
              "    <tr>\n",
              "      <th>BILL_AMT3</th>\n",
              "      <td>22026</td>\n",
              "    </tr>\n",
              "    <tr>\n",
              "      <th>BILL_AMT4</th>\n",
              "      <td>21548</td>\n",
              "    </tr>\n",
              "    <tr>\n",
              "      <th>BILL_AMT5</th>\n",
              "      <td>21010</td>\n",
              "    </tr>\n",
              "    <tr>\n",
              "      <th>BILL_AMT6</th>\n",
              "      <td>20604</td>\n",
              "    </tr>\n",
              "    <tr>\n",
              "      <th>PAY_AMT1</th>\n",
              "      <td>7943</td>\n",
              "    </tr>\n",
              "    <tr>\n",
              "      <th>PAY_AMT2</th>\n",
              "      <td>7899</td>\n",
              "    </tr>\n",
              "    <tr>\n",
              "      <th>PAY_AMT3</th>\n",
              "      <td>7518</td>\n",
              "    </tr>\n",
              "    <tr>\n",
              "      <th>PAY_AMT4</th>\n",
              "      <td>6937</td>\n",
              "    </tr>\n",
              "    <tr>\n",
              "      <th>PAY_AMT5</th>\n",
              "      <td>6897</td>\n",
              "    </tr>\n",
              "    <tr>\n",
              "      <th>PAY_AMT6</th>\n",
              "      <td>6939</td>\n",
              "    </tr>\n",
              "    <tr>\n",
              "      <th>DEF_NEXT_MONTH</th>\n",
              "      <td>2</td>\n",
              "    </tr>\n",
              "  </tbody>\n",
              "</table>\n",
              "</div><br><label><b>dtype:</b> int64</label>"
            ]
          },
          "metadata": {},
          "execution_count": 97
        }
      ]
    },
    {
      "cell_type": "markdown",
      "source": [
        "##2.2 Vizualização por gráficos\n"
      ],
      "metadata": {
        "id": "RjvAcUZIA4dK"
      }
    },
    {
      "cell_type": "markdown",
      "source": [
        "**Histogramas**"
      ],
      "metadata": {
        "id": "E8DEVsye5JNv"
      }
    },
    {
      "cell_type": "code",
      "source": [
        "sex = df['SEX'].replace({1:'Masculino', 2:'feminino'}).value_counts().reset_index()\n",
        "plt.bar(sex['SEX'], sex['count'])\n",
        "plt.title('Quantidade de Pessoas por Sexo')\n",
        "plt.show()\n",
        "\n"
      ],
      "metadata": {
        "colab": {
          "base_uri": "https://localhost:8080/",
          "height": 452
        },
        "id": "G7HUoYFospmL",
        "outputId": "2d673fc1-b631-42f3-d4a1-f4c249d6f3e3"
      },
      "execution_count": null,
      "outputs": [
        {
          "output_type": "display_data",
          "data": {
            "text/plain": [
              "<Figure size 640x480 with 1 Axes>"
            ],
            "image/png": "[encoded data removed]"
          },
          "metadata": {}
        }
      ]
    },
    {
      "cell_type": "code",
      "source": [
        "education = df['EDUCATION'].replace({\n",
        "    1: 'Pós-graduação',\n",
        "    2: 'Universidade',\n",
        "    3: 'Graduação escolar',\n",
        "    4: 'Outros',}).value_counts().reset_index()\n",
        "plt.bar(education['EDUCATION'], education['count'])\n",
        "plt.title('Quantidade de Pessoas por Estado Civil')\n",
        "plt.show()"
      ],
      "metadata": {
        "colab": {
          "base_uri": "https://localhost:8080/",
          "height": 453
        },
        "id": "wMsLdsXhDOav",
        "outputId": "c738fb46-60af-47d4-ff24-70013a870d4a"
      },
      "execution_count": null,
      "outputs": [
        {
          "output_type": "display_data",
          "data": {
            "text/plain": [
              "<Figure size 640x480 with 1 Axes>"
            ],
            "image/png": "[encoded data removed]"
          },
          "metadata": {}
        }
      ]
    },
    {
      "cell_type": "code",
      "source": [
        "plt.hist(df_cleaned['AGE'], bins=10)\n",
        "plt.title('Distribuição das Idades dos Clientes')\n",
        "plt.xlabel('Idade')\n",
        "plt.ylabel('Quantidade')\n",
        "plt.show()\n"
      ],
      "metadata": {
        "colab": {
          "base_uri": "https://localhost:8080/",
          "height": 472
        },
        "id": "3mTW3RfTE6v6",
        "outputId": "0569d58f-33ee-4e80-a83e-5a4b7cc68bbf"
      },
      "execution_count": null,
      "outputs": [
        {
          "output_type": "display_data",
          "data": {
            "text/plain": [
              "<Figure size 640x480 with 1 Axes>"
            ],
            "image/png": "[encoded data removed]"
          },
          "metadata": {}
        }
      ]
    },
    {
      "cell_type": "code",
      "source": [
        "default_next_month = df['DEF_NEXT_MONTH'].replace(\n",
        "    {0:'Adimplente', 1:'Inadimplente'}\n",
        ").value_counts().reset_index()\n",
        "plt.bar(default_next_month['DEF_NEXT_MONTH'], default_next_month['count'], color='#BD0101')\n",
        "plt.title('Situação de inadimplência no próximo mês')\n",
        "plt.show()\n"
      ],
      "metadata": {
        "colab": {
          "base_uri": "https://localhost:8080/",
          "height": 453
        },
        "id": "EbmlJoK4HPQt",
        "outputId": "9e3355c9-6928-4090-c8be-707d51449c7b"
      },
      "execution_count": null,
      "outputs": [
        {
          "output_type": "display_data",
          "data": {
            "text/plain": [
              "<Figure size 640x480 with 1 Axes>"
            ],
            "image/png": "[encoded data removed]"
          },
          "metadata": {}
        }
      ]
    },
    {
      "cell_type": "markdown",
      "source": [
        "\n",
        "\n",
        "> Com os gráficos é possível observar algumas informações importantes. <br>\n",
        "Em especial a **\"Situação de inadimplência no próximo mês\"**, pois nela contem o alvo de para o aprendizado de máquina do projeto.\n",
        "\n",
        "\n",
        "  \n",
        "\n",
        "\n",
        "\n"
      ],
      "metadata": {
        "id": "rkYvrnpdI-np"
      }
    },
    {
      "cell_type": "markdown",
      "source": [
        "**Boxplot**"
      ],
      "metadata": {
        "id": "1V9naqU85OY3"
      }
    },
    {
      "cell_type": "code",
      "source": [
        "def milhar(x, pos):\n",
        "    return f'{int(x):,}'.replace(',', '.')\n",
        "\n",
        "df['EDUCATION_LABEL'] = df_cleaned['EDUCATION'].replace({\n",
        "    1: 'Pós graduação',\n",
        "    2: 'Universidade',\n",
        "    3: 'Ensino médio',\n",
        "    4: 'Outros'\n",
        "})\n",
        "\n",
        "plt.figure(figsize=(8, 5))\n",
        "df.boxplot(column='LIMIT_BAL', by='EDUCATION_LABEL', widths=0.7)\n",
        "plt.title('Crédito por Escolaridade')\n",
        "plt.suptitle('')\n",
        "plt.grid(True, linestyle='--', alpha=0.3)\n",
        "plt.xlabel('Grau de Escolaridade')\n",
        "plt.ylabel('Crédito (R$)')\n",
        "plt.xticks(rotation=45)\n",
        "\n",
        "plt.gca().yaxis.set_major_formatter(FuncFormatter(milhar))\n",
        "\n",
        "plt.show()"
      ],
      "metadata": {
        "colab": {
          "base_uri": "https://localhost:8080/",
          "height": 548
        },
        "id": "liiwqkKt1O-m",
        "outputId": "70f1c530-f54c-4928-ded6-598d8201a977"
      },
      "execution_count": null,
      "outputs": [
        {
          "output_type": "display_data",
          "data": {
            "text/plain": [
              "<Figure size 800x500 with 0 Axes>"
            ]
          },
          "metadata": {}
        },
        {
          "output_type": "display_data",
          "data": {
            "text/plain": [
              "<Figure size 640x480 with 1 Axes>"
            ],
            "image/png": "[encoded data removed]"
          },
          "metadata": {}
        }
      ]
    },
    {
      "cell_type": "code",
      "source": [
        "# Faixas de limite\n",
        "df['FAIXA_CREDITO'] = pd.cut(df['LIMIT_BAL'], bins=[0, 10000, 30000, 60000, 120000, 1000000],\n",
        "                             labels=['Até 10k', '10k–30k', '30k–60k', '60k–120k', '120k+'])\n",
        "\n",
        "plt.figure(figsize=(10, 5))\n",
        "df.boxplot(column='BILL_AMT1', by='FAIXA_CREDITO', widths=0.7)\n",
        "plt.title('Gasto Mensal por Faixa de Crédito')\n",
        "plt.suptitle('')\n",
        "plt.xlabel('Faixa de Crédito')\n",
        "plt.ylabel('Gasto Mensal (R$)')\n",
        "plt.grid(True, linestyle='--', alpha=0.3)\n",
        "plt.show()"
      ],
      "metadata": {
        "colab": {
          "base_uri": "https://localhost:8080/",
          "height": 480
        },
        "id": "qgZEoClUCEaw",
        "outputId": "59aa73a6-429a-4845-98da-15df76ee45c1"
      },
      "execution_count": null,
      "outputs": [
        {
          "output_type": "display_data",
          "data": {
            "text/plain": [
              "<Figure size 1000x500 with 0 Axes>"
            ]
          },
          "metadata": {}
        },
        {
          "output_type": "display_data",
          "data": {
            "text/plain": [
              "<Figure size 640x480 with 1 Axes>"
            ],
            "image/png": "[encoded data removed]"
          },
          "metadata": {}
        }
      ]
    },
    {
      "cell_type": "markdown",
      "source": [
        "##2.3 Correlações"
      ],
      "metadata": {
        "id": "kyqyeztL5j6-"
      }
    },
    {
      "cell_type": "code",
      "source": [
        "correlacao = df_cleaned[[\"PAY_1\", \"PAY_2\", \"PAY_3\", \"PAY_4\", \"PAY_5\", \"PAY_6\"]].corr()\n",
        "print(\"Matriz de Correlação: \\n\",correlacao)"
      ],
      "metadata": {
        "id": "w1VsDpE0n0Zx",
        "colab": {
          "base_uri": "https://localhost:8080/"
        },
        "outputId": "6154a3c2-d5aa-439a-b911-594de44b26c8"
      },
      "execution_count": null,
      "outputs": [
        {
          "output_type": "stream",
          "name": "stdout",
          "text": [
            "Matriz de Correlação: \n",
            "           PAY_1     PAY_2     PAY_3     PAY_4     PAY_5     PAY_6\n",
            "PAY_1  1.000000  0.698389  0.516970  0.460224  0.424473  0.373805\n",
            "PAY_2  0.698389  1.000000  0.663529  0.512773  0.462717  0.407086\n",
            "PAY_3  0.516970  0.663529  1.000000  0.678931  0.551430  0.492827\n",
            "PAY_4  0.460224  0.512773  0.678931  1.000000  0.745419  0.602875\n",
            "PAY_5  0.424473  0.462717  0.551430  0.745419  1.000000  0.740357\n",
            "PAY_6  0.373805  0.407086  0.492827  0.602875  0.740357  1.000000\n"
          ]
        }
      ]
    },
    {
      "cell_type": "code",
      "source": [
        "correlacaoB = df[[\"BILL_AMT1\", \"BILL_AMT2\", \"BILL_AMT3\", \"BILL_AMT4\", \"BILL_AMT5\", \"BILL_AMT6\"]].corr()\n",
        "\n",
        "plt.imshow(correlacaoB, cmap='coolwarm', interpolation='none')\n",
        "plt.colorbar()\n",
        "plt.xticks(range(len(correlacaoB)), correlacaoB.columns, rotation=45)\n",
        "plt.yticks(range(len(correlacaoB)), correlacaoB.columns)\n",
        "plt.title('Mapa de Correlação')\n",
        "plt.show()"
      ],
      "metadata": {
        "colab": {
          "base_uri": "https://localhost:8080/",
          "height": 501
        },
        "id": "tkG-nkZc6HnG",
        "outputId": "4994a06b-02a8-44c5-e655-5b8f874c5c45"
      },
      "execution_count": null,
      "outputs": [
        {
          "output_type": "display_data",
          "data": {
            "text/plain": [
              "<Figure size 640x480 with 2 Axes>"
            ],
            "image/png": "[encoded data removed]"
          },
          "metadata": {}
        }
      ]
    },
    {
      "cell_type": "code",
      "source": [
        "plt.figure(figsize=(8, 5))\n",
        "plt.hist(df[df['DEF_NEXT_MONTH'] == 0]['AGE'], bins=30, alpha=0.6, label='Não inadimplente', color='green')\n",
        "plt.hist(df[df['DEF_NEXT_MONTH'] == 1]['AGE'], bins=30, alpha=0.6, label='Inadimplente', color='red')\n",
        "plt.title('Distribuição de inadiplência de Crédito por Idade')\n",
        "plt.ylabel('Limite de Crédito (R$)')\n",
        "plt.xlabel('Idade')\n",
        "plt.legend()\n",
        "plt.grid(True, linestyle='--', alpha=0.3)\n",
        "plt.show()"
      ],
      "metadata": {
        "colab": {
          "base_uri": "https://localhost:8080/",
          "height": 488
        },
        "id": "hLDWy-AT63MH",
        "outputId": "3dba3971-a0f4-434b-aaf3-8cf0aec7c33e"
      },
      "execution_count": null,
      "outputs": [
        {
          "output_type": "display_data",
          "data": {
            "text/plain": [
              "<Figure size 800x500 with 1 Axes>"
            ],
            "image/png": "[encoded data removed]"
          },
          "metadata": {}
        }
      ]
    },
    {
      "cell_type": "markdown",
      "source": [],
      "metadata": {
        "id": "iz3DHmcUE-sc"
      }
    },
    {
      "cell_type": "markdown",
      "source": [
        "#3 Pré-processamento"
      ],
      "metadata": {
        "id": "Zlmcr2EfqMfp"
      }
    },
    {
      "cell_type": "markdown",
      "source": [
        "Corrigir outlier na idade"
      ],
      "metadata": {
        "id": "DVDlP6QPqYvw"
      }
    },
    {
      "cell_type": "code",
      "source": [
        "df['AGE'] = df['AGE'].apply(lambda x: min(x, 90))"
      ],
      "metadata": {
        "id": "E6LJ22isqZHw"
      },
      "execution_count": null,
      "outputs": []
    },
    {
      "cell_type": "markdown",
      "source": [
        "Definir colunas"
      ],
      "metadata": {
        "id": "dnbScLU5tK05"
      }
    },
    {
      "cell_type": "code",
      "source": [
        "colunas_numericas = [\n",
        "    'LIMIT_BAL', 'AGE',\n",
        "    'PAY_1', 'PAY_2', 'PAY_3', 'PAY_4', 'PAY_5', 'PAY_6',\n",
        "    'BILL_AMT1', 'BILL_AMT2', 'BILL_AMT3', 'BILL_AMT4', 'BILL_AMT5', 'BILL_AMT6',\n",
        "    'PAY_AMT1', 'PAY_AMT2', 'PAY_AMT3', 'PAY_AMT4', 'PAY_AMT5', 'PAY_AMT6'\n",
        "]\n",
        "\n",
        "colunas_categoricas = ['SEX', 'EDUCATION', 'MARRIAGE']\n",
        "coluna_alvo = 'DEF_NEXT_MONTH'"
      ],
      "metadata": {
        "id": "9K8rn1kOtM9o"
      },
      "execution_count": null,
      "outputs": []
    },
    {
      "cell_type": "markdown",
      "source": [
        "Criar pipeline"
      ],
      "metadata": {
        "id": "1xouKNYptXeW"
      }
    },
    {
      "cell_type": "code",
      "source": [
        "pipeline_numerico = Pipeline([\n",
        "    ('imputador', SimpleImputer(strategy='mean')),\n",
        "    ('escalador', MinMaxScaler())\n",
        "])\n",
        "pipeline_categorico = Pipeline([\n",
        "    ('onehot', OneHotEncoder(handle_unknown='ignore', sparse_output=False))\n",
        "])"
      ],
      "metadata": {
        "id": "Y2hKWhH2tXMH"
      },
      "execution_count": null,
      "outputs": []
    },
    {
      "cell_type": "markdown",
      "source": [
        "Combinar os pipelines"
      ],
      "metadata": {
        "id": "Mk9krd5wvPjv"
      }
    },
    {
      "cell_type": "code",
      "source": [
        "preprocessador = ColumnTransformer(transformers=[\n",
        "    ('num', pipeline_numerico, colunas_numericas),\n",
        "    ('cat', pipeline_categorico, colunas_categoricas)\n",
        "])"
      ],
      "metadata": {
        "id": "-EbyMSKkvPLH"
      },
      "execution_count": null,
      "outputs": []
    },
    {
      "cell_type": "markdown",
      "source": [
        "Separar X (variáveis) e y (alvo)"
      ],
      "metadata": {
        "id": "LetP8K5evjcn"
      }
    },
    {
      "cell_type": "code",
      "source": [
        "X = df[colunas_numericas + colunas_categoricas]\n",
        "y = df[coluna_alvo]"
      ],
      "metadata": {
        "id": "8K6vfo1lvjJm"
      },
      "execution_count": null,
      "outputs": []
    },
    {
      "cell_type": "markdown",
      "source": [
        "Aplicar o pré-processamento"
      ],
      "metadata": {
        "id": "lN6n7Z75v2IY"
      }
    },
    {
      "cell_type": "code",
      "source": [
        "X_preprocessado = preprocessador.fit_transform(X)"
      ],
      "metadata": {
        "id": "ncp5vethv1av"
      },
      "execution_count": null,
      "outputs": []
    },
    {
      "cell_type": "markdown",
      "source": [
        "Obter os nomes das colunas finais"
      ],
      "metadata": {
        "id": "X0vnUxiqwG0w"
      }
    },
    {
      "cell_type": "code",
      "source": [
        "nomes_numericos = colunas_numericas\n",
        "nomes_categoricos = preprocessador.named_transformers_['cat']['onehot'].get_feature_names_out(colunas_categoricas)\n",
        "nomes_finais = list(nomes_numericos) + list(nomes_categoricos)"
      ],
      "metadata": {
        "id": "eyVZz6uXwGXu"
      },
      "execution_count": null,
      "outputs": []
    },
    {
      "cell_type": "markdown",
      "source": [
        "Criar DataFrame processado"
      ],
      "metadata": {
        "id": "KWUFCJllwPUu"
      }
    },
    {
      "cell_type": "code",
      "source": [
        "df_processado = pd.DataFrame(X_preprocessado, columns=nomes_finais)"
      ],
      "metadata": {
        "id": "aX9OJUQLwOwP"
      },
      "execution_count": null,
      "outputs": []
    },
    {
      "cell_type": "markdown",
      "source": [
        "# 4 Treinamento"
      ],
      "metadata": {
        "id": "434q1NMEmHLS"
      }
    },
    {
      "cell_type": "markdown",
      "source": [
        "Esta etapa contempla as etapas de Modelagem e Avaliação dos algoritmos de previsao"
      ],
      "metadata": {
        "id": "Ve-8uaD4nuJq"
      }
    },
    {
      "cell_type": "code",
      "source": [
        "n_clientes = y.count()\n",
        "n_inadimplentes = y.sum()\n",
        "inadimplentes_percent = (n_inadimplentes / n_clientes) * 100\n",
        "\n",
        "print(f\"Número de clientes: {n_clientes}\")\n",
        "print(f\"Número de inadimplentes: {n_inadimplentes}\")\n",
        "print(f\"Porcentagem de inadimplentes: {inadimplentes_percent:.2f} %\")"
      ],
      "metadata": {
        "colab": {
          "base_uri": "https://localhost:8080/"
        },
        "id": "4-aZFdQimTjq",
        "outputId": "43024b95-cb6c-473f-fd5b-eb5bcf24d473"
      },
      "execution_count": null,
      "outputs": [
        {
          "output_type": "stream",
          "name": "stdout",
          "text": [
            "Número de clientes: 30000\n",
            "Número de inadimplentes: 6636\n",
            "Porcentagem de inadimplentes: 22.12 %\n"
          ]
        }
      ]
    },
    {
      "cell_type": "code",
      "source": [
        "#função de avaliação de desempenho\n",
        "def validation(y_test, y_pred):\n",
        "  print(\"Acurácia: \", \"%.2f\" % (accuracy_score(y_test, y_pred) * 100), \"%\")\n",
        "  print(\"Precisão: \", \"%.2f\" % (precision_score(y_test, y_pred) * 100), \"%\")\n",
        "  print(\"Recall: \", \"%.2f\" % (recall_score(y_test, y_pred) * 100), \"%\")\n",
        "  print(\"F1 Score: \", \"%.2f\" % (f1_score(y_test, y_pred) * 100), \"%\")\n",
        "  print(\"ROC AUC Score:\", \"%.2f\" % (roc_auc_score(y_test, y_pred) * 100), \"%\")\n",
        "  print(\"Matriz de confusão: \\n\", confusion_matrix(y_test, y_pred))"
      ],
      "metadata": {
        "id": "RPDbLz9embBj"
      },
      "execution_count": null,
      "outputs": []
    },
    {
      "cell_type": "code",
      "source": [
        "# Divisão em treino e teste com estratificação\n",
        "X_train, X_test, y_train, y_test = train_test_split(df_processado, y, test_size=0.3, random_state=42, stratify=y)\n",
        "\n",
        "SEED = 301\n",
        "X_train, X_test, y_train, y_test = train_test_split(df_processado, y, test_size=0.3, stratify=y, random_state=SEED)\n",
        "print(\"Treinaremos com %d elementos e testaremos com %d elementos\" % (len(X_train), len(X_test)))"
      ],
      "metadata": {
        "colab": {
          "base_uri": "https://localhost:8080/"
        },
        "id": "Hb4EEQCzmeNC",
        "outputId": "caa3ebde-d4e1-43c5-8048-2fb7be117799"
      },
      "execution_count": null,
      "outputs": [
        {
          "output_type": "stream",
          "name": "stdout",
          "text": [
            "Treinaremos com 21000 elementos e testaremos com 9000 elementos\n"
          ]
        }
      ]
    },
    {
      "cell_type": "markdown",
      "source": [
        "##4.1 Classificação e otimização"
      ],
      "metadata": {
        "id": "xoQBK8-km36N"
      }
    },
    {
      "cell_type": "markdown",
      "source": [
        "###4.1.1 Dummy Classifier"
      ],
      "metadata": {
        "id": "PSYj3NfUoGQg"
      }
    },
    {
      "cell_type": "code",
      "source": [
        "dummy_stratified = DummyClassifier(strategy=\"stratified\", random_state=SEED)\n",
        "dummy_stratified.fit(X_train, y_train)\n",
        "\n",
        "y_pred_dummy = dummy_stratified.predict(X_test)\n",
        "\n",
        "validation(y_test, y_pred_dummy)"
      ],
      "metadata": {
        "colab": {
          "base_uri": "https://localhost:8080/"
        },
        "id": "WcnxRs2Um3SS",
        "outputId": "8be3e755-bc1c-4bf9-a6f5-5b997991e848"
      },
      "execution_count": null,
      "outputs": [
        {
          "output_type": "stream",
          "name": "stdout",
          "text": [
            "Acurácia:  65.80 %\n",
            "Precisão:  22.14 %\n",
            "Recall:  21.70 %\n",
            "F1 Score:  21.92 %\n",
            "ROC AUC Score: 50.01 %\n",
            "Matriz de confusão: \n",
            " [[5490 1519]\n",
            " [1559  432]]\n"
          ]
        }
      ]
    },
    {
      "cell_type": "markdown",
      "source": [
        "###4.1.2 Decision Tree"
      ],
      "metadata": {
        "id": "IZ2fUljloLQI"
      }
    },
    {
      "cell_type": "code",
      "source": [
        "# Criar e treinar o modelo\n",
        "tree_model = DecisionTreeClassifier(max_depth=5, random_state=SEED)\n",
        "tree_model.fit(X_train, y_train)\n",
        "\n",
        "# Previsões\n",
        "y_pred = tree_model.predict(X_test)\n",
        "\n",
        "# Avaliação\n",
        "validation(y_test, y_pred)"
      ],
      "metadata": {
        "colab": {
          "base_uri": "https://localhost:8080/"
        },
        "id": "77oeRZaTm6j2",
        "outputId": "a1fbab6a-5c2e-4272-c34e-bf380ed31c2a"
      },
      "execution_count": null,
      "outputs": [
        {
          "output_type": "stream",
          "name": "stdout",
          "text": [
            "Acurácia:  81.98 %\n",
            "Precisão:  69.08 %\n",
            "Recall:  33.55 %\n",
            "F1 Score:  45.17 %\n",
            "ROC AUC Score: 64.64 %\n",
            "Matriz de confusão: \n",
            " [[6710  299]\n",
            " [1323  668]]\n"
          ]
        }
      ]
    },
    {
      "cell_type": "code",
      "source": [
        "# Hiperparâmetros que queremos testar\n",
        "param_grid = {\n",
        "    'max_depth': [3, 5, 10, 15],\n",
        "    'min_samples_split': [2, 5, 10],\n",
        "    'min_samples_leaf': [1, 2, 4]\n",
        "}\n",
        "\n",
        "# GridSearch com validação cruzada\n",
        "grid_search = GridSearchCV(\n",
        "    estimator=DecisionTreeClassifier(random_state=SEED),\n",
        "    param_grid=param_grid,\n",
        "    cv=5,\n",
        "    scoring='accuracy',\n",
        "    n_jobs=-1\n",
        ")\n",
        "\n",
        "# Treinar\n",
        "grid_search.fit(X_train, y_train)\n",
        "\n",
        "# Melhor modelo\n",
        "best_tree = grid_search.best_estimator_\n",
        "\n",
        "# Avaliação\n",
        "best_pred = best_tree.predict(X_test)\n",
        "validation(y_test, best_pred)\n",
        "print(\"Melhor Acurácia:\", accuracy_score(y_test, best_pred))\n",
        "print(\"Melhores parâmetros:\", grid_search.best_params_)\n"
      ],
      "metadata": {
        "colab": {
          "base_uri": "https://localhost:8080/"
        },
        "id": "Ek3TiQUcm-Fr",
        "outputId": "2529e33c-8f21-4d18-f6b7-7ede8acc1773"
      },
      "execution_count": null,
      "outputs": [
        {
          "output_type": "stream",
          "name": "stdout",
          "text": [
            "Acurácia:  82.06 %\n",
            "Precisão:  68.50 %\n",
            "Recall:  34.96 %\n",
            "F1 Score:  46.29 %\n",
            "ROC AUC Score: 65.20 %\n",
            "Matriz de confusão: \n",
            " [[6689  320]\n",
            " [1295  696]]\n",
            "Melhor Acurácia: 0.8205555555555556\n",
            "Melhores parâmetros: {'max_depth': 3, 'min_samples_leaf': 1, 'min_samples_split': 2}\n"
          ]
        }
      ]
    },
    {
      "cell_type": "markdown",
      "source": [
        "###4.1.3 RandomForestClassifier"
      ],
      "metadata": {
        "id": "k_0QICrJoSjF"
      }
    },
    {
      "cell_type": "code",
      "source": [
        "# Criar o modelo base com parâmetros iniciais\n",
        "rf_model = RandomForestClassifier(n_estimators=100, max_depth=10, random_state=SEED)\n",
        "rf_model.fit(X_train, y_train)\n",
        "\n",
        "# Fazer previsão básica (opcional, antes do ajuste)\n",
        "y_pred_rf = rf_model.predict(X_test)\n",
        "validation(y_test, y_pred_rf)"
      ],
      "metadata": {
        "colab": {
          "base_uri": "https://localhost:8080/"
        },
        "id": "11MDwxVho7pj",
        "outputId": "1908252c-c8f8-4a38-bcac-34182ea718cc"
      },
      "execution_count": null,
      "outputs": [
        {
          "output_type": "stream",
          "name": "stdout",
          "text": [
            "Acurácia:  81.90 %\n",
            "Precisão:  68.70 %\n",
            "Recall:  33.40 %\n",
            "F1 Score:  44.95 %\n",
            "ROC AUC Score: 64.54 %\n",
            "Matriz de confusão: \n",
            " [[6706  303]\n",
            " [1326  665]]\n"
          ]
        }
      ]
    },
    {
      "cell_type": "code",
      "source": [
        "# Definir os hiperparâmetros a testar\n",
        "param_grid = {\n",
        "    'n_estimators': [50, 100, 200],\n",
        "    'max_depth': [3, 5, 10],\n",
        "    'min_samples_split': [2, 5]\n",
        "}\n",
        "\n",
        "# Criar o objeto GridSearchCV\n",
        "grid_search = GridSearchCV(\n",
        "    estimator=rf_model,  # usa o modelo criado antes\n",
        "    param_grid=param_grid,\n",
        "    cv=5,\n",
        "    scoring='accuracy',\n",
        "    n_jobs=-1\n",
        ")\n",
        "\n",
        "# Treinar com validação cruzada\n",
        "grid_search.fit(X_train, y_train)\n",
        "\n",
        "# Melhor modelo encontrado\n",
        "best_rf = grid_search.best_estimator_\n",
        "\n",
        "# Avaliar no conjunto de teste\n",
        "best_pred = best_rf.predict(X_test)\n",
        "validation(y_test, best_pred)\n"
      ],
      "metadata": {
        "colab": {
          "base_uri": "https://localhost:8080/"
        },
        "id": "CFUfD2f2o8pq",
        "outputId": "0d6310a6-b818-4d11-9208-87fc914ce276"
      },
      "execution_count": null,
      "outputs": [
        {
          "output_type": "stream",
          "name": "stdout",
          "text": [
            "Acurácia:  82.07 %\n",
            "Precisão:  69.99 %\n",
            "Recall:  33.15 %\n",
            "F1 Score:  44.99 %\n",
            "ROC AUC Score: 64.56 %\n",
            "Matriz de confusão: \n",
            " [[6726  283]\n",
            " [1331  660]]\n"
          ]
        }
      ]
    }
  ]
}