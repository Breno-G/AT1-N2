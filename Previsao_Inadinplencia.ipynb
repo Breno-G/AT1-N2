{
  "nbformat": 4,
  "nbformat_minor": 0,
  "metadata": {
    "colab": {
      "provenance": []
    },
    "kernelspec": {
      "name": "python3",
      "display_name": "Python 3"
    },
    "language_info": {
      "name": "python"
    }
  },
  "cells": [
    {
      "cell_type": "markdown",
      "source": [
        "Primeira etapa: Limpeza de dados com pandas"
      ],
      "metadata": {
        "id": "6E9X8jtVy1ku"
      }
    },
    {
      "cell_type": "markdown",
      "source": [
        "# **1. Entendendo os dados**\n",
        "\n",
        "---\n",
        "\n"
      ],
      "metadata": {
        "id": "l8DbVYFnro6U"
      }
    },
    {
      "cell_type": "markdown",
      "source": [
        "O  [*default of credit card clients dataset*](https://www.kaggle.com/datasets/uciml/default-of-credit-card-clients-dataset) foi extaído do Kaggle.<br>\n",
        "\n",
        "\n",
        "Nele é possível ter acesso a toda documentação.\n"
      ],
      "metadata": {
        "id": "dP7M-U2Yw9Lr"
      }
    },
    {
      "cell_type": "markdown",
      "source": [
        "## **1.1  Importando os pacotes e lendo os dados**"
      ],
      "metadata": {
        "id": "z9W3YlTGvt9y"
      }
    },
    {
      "cell_type": "code",
      "execution_count": 62,
      "metadata": {
        "id": "BgyLENJfrj5L"
      },
      "outputs": [],
      "source": [
        "import pandas as pd\n",
        "import matplotlib.pyplot as plt\n",
        "from sklearn.preprocessing import StandardScaler"
      ]
    },
    {
      "cell_type": "code",
      "source": [
        "df = pd.read_csv('https://raw.githubusercontent.com/Breno-G/AT1-N2/refs/heads/main/dataset/UCI_Credit_Card.csv')"
      ],
      "metadata": {
        "id": "TK3SXFJIylTl"
      },
      "execution_count": 63,
      "outputs": []
    },
    {
      "cell_type": "markdown",
      "source": [
        "### Variáreis\n"
      ],
      "metadata": {
        "id": "V4uE1GuNy_Ew"
      }
    },
    {
      "cell_type": "markdown",
      "source": [
        "<ol>\n",
        "  <li><strong>ID</strong>: Identificador único de cada cliente.</li>\n",
        "  <li><strong>LIMIT_BAL</strong>: Valor total de crédito concedido (em dólares taiwaneses), incluindo limites pessoais e adicionais.</li>\n",
        "  <li><strong>SEX</strong>: Sexo do cliente: 1 para masculino, 2 para feminino.</li>\n",
        "  <li><strong>EDUCATION</strong>: Grau de escolaridade: 1 = pós-graduação, 2 = universidade, 3 = ensino médio, 4 = outros, 5 e 6 = desconhecido.</li>\n",
        "  <li><strong>MARRIAGE</strong>: Estado civil: 1 = casado, 2 = solteiro, 3 = outros.</li>\n",
        "  <li><strong>AGE</strong>: Idade do cliente (em anos).</li>\n",
        "  <li><strong>PAY_0</strong>: Situação de pagamento em setembro de 2005: -1 = pagamento em dia, 1 = atraso de 1 mês, até 9 = 9 meses ou mais de atraso.</li>\n",
        "  <li><strong>PAY_2</strong>: Situação de pagamento em agosto de 2005 (mesma escala de PAY_0).</li>\n",
        "  <li><strong>PAY_3</strong>: Situação de pagamento em julho de 2005 (mesma escala).</li>\n",
        "  <li><strong>PAY_4</strong>: Situação de pagamento em junho de 2005 (mesma escala).</li>\n",
        "  <li><strong>PAY_5</strong>: Situação de pagamento em maio de 2005 (mesma escala).</li>\n",
        "  <li><strong>PAY_6</strong>: Situação de pagamento em abril de 2005 (mesma escala).</li>\n",
        "  <li><strong>BILL_AMT1</strong>: Valor da fatura em setembro de 2005 (em dólares taiwaneses).</li>\n",
        "  <li><strong>BILL_AMT2</strong>: Valor da fatura em agosto de 2005.</li>\n",
        "  <li><strong>BILL_AMT3</strong>: Valor da fatura em julho de 2005.</li>\n",
        "  <li><strong>BILL_AMT4</strong>: Valor da fatura em junho de 2005.</li>\n",
        "  <li><strong>BILL_AMT5</strong>: Valor da fatura em maio de 2005.</li>\n",
        "  <li><strong>BILL_AMT6</strong>: Valor da fatura em abril de 2005.</li>\n",
        "  <li><strong>PAY_AMT1</strong>: Valor do pagamento realizado em setembro de 2005.</li>\n",
        "  <li><strong>PAY_AMT2</strong>: Valor do pagamento realizado em agosto de 2005.</li>\n",
        "  <li><strong>PAY_AMT3</strong>: Valor do pagamento realizado em julho de 2005.</li>\n",
        "  <li><strong>PAY_AMT4</strong>: Valor do pagamento realizado em junho de 2005.</li>\n",
        "  <li><strong>PAY_AMT5</strong>: Valor do pagamento realizado em maio de 2005.</li>\n",
        "  <li><strong>PAY_AMT6</strong>: Valor do pagamento realizado em abril de 2005.</li>\n",
        "  <li><strong>default.payment.next.month</strong>: Indica inadimplência no mês seguinte: 1 = sim (houve inadimplência), 0 = não.</li>\n",
        "</ol>"
      ],
      "metadata": {
        "id": "PWQXetim2li5"
      }
    },
    {
      "cell_type": "markdown",
      "source": [
        "## 1.2 Renomeando variáveis\n"
      ],
      "metadata": {
        "id": "2yaJv21A2xqa"
      }
    },
    {
      "cell_type": "markdown",
      "source": [
        "Duas colunas podem ter nomes melhores:"
      ],
      "metadata": {
        "id": "kc_G_VR-8lDB"
      }
    },
    {
      "cell_type": "code",
      "source": [
        "df = df.rename(columns={'PAY_0' : 'PAY_1',\n",
        "                        'default.payment.next.month' : 'DEF_NEXT_MONTH'})\n"
      ],
      "metadata": {
        "id": "5d_TDPKW7LXZ"
      },
      "execution_count": 64,
      "outputs": []
    },
    {
      "cell_type": "markdown",
      "source": [
        "## 1.3 Análise e limpeza de dados"
      ],
      "metadata": {
        "id": "U9_BfkKb88_Y"
      }
    },
    {
      "cell_type": "markdown",
      "source": [
        "O método .info() mostra que não será necessário fazer casting."
      ],
      "metadata": {
        "id": "IoYuzh4JEJtk"
      }
    },
    {
      "cell_type": "code",
      "source": [
        "df.info()"
      ],
      "metadata": {
        "colab": {
          "base_uri": "https://localhost:8080/"
        },
        "id": "yEXk0-PVzGbN",
        "outputId": "ec033fce-9138-4a7a-b61a-6090bafcc2bd"
      },
      "execution_count": 65,
      "outputs": [
        {
          "output_type": "stream",
          "name": "stdout",
          "text": [
            "<class 'pandas.core.frame.DataFrame'>\n",
            "RangeIndex: 30000 entries, 0 to 29999\n",
            "Data columns (total 25 columns):\n",
            " #   Column          Non-Null Count  Dtype  \n",
            "---  ------          --------------  -----  \n",
            " 0   ID              30000 non-null  int64  \n",
            " 1   LIMIT_BAL       30000 non-null  float64\n",
            " 2   SEX             30000 non-null  int64  \n",
            " 3   EDUCATION       30000 non-null  int64  \n",
            " 4   MARRIAGE        30000 non-null  int64  \n",
            " 5   AGE             30000 non-null  int64  \n",
            " 6   PAY_1           30000 non-null  int64  \n",
            " 7   PAY_2           30000 non-null  int64  \n",
            " 8   PAY_3           30000 non-null  int64  \n",
            " 9   PAY_4           30000 non-null  int64  \n",
            " 10  PAY_5           30000 non-null  int64  \n",
            " 11  PAY_6           30000 non-null  int64  \n",
            " 12  BILL_AMT1       30000 non-null  float64\n",
            " 13  BILL_AMT2       30000 non-null  float64\n",
            " 14  BILL_AMT3       30000 non-null  float64\n",
            " 15  BILL_AMT4       30000 non-null  float64\n",
            " 16  BILL_AMT5       30000 non-null  float64\n",
            " 17  BILL_AMT6       30000 non-null  float64\n",
            " 18  PAY_AMT1        30000 non-null  float64\n",
            " 19  PAY_AMT2        30000 non-null  float64\n",
            " 20  PAY_AMT3        30000 non-null  float64\n",
            " 21  PAY_AMT4        30000 non-null  float64\n",
            " 22  PAY_AMT5        30000 non-null  float64\n",
            " 23  PAY_AMT6        30000 non-null  float64\n",
            " 24  DEF_NEXT_MONTH  30000 non-null  int64  \n",
            "dtypes: float64(13), int64(12)\n",
            "memory usage: 5.7 MB\n"
          ]
        }
      ]
    },
    {
      "cell_type": "markdown",
      "source": [
        "### **Veficar dados estranhos no dataframe:**\n"
      ],
      "metadata": {
        "id": "taeT_gNoEHPU"
      }
    },
    {
      "cell_type": "code",
      "source": [
        "for col in df.columns:\n",
        "    print(f\"Coluna: {col}\")\n",
        "    print(df[col].unique())\n",
        "    print(\"-\" * 30)"
      ],
      "metadata": {
        "colab": {
          "base_uri": "https://localhost:8080/"
        },
        "id": "74svQu-EEk6J",
        "outputId": "ac995079-cfaa-445f-8c1e-65d04dc4a038"
      },
      "execution_count": 66,
      "outputs": [
        {
          "output_type": "stream",
          "name": "stdout",
          "text": [
            "Coluna: ID\n",
            "[    1     2     3 ... 29998 29999 30000]\n",
            "------------------------------\n",
            "Coluna: LIMIT_BAL\n",
            "[  20000.  120000.   90000.   50000.  500000.  100000.  140000.  200000.\n",
            "  260000.  630000.   70000.  250000.  320000.  360000.  180000.  130000.\n",
            "  450000.   60000.  230000.  160000.  280000.   10000.   40000.  210000.\n",
            "  150000.  380000.  310000.  400000.   80000.  290000.  340000.  300000.\n",
            "   30000.  240000.  470000.  480000.  350000.  330000.  110000.  420000.\n",
            "  170000.  370000.  270000.  220000.  190000.  510000.  460000.  440000.\n",
            "  410000.  490000.  390000.  580000.  600000.  620000.  610000.  700000.\n",
            "  670000.  680000.  430000.  550000.  540000. 1000000.  530000.  710000.\n",
            "  560000.  520000.  750000.  640000.   16000.  570000.  590000.  660000.\n",
            "  720000.  327680.  740000.  800000.  760000.  690000.  650000.  780000.\n",
            "  730000.]\n",
            "------------------------------\n",
            "Coluna: SEX\n",
            "[2 1]\n",
            "------------------------------\n",
            "Coluna: EDUCATION\n",
            "[2 1 3 5 4 6 0]\n",
            "------------------------------\n",
            "Coluna: MARRIAGE\n",
            "[1 2 3 0]\n",
            "------------------------------\n",
            "Coluna: AGE\n",
            "[24 26 34 37 57 29 23 28 35 51 41 30 49 39 40 27 47 33 32 54 58 22 25 31\n",
            " 46 42 43 45 56 44 53 38 63 36 52 48 55 60 50 75 61 73 59 21 67 66 62 70\n",
            " 72 64 65 71 69 68 79 74]\n",
            "------------------------------\n",
            "Coluna: PAY_1\n",
            "[ 2 -1  0 -2  1  3  4  8  7  5  6]\n",
            "------------------------------\n",
            "Coluna: PAY_2\n",
            "[ 2  0 -1 -2  3  5  7  4  1  6  8]\n",
            "------------------------------\n",
            "Coluna: PAY_3\n",
            "[-1  0  2 -2  3  4  6  7  1  5  8]\n",
            "------------------------------\n",
            "Coluna: PAY_4\n",
            "[-1  0 -2  2  3  4  5  7  6  1  8]\n",
            "------------------------------\n",
            "Coluna: PAY_5\n",
            "[-2  0 -1  2  3  5  4  7  8  6]\n",
            "------------------------------\n",
            "Coluna: PAY_6\n",
            "[-2  2  0 -1  3  6  4  7  8  5]\n",
            "------------------------------\n",
            "Coluna: BILL_AMT1\n",
            "[ 3913.  2682. 29239. ...  1683. -1645. 47929.]\n",
            "------------------------------\n",
            "Coluna: BILL_AMT2\n",
            "[ 3102.  1725. 14027. ...  3356. 78379. 48905.]\n",
            "------------------------------\n",
            "Coluna: BILL_AMT3\n",
            "[  689.  2682. 13559. ...  2758. 76304. 49764.]\n",
            "------------------------------\n",
            "Coluna: BILL_AMT4\n",
            "[    0.  3272. 14331. ... 20878. 52774. 36535.]\n",
            "------------------------------\n",
            "Coluna: BILL_AMT5\n",
            "[    0.  3455. 14948. ... 31237.  5190. 32428.]\n",
            "------------------------------\n",
            "Coluna: BILL_AMT6\n",
            "[    0.  3261. 15549. ... 19357. 48944. 15313.]\n",
            "------------------------------\n",
            "Coluna: PAY_AMT1\n",
            "[    0.  1518.  2000. ... 10029.  9054. 85900.]\n",
            "------------------------------\n",
            "Coluna: PAY_AMT2\n",
            "[   689.   1000.   1500. ...   2977. 111784.   3526.]\n",
            "------------------------------\n",
            "Coluna: PAY_AMT3\n",
            "[     0.   1000.   1200. ... 349395.   8907.  25128.]\n",
            "------------------------------\n",
            "Coluna: PAY_AMT4\n",
            "[    0.  1000.  1100. ...  2556. 10115.  8049.]\n",
            "------------------------------\n",
            "Coluna: PAY_AMT5\n",
            "[    0.  1000.  1069. ...  8040.  3319. 52964.]\n",
            "------------------------------\n",
            "Coluna: PAY_AMT6\n",
            "[     0.   2000.   5000. ...  70052. 220076.  16080.]\n",
            "------------------------------\n",
            "Coluna: DEF_NEXT_MONTH\n",
            "[1 0]\n",
            "------------------------------\n"
          ]
        }
      ]
    },
    {
      "cell_type": "markdown",
      "source": [
        "### Limpando dados inválidos"
      ],
      "metadata": {
        "id": "MOd5Yl-tGiEc"
      }
    },
    {
      "cell_type": "markdown",
      "source": [
        "EDUCATION: 0 não existe na documentação e 5 e 6 são desconhecidos, subtituir para 4 (outros)\n",
        "\n",
        "MARIAGE: 0 não existe, substituir para 3 (outros\n",
        ")"
      ],
      "metadata": {
        "id": "ReLI9h6ZRnea"
      }
    },
    {
      "cell_type": "code",
      "source": [
        "# Corrigir valores incorretos em 'EDUCATION'\n",
        "df[\"EDUCATION\"] = df[\"EDUCATION\"].replace({0: 4, 5: 4, 6: 4})\n",
        "\n",
        "# Corrigir valores incorretos em 'MARRIAGE'\n",
        "df[\"MARRIAGE\"] = df[\"MARRIAGE\"].replace({0: 3})\n",
        "\n",
        "#Verificar\n",
        "for col in ['MARRIAGE', 'EDUCATION']:\n",
        "    print(f\"Coluna: {col}\")\n",
        "    print(df[col].unique())\n",
        "    print(\"-\" * 30)"
      ],
      "metadata": {
        "colab": {
          "base_uri": "https://localhost:8080/"
        },
        "id": "_o6Y6SHERnGk",
        "outputId": "a8409d56-9385-4789-f71b-9f6b24beab68"
      },
      "execution_count": 67,
      "outputs": [
        {
          "output_type": "stream",
          "name": "stdout",
          "text": [
            "Coluna: MARRIAGE\n",
            "[1 2 3]\n",
            "------------------------------\n",
            "Coluna: EDUCATION\n",
            "[2 1 3 4]\n",
            "------------------------------\n"
          ]
        }
      ]
    },
    {
      "cell_type": "markdown",
      "source": [
        "A coluna PAY_[n] contem numeros negativos, que sugere que o cliente pagou antecipadamente. Mas além de não estar documentado, pode atrapalhar o processo de aprendizado de máquina."
      ],
      "metadata": {
        "id": "UKO61xzMXGQ6"
      }
    },
    {
      "cell_type": "code",
      "source": [
        "#Corrigir valores negativos\n",
        "pay_status_cols = [\"PAY_1\", \"PAY_2\", \"PAY_3\", \"PAY_4\", \"PAY_5\", \"PAY_6\"]\n",
        "for col in pay_status_cols:\n",
        "    df[col] = df[col].apply(lambda x: 0 if x < 0 else x)\n",
        "#Verificar\n",
        "for col in [\"PAY_1\", \"PAY_2\", \"PAY_3\", \"PAY_4\", \"PAY_5\", \"PAY_6\"]:\n",
        "    print(f\"Coluna: {col}\")\n",
        "    print(df[col].unique())\n",
        "    print(\"-\" * 30)\n"
      ],
      "metadata": {
        "colab": {
          "base_uri": "https://localhost:8080/"
        },
        "id": "2GH4QsuJZhuY",
        "outputId": "6832e677-59c2-429b-f430-b2de1a4521f7"
      },
      "execution_count": 68,
      "outputs": [
        {
          "output_type": "stream",
          "name": "stdout",
          "text": [
            "Coluna: PAY_1\n",
            "[2 0 1 3 4 8 7 5 6]\n",
            "------------------------------\n",
            "Coluna: PAY_2\n",
            "[2 0 3 5 7 4 1 6 8]\n",
            "------------------------------\n",
            "Coluna: PAY_3\n",
            "[0 2 3 4 6 7 1 5 8]\n",
            "------------------------------\n",
            "Coluna: PAY_4\n",
            "[0 2 3 4 5 7 6 1 8]\n",
            "------------------------------\n",
            "Coluna: PAY_5\n",
            "[0 2 3 5 4 7 8 6]\n",
            "------------------------------\n",
            "Coluna: PAY_6\n",
            "[0 2 3 6 4 7 8 5]\n",
            "------------------------------\n"
          ]
        }
      ]
    },
    {
      "cell_type": "markdown",
      "source": [
        "O dados em PAY_AMT[n] e BILL_AMT[n] precisam ser normalizados para maior precisão nas próximas etapas."
      ],
      "metadata": {
        "id": "s622zbwpou1j"
      }
    },
    {
      "cell_type": "code",
      "source": [
        "df[['PAY_AMT1', 'PAY_AMT2', 'PAY_AMT3', 'PAY_AMT4', 'PAY_AMT5', 'PAY_AMT6']].describe()"
      ],
      "metadata": {
        "colab": {
          "base_uri": "https://localhost:8080/",
          "height": 300
        },
        "id": "T84NeNRscX-f",
        "outputId": "a6945edf-a2b5-4131-9d31-4f792eb708c1"
      },
      "execution_count": 69,
      "outputs": [
        {
          "output_type": "execute_result",
          "data": {
            "text/plain": [
              "            PAY_AMT1      PAY_AMT2      PAY_AMT3       PAY_AMT4  \\\n",
              "count   30000.000000  3.000000e+04   30000.00000   30000.000000   \n",
              "mean     5663.580500  5.921163e+03    5225.68150    4826.076867   \n",
              "std     16563.280354  2.304087e+04   17606.96147   15666.159744   \n",
              "min         0.000000  0.000000e+00       0.00000       0.000000   \n",
              "25%      1000.000000  8.330000e+02     390.00000     296.000000   \n",
              "50%      2100.000000  2.009000e+03    1800.00000    1500.000000   \n",
              "75%      5006.000000  5.000000e+03    4505.00000    4013.250000   \n",
              "max    873552.000000  1.684259e+06  896040.00000  621000.000000   \n",
              "\n",
              "            PAY_AMT5       PAY_AMT6  \n",
              "count   30000.000000   30000.000000  \n",
              "mean     4799.387633    5215.502567  \n",
              "std     15278.305679   17777.465775  \n",
              "min         0.000000       0.000000  \n",
              "25%       252.500000     117.750000  \n",
              "50%      1500.000000    1500.000000  \n",
              "75%      4031.500000    4000.000000  \n",
              "max    426529.000000  528666.000000  "
            ],
            "text/html": [
              "\n",
              "  <div id=\"df-336fca68-32cb-471c-b6e8-2d6049e0c0e7\" class=\"colab-df-container\">\n",
              "    <div>\n",
              "<style scoped>\n",
              "    .dataframe tbody tr th:only-of-type {\n",
              "        vertical-align: middle;\n",
              "    }\n",
              "\n",
              "    .dataframe tbody tr th {\n",
              "        vertical-align: top;\n",
              "    }\n",
              "\n",
              "    .dataframe thead th {\n",
              "        text-align: right;\n",
              "    }\n",
              "</style>\n",
              "<table border=\"1\" class=\"dataframe\">\n",
              "  <thead>\n",
              "    <tr style=\"text-align: right;\">\n",
              "      <th></th>\n",
              "      <th>PAY_AMT1</th>\n",
              "      <th>PAY_AMT2</th>\n",
              "      <th>PAY_AMT3</th>\n",
              "      <th>PAY_AMT4</th>\n",
              "      <th>PAY_AMT5</th>\n",
              "      <th>PAY_AMT6</th>\n",
              "    </tr>\n",
              "  </thead>\n",
              "  <tbody>\n",
              "    <tr>\n",
              "      <th>count</th>\n",
              "      <td>30000.000000</td>\n",
              "      <td>3.000000e+04</td>\n",
              "      <td>30000.00000</td>\n",
              "      <td>30000.000000</td>\n",
              "      <td>30000.000000</td>\n",
              "      <td>30000.000000</td>\n",
              "    </tr>\n",
              "    <tr>\n",
              "      <th>mean</th>\n",
              "      <td>5663.580500</td>\n",
              "      <td>5.921163e+03</td>\n",
              "      <td>5225.68150</td>\n",
              "      <td>4826.076867</td>\n",
              "      <td>4799.387633</td>\n",
              "      <td>5215.502567</td>\n",
              "    </tr>\n",
              "    <tr>\n",
              "      <th>std</th>\n",
              "      <td>16563.280354</td>\n",
              "      <td>2.304087e+04</td>\n",
              "      <td>17606.96147</td>\n",
              "      <td>15666.159744</td>\n",
              "      <td>15278.305679</td>\n",
              "      <td>17777.465775</td>\n",
              "    </tr>\n",
              "    <tr>\n",
              "      <th>min</th>\n",
              "      <td>0.000000</td>\n",
              "      <td>0.000000e+00</td>\n",
              "      <td>0.00000</td>\n",
              "      <td>0.000000</td>\n",
              "      <td>0.000000</td>\n",
              "      <td>0.000000</td>\n",
              "    </tr>\n",
              "    <tr>\n",
              "      <th>25%</th>\n",
              "      <td>1000.000000</td>\n",
              "      <td>8.330000e+02</td>\n",
              "      <td>390.00000</td>\n",
              "      <td>296.000000</td>\n",
              "      <td>252.500000</td>\n",
              "      <td>117.750000</td>\n",
              "    </tr>\n",
              "    <tr>\n",
              "      <th>50%</th>\n",
              "      <td>2100.000000</td>\n",
              "      <td>2.009000e+03</td>\n",
              "      <td>1800.00000</td>\n",
              "      <td>1500.000000</td>\n",
              "      <td>1500.000000</td>\n",
              "      <td>1500.000000</td>\n",
              "    </tr>\n",
              "    <tr>\n",
              "      <th>75%</th>\n",
              "      <td>5006.000000</td>\n",
              "      <td>5.000000e+03</td>\n",
              "      <td>4505.00000</td>\n",
              "      <td>4013.250000</td>\n",
              "      <td>4031.500000</td>\n",
              "      <td>4000.000000</td>\n",
              "    </tr>\n",
              "    <tr>\n",
              "      <th>max</th>\n",
              "      <td>873552.000000</td>\n",
              "      <td>1.684259e+06</td>\n",
              "      <td>896040.00000</td>\n",
              "      <td>621000.000000</td>\n",
              "      <td>426529.000000</td>\n",
              "      <td>528666.000000</td>\n",
              "    </tr>\n",
              "  </tbody>\n",
              "</table>\n",
              "</div>\n",
              "    <div class=\"colab-df-buttons\">\n",
              "\n",
              "  <div class=\"colab-df-container\">\n",
              "    <button class=\"colab-df-convert\" onclick=\"convertToInteractive('df-336fca68-32cb-471c-b6e8-2d6049e0c0e7')\"\n",
              "            title=\"Convert this dataframe to an interactive table.\"\n",
              "            style=\"display:none;\">\n",
              "\n",
              "  <svg xmlns=\"http://www.w3.org/2000/svg\" height=\"24px\" viewBox=\"0 -960 960 960\">\n",
              "    <path d=\"M120-120v-720h720v720H120Zm60-500h600v-160H180v160Zm220 220h160v-160H400v160Zm0 220h160v-160H400v160ZM180-400h160v-160H180v160Zm440 0h160v-160H620v160ZM180-180h160v-160H180v160Zm440 0h160v-160H620v160Z\"/>\n",
              "  </svg>\n",
              "    </button>\n",
              "\n",
              "  <style>\n",
              "    .colab-df-container {\n",
              "      display:flex;\n",
              "      gap: 12px;\n",
              "    }\n",
              "\n",
              "    .colab-df-convert {\n",
              "      background-color: #E8F0FE;\n",
              "      border: none;\n",
              "      border-radius: 50%;\n",
              "      cursor: pointer;\n",
              "      display: none;\n",
              "      fill: #1967D2;\n",
              "      height: 32px;\n",
              "      padding: 0 0 0 0;\n",
              "      width: 32px;\n",
              "    }\n",
              "\n",
              "    .colab-df-convert:hover {\n",
              "      background-color: #E2EBFA;\n",
              "      box-shadow: 0px 1px 2px rgba(60, 64, 67, 0.3), 0px 1px 3px 1px rgba(60, 64, 67, 0.15);\n",
              "      fill: #174EA6;\n",
              "    }\n",
              "\n",
              "    .colab-df-buttons div {\n",
              "      margin-bottom: 4px;\n",
              "    }\n",
              "\n",
              "    [theme=dark] .colab-df-convert {\n",
              "      background-color: #3B4455;\n",
              "      fill: #D2E3FC;\n",
              "    }\n",
              "\n",
              "    [theme=dark] .colab-df-convert:hover {\n",
              "      background-color: #434B5C;\n",
              "      box-shadow: 0px 1px 3px 1px rgba(0, 0, 0, 0.15);\n",
              "      filter: drop-shadow(0px 1px 2px rgba(0, 0, 0, 0.3));\n",
              "      fill: #FFFFFF;\n",
              "    }\n",
              "  </style>\n",
              "\n",
              "    <script>\n",
              "      const buttonEl =\n",
              "        document.querySelector('#df-336fca68-32cb-471c-b6e8-2d6049e0c0e7 button.colab-df-convert');\n",
              "      buttonEl.style.display =\n",
              "        google.colab.kernel.accessAllowed ? 'block' : 'none';\n",
              "\n",
              "      async function convertToInteractive(key) {\n",
              "        const element = document.querySelector('#df-336fca68-32cb-471c-b6e8-2d6049e0c0e7');\n",
              "        const dataTable =\n",
              "          await google.colab.kernel.invokeFunction('convertToInteractive',\n",
              "                                                    [key], {});\n",
              "        if (!dataTable) return;\n",
              "\n",
              "        const docLinkHtml = 'Like what you see? Visit the ' +\n",
              "          '<a target=\"_blank\" href=https://colab.research.google.com/notebooks/data_table.ipynb>data table notebook</a>'\n",
              "          + ' to learn more about interactive tables.';\n",
              "        element.innerHTML = '';\n",
              "        dataTable['output_type'] = 'display_data';\n",
              "        await google.colab.output.renderOutput(dataTable, element);\n",
              "        const docLink = document.createElement('div');\n",
              "        docLink.innerHTML = docLinkHtml;\n",
              "        element.appendChild(docLink);\n",
              "      }\n",
              "    </script>\n",
              "  </div>\n",
              "\n",
              "\n",
              "    <div id=\"df-9cfc9def-857b-4c92-9b4f-d175636f8900\">\n",
              "      <button class=\"colab-df-quickchart\" onclick=\"quickchart('df-9cfc9def-857b-4c92-9b4f-d175636f8900')\"\n",
              "                title=\"Suggest charts\"\n",
              "                style=\"display:none;\">\n",
              "\n",
              "<svg xmlns=\"http://www.w3.org/2000/svg\" height=\"24px\"viewBox=\"0 0 24 24\"\n",
              "     width=\"24px\">\n",
              "    <g>\n",
              "        <path d=\"M19 3H5c-1.1 0-2 .9-2 2v14c0 1.1.9 2 2 2h14c1.1 0 2-.9 2-2V5c0-1.1-.9-2-2-2zM9 17H7v-7h2v7zm4 0h-2V7h2v10zm4 0h-2v-4h2v4z\"/>\n",
              "    </g>\n",
              "</svg>\n",
              "      </button>\n",
              "\n",
              "<style>\n",
              "  .colab-df-quickchart {\n",
              "      --bg-color: #E8F0FE;\n",
              "      --fill-color: #1967D2;\n",
              "      --hover-bg-color: #E2EBFA;\n",
              "      --hover-fill-color: #174EA6;\n",
              "      --disabled-fill-color: #AAA;\n",
              "      --disabled-bg-color: #DDD;\n",
              "  }\n",
              "\n",
              "  [theme=dark] .colab-df-quickchart {\n",
              "      --bg-color: #3B4455;\n",
              "      --fill-color: #D2E3FC;\n",
              "      --hover-bg-color: #434B5C;\n",
              "      --hover-fill-color: #FFFFFF;\n",
              "      --disabled-bg-color: #3B4455;\n",
              "      --disabled-fill-color: #666;\n",
              "  }\n",
              "\n",
              "  .colab-df-quickchart {\n",
              "    background-color: var(--bg-color);\n",
              "    border: none;\n",
              "    border-radius: 50%;\n",
              "    cursor: pointer;\n",
              "    display: none;\n",
              "    fill: var(--fill-color);\n",
              "    height: 32px;\n",
              "    padding: 0;\n",
              "    width: 32px;\n",
              "  }\n",
              "\n",
              "  .colab-df-quickchart:hover {\n",
              "    background-color: var(--hover-bg-color);\n",
              "    box-shadow: 0 1px 2px rgba(60, 64, 67, 0.3), 0 1px 3px 1px rgba(60, 64, 67, 0.15);\n",
              "    fill: var(--button-hover-fill-color);\n",
              "  }\n",
              "\n",
              "  .colab-df-quickchart-complete:disabled,\n",
              "  .colab-df-quickchart-complete:disabled:hover {\n",
              "    background-color: var(--disabled-bg-color);\n",
              "    fill: var(--disabled-fill-color);\n",
              "    box-shadow: none;\n",
              "  }\n",
              "\n",
              "  .colab-df-spinner {\n",
              "    border: 2px solid var(--fill-color);\n",
              "    border-color: transparent;\n",
              "    border-bottom-color: var(--fill-color);\n",
              "    animation:\n",
              "      spin 1s steps(1) infinite;\n",
              "  }\n",
              "\n",
              "  @keyframes spin {\n",
              "    0% {\n",
              "      border-color: transparent;\n",
              "      border-bottom-color: var(--fill-color);\n",
              "      border-left-color: var(--fill-color);\n",
              "    }\n",
              "    20% {\n",
              "      border-color: transparent;\n",
              "      border-left-color: var(--fill-color);\n",
              "      border-top-color: var(--fill-color);\n",
              "    }\n",
              "    30% {\n",
              "      border-color: transparent;\n",
              "      border-left-color: var(--fill-color);\n",
              "      border-top-color: var(--fill-color);\n",
              "      border-right-color: var(--fill-color);\n",
              "    }\n",
              "    40% {\n",
              "      border-color: transparent;\n",
              "      border-right-color: var(--fill-color);\n",
              "      border-top-color: var(--fill-color);\n",
              "    }\n",
              "    60% {\n",
              "      border-color: transparent;\n",
              "      border-right-color: var(--fill-color);\n",
              "    }\n",
              "    80% {\n",
              "      border-color: transparent;\n",
              "      border-right-color: var(--fill-color);\n",
              "      border-bottom-color: var(--fill-color);\n",
              "    }\n",
              "    90% {\n",
              "      border-color: transparent;\n",
              "      border-bottom-color: var(--fill-color);\n",
              "    }\n",
              "  }\n",
              "</style>\n",
              "\n",
              "      <script>\n",
              "        async function quickchart(key) {\n",
              "          const quickchartButtonEl =\n",
              "            document.querySelector('#' + key + ' button');\n",
              "          quickchartButtonEl.disabled = true;  // To prevent multiple clicks.\n",
              "          quickchartButtonEl.classList.add('colab-df-spinner');\n",
              "          try {\n",
              "            const charts = await google.colab.kernel.invokeFunction(\n",
              "                'suggestCharts', [key], {});\n",
              "          } catch (error) {\n",
              "            console.error('Error during call to suggestCharts:', error);\n",
              "          }\n",
              "          quickchartButtonEl.classList.remove('colab-df-spinner');\n",
              "          quickchartButtonEl.classList.add('colab-df-quickchart-complete');\n",
              "        }\n",
              "        (() => {\n",
              "          let quickchartButtonEl =\n",
              "            document.querySelector('#df-9cfc9def-857b-4c92-9b4f-d175636f8900 button');\n",
              "          quickchartButtonEl.style.display =\n",
              "            google.colab.kernel.accessAllowed ? 'block' : 'none';\n",
              "        })();\n",
              "      </script>\n",
              "    </div>\n",
              "\n",
              "    </div>\n",
              "  </div>\n"
            ],
            "application/vnd.google.colaboratory.intrinsic+json": {
              "type": "dataframe",
              "summary": "{\n  \"name\": \"df[['PAY_AMT1', 'PAY_AMT2', 'PAY_AMT3', 'PAY_AMT4', 'PAY_AMT5', 'PAY_AMT6']]\",\n  \"rows\": 8,\n  \"fields\": [\n    {\n      \"column\": \"PAY_AMT1\",\n      \"properties\": {\n        \"dtype\": \"number\",\n        \"std\": 305967.4045369686,\n        \"min\": 0.0,\n        \"max\": 873552.0,\n        \"num_unique_values\": 8,\n        \"samples\": [\n          5663.5805,\n          2100.0,\n          30000.0\n        ],\n        \"semantic_type\": \"\",\n        \"description\": \"\"\n      }\n    },\n    {\n      \"column\": \"PAY_AMT2\",\n      \"properties\": {\n        \"dtype\": \"number\",\n        \"std\": 592204.8791652374,\n        \"min\": 0.0,\n        \"max\": 1684259.0,\n        \"num_unique_values\": 8,\n        \"samples\": [\n          5921.1635,\n          2009.0,\n          30000.0\n        ],\n        \"semantic_type\": \"\",\n        \"description\": \"\"\n      }\n    },\n    {\n      \"column\": \"PAY_AMT3\",\n      \"properties\": {\n        \"dtype\": \"number\",\n        \"std\": 313963.14422646584,\n        \"min\": 0.0,\n        \"max\": 896040.0,\n        \"num_unique_values\": 8,\n        \"samples\": [\n          5225.6815,\n          1800.0,\n          30000.0\n        ],\n        \"semantic_type\": \"\",\n        \"description\": \"\"\n      }\n    },\n    {\n      \"column\": \"PAY_AMT4\",\n      \"properties\": {\n        \"dtype\": \"number\",\n        \"std\": 216954.899987459,\n        \"min\": 0.0,\n        \"max\": 621000.0,\n        \"num_unique_values\": 8,\n        \"samples\": [\n          4826.076866666666,\n          1500.0,\n          30000.0\n        ],\n        \"semantic_type\": \"\",\n        \"description\": \"\"\n      }\n    },\n    {\n      \"column\": \"PAY_AMT5\",\n      \"properties\": {\n        \"dtype\": \"number\",\n        \"std\": 148330.91273580966,\n        \"min\": 0.0,\n        \"max\": 426529.0,\n        \"num_unique_values\": 8,\n        \"samples\": [\n          4799.387633333334,\n          1500.0,\n          30000.0\n        ],\n        \"semantic_type\": \"\",\n        \"description\": \"\"\n      }\n    },\n    {\n      \"column\": \"PAY_AMT6\",\n      \"properties\": {\n        \"dtype\": \"number\",\n        \"std\": 184250.4119743984,\n        \"min\": 0.0,\n        \"max\": 528666.0,\n        \"num_unique_values\": 8,\n        \"samples\": [\n          5215.502566666667,\n          1500.0,\n          30000.0\n        ],\n        \"semantic_type\": \"\",\n        \"description\": \"\"\n      }\n    }\n  ]\n}"
            }
          },
          "metadata": {},
          "execution_count": 69
        }
      ]
    },
    {
      "cell_type": "code",
      "source": [
        "#Normalização dos dados\n",
        "scaler = StandardScaler()\n",
        "bill_amt_cols = [f\"BILL_AMT{i}\" for i in range(1, 7)]\n",
        "pay_amt_cols = [f\"PAY_AMT{i}\" for i in range(1, 7)]\n",
        "df[bill_amt_cols + pay_amt_cols] = scaler.fit_transform(df[bill_amt_cols + pay_amt_cols])\n",
        "\n",
        "\n"
      ],
      "metadata": {
        "id": "4TMnNCAMnBf6"
      },
      "execution_count": 70,
      "outputs": []
    },
    {
      "cell_type": "code",
      "source": [
        "df[bill_amt_cols + pay_amt_cols].describe()\n"
      ],
      "metadata": {
        "colab": {
          "base_uri": "https://localhost:8080/",
          "height": 300
        },
        "id": "6PPUamyWmkDC",
        "outputId": "db2eabf0-fe41-4d25-9e52-2064f8fb3149"
      },
      "execution_count": 71,
      "outputs": [
        {
          "output_type": "execute_result",
          "data": {
            "text/plain": [
              "          BILL_AMT1     BILL_AMT2     BILL_AMT3     BILL_AMT4     BILL_AMT5  \\\n",
              "count  3.000000e+04  3.000000e+04  3.000000e+04  3.000000e+04  3.000000e+04   \n",
              "mean  -1.231607e-17 -3.789561e-17  6.252776e-17  5.873820e-17 -2.368476e-17   \n",
              "std    1.000017e+00  1.000017e+00  1.000017e+00  1.000017e+00  1.000017e+00   \n",
              "min   -2.944312e+00 -1.671375e+00 -2.945672e+00 -3.315048e+00 -2.000874e+00   \n",
              "25%   -6.473120e-01 -6.490466e-01 -6.394814e-01 -6.363293e-01 -6.340600e-01   \n",
              "50%   -3.916884e-01 -3.931159e-01 -3.882529e-01 -3.763451e-01 -3.652683e-01   \n",
              "75%    2.154919e-01  2.083271e-01  1.896457e-01  1.747667e-01  1.624955e-01   \n",
              "max    1.240296e+01  1.313360e+01  2.331820e+01  1.318669e+01  1.458743e+01   \n",
              "\n",
              "          BILL_AMT6      PAY_AMT1      PAY_AMT2      PAY_AMT3      PAY_AMT4  \\\n",
              "count  3.000000e+04  3.000000e+04  3.000000e+04  3.000000e+04  3.000000e+04   \n",
              "mean   1.136868e-17 -4.736952e-18  1.373716e-17  2.084259e-17  1.800042e-17   \n",
              "std    1.000017e+00  1.000017e+00  1.000017e+00  1.000017e+00  1.000017e+00   \n",
              "min   -6.355247e+00 -3.419416e-01 -2.569895e-01 -2.968013e-01 -3.080626e-01   \n",
              "25%   -6.316338e-01 -2.815661e-01 -2.208358e-01 -2.746506e-01 -2.891680e-01   \n",
              "50%   -3.660725e-01 -2.151530e-01 -1.697952e-01 -1.945673e-01 -2.123132e-01   \n",
              "75%    1.733997e-01 -3.970176e-02 -3.998021e-02 -4.093230e-02 -5.188511e-02   \n",
              "max    1.549528e+01  5.239921e+01  7.284299e+01  5.059528e+01  3.933218e+01   \n",
              "\n",
              "           PAY_AMT5      PAY_AMT6  \n",
              "count  3.000000e+04  3.000000e+04  \n",
              "mean  -1.965835e-17 -1.788199e-17  \n",
              "std    1.000017e+00  1.000017e+00  \n",
              "min   -3.141361e-01 -2.933821e-01  \n",
              "25%   -2.976091e-01 -2.867584e-01  \n",
              "50%   -2.159561e-01 -2.090042e-01  \n",
              "75%   -5.026084e-02 -6.837436e-02  \n",
              "max    2.760363e+01  2.944510e+01  "
            ],
            "text/html": [
              "\n",
              "  <div id=\"df-6bcfd223-8790-4d69-9acd-86c208d00602\" class=\"colab-df-container\">\n",
              "    <div>\n",
              "<style scoped>\n",
              "    .dataframe tbody tr th:only-of-type {\n",
              "        vertical-align: middle;\n",
              "    }\n",
              "\n",
              "    .dataframe tbody tr th {\n",
              "        vertical-align: top;\n",
              "    }\n",
              "\n",
              "    .dataframe thead th {\n",
              "        text-align: right;\n",
              "    }\n",
              "</style>\n",
              "<table border=\"1\" class=\"dataframe\">\n",
              "  <thead>\n",
              "    <tr style=\"text-align: right;\">\n",
              "      <th></th>\n",
              "      <th>BILL_AMT1</th>\n",
              "      <th>BILL_AMT2</th>\n",
              "      <th>BILL_AMT3</th>\n",
              "      <th>BILL_AMT4</th>\n",
              "      <th>BILL_AMT5</th>\n",
              "      <th>BILL_AMT6</th>\n",
              "      <th>PAY_AMT1</th>\n",
              "      <th>PAY_AMT2</th>\n",
              "      <th>PAY_AMT3</th>\n",
              "      <th>PAY_AMT4</th>\n",
              "      <th>PAY_AMT5</th>\n",
              "      <th>PAY_AMT6</th>\n",
              "    </tr>\n",
              "  </thead>\n",
              "  <tbody>\n",
              "    <tr>\n",
              "      <th>count</th>\n",
              "      <td>3.000000e+04</td>\n",
              "      <td>3.000000e+04</td>\n",
              "      <td>3.000000e+04</td>\n",
              "      <td>3.000000e+04</td>\n",
              "      <td>3.000000e+04</td>\n",
              "      <td>3.000000e+04</td>\n",
              "      <td>3.000000e+04</td>\n",
              "      <td>3.000000e+04</td>\n",
              "      <td>3.000000e+04</td>\n",
              "      <td>3.000000e+04</td>\n",
              "      <td>3.000000e+04</td>\n",
              "      <td>3.000000e+04</td>\n",
              "    </tr>\n",
              "    <tr>\n",
              "      <th>mean</th>\n",
              "      <td>-1.231607e-17</td>\n",
              "      <td>-3.789561e-17</td>\n",
              "      <td>6.252776e-17</td>\n",
              "      <td>5.873820e-17</td>\n",
              "      <td>-2.368476e-17</td>\n",
              "      <td>1.136868e-17</td>\n",
              "      <td>-4.736952e-18</td>\n",
              "      <td>1.373716e-17</td>\n",
              "      <td>2.084259e-17</td>\n",
              "      <td>1.800042e-17</td>\n",
              "      <td>-1.965835e-17</td>\n",
              "      <td>-1.788199e-17</td>\n",
              "    </tr>\n",
              "    <tr>\n",
              "      <th>std</th>\n",
              "      <td>1.000017e+00</td>\n",
              "      <td>1.000017e+00</td>\n",
              "      <td>1.000017e+00</td>\n",
              "      <td>1.000017e+00</td>\n",
              "      <td>1.000017e+00</td>\n",
              "      <td>1.000017e+00</td>\n",
              "      <td>1.000017e+00</td>\n",
              "      <td>1.000017e+00</td>\n",
              "      <td>1.000017e+00</td>\n",
              "      <td>1.000017e+00</td>\n",
              "      <td>1.000017e+00</td>\n",
              "      <td>1.000017e+00</td>\n",
              "    </tr>\n",
              "    <tr>\n",
              "      <th>min</th>\n",
              "      <td>-2.944312e+00</td>\n",
              "      <td>-1.671375e+00</td>\n",
              "      <td>-2.945672e+00</td>\n",
              "      <td>-3.315048e+00</td>\n",
              "      <td>-2.000874e+00</td>\n",
              "      <td>-6.355247e+00</td>\n",
              "      <td>-3.419416e-01</td>\n",
              "      <td>-2.569895e-01</td>\n",
              "      <td>-2.968013e-01</td>\n",
              "      <td>-3.080626e-01</td>\n",
              "      <td>-3.141361e-01</td>\n",
              "      <td>-2.933821e-01</td>\n",
              "    </tr>\n",
              "    <tr>\n",
              "      <th>25%</th>\n",
              "      <td>-6.473120e-01</td>\n",
              "      <td>-6.490466e-01</td>\n",
              "      <td>-6.394814e-01</td>\n",
              "      <td>-6.363293e-01</td>\n",
              "      <td>-6.340600e-01</td>\n",
              "      <td>-6.316338e-01</td>\n",
              "      <td>-2.815661e-01</td>\n",
              "      <td>-2.208358e-01</td>\n",
              "      <td>-2.746506e-01</td>\n",
              "      <td>-2.891680e-01</td>\n",
              "      <td>-2.976091e-01</td>\n",
              "      <td>-2.867584e-01</td>\n",
              "    </tr>\n",
              "    <tr>\n",
              "      <th>50%</th>\n",
              "      <td>-3.916884e-01</td>\n",
              "      <td>-3.931159e-01</td>\n",
              "      <td>-3.882529e-01</td>\n",
              "      <td>-3.763451e-01</td>\n",
              "      <td>-3.652683e-01</td>\n",
              "      <td>-3.660725e-01</td>\n",
              "      <td>-2.151530e-01</td>\n",
              "      <td>-1.697952e-01</td>\n",
              "      <td>-1.945673e-01</td>\n",
              "      <td>-2.123132e-01</td>\n",
              "      <td>-2.159561e-01</td>\n",
              "      <td>-2.090042e-01</td>\n",
              "    </tr>\n",
              "    <tr>\n",
              "      <th>75%</th>\n",
              "      <td>2.154919e-01</td>\n",
              "      <td>2.083271e-01</td>\n",
              "      <td>1.896457e-01</td>\n",
              "      <td>1.747667e-01</td>\n",
              "      <td>1.624955e-01</td>\n",
              "      <td>1.733997e-01</td>\n",
              "      <td>-3.970176e-02</td>\n",
              "      <td>-3.998021e-02</td>\n",
              "      <td>-4.093230e-02</td>\n",
              "      <td>-5.188511e-02</td>\n",
              "      <td>-5.026084e-02</td>\n",
              "      <td>-6.837436e-02</td>\n",
              "    </tr>\n",
              "    <tr>\n",
              "      <th>max</th>\n",
              "      <td>1.240296e+01</td>\n",
              "      <td>1.313360e+01</td>\n",
              "      <td>2.331820e+01</td>\n",
              "      <td>1.318669e+01</td>\n",
              "      <td>1.458743e+01</td>\n",
              "      <td>1.549528e+01</td>\n",
              "      <td>5.239921e+01</td>\n",
              "      <td>7.284299e+01</td>\n",
              "      <td>5.059528e+01</td>\n",
              "      <td>3.933218e+01</td>\n",
              "      <td>2.760363e+01</td>\n",
              "      <td>2.944510e+01</td>\n",
              "    </tr>\n",
              "  </tbody>\n",
              "</table>\n",
              "</div>\n",
              "    <div class=\"colab-df-buttons\">\n",
              "\n",
              "  <div class=\"colab-df-container\">\n",
              "    <button class=\"colab-df-convert\" onclick=\"convertToInteractive('df-6bcfd223-8790-4d69-9acd-86c208d00602')\"\n",
              "            title=\"Convert this dataframe to an interactive table.\"\n",
              "            style=\"display:none;\">\n",
              "\n",
              "  <svg xmlns=\"http://www.w3.org/2000/svg\" height=\"24px\" viewBox=\"0 -960 960 960\">\n",
              "    <path d=\"M120-120v-720h720v720H120Zm60-500h600v-160H180v160Zm220 220h160v-160H400v160Zm0 220h160v-160H400v160ZM180-400h160v-160H180v160Zm440 0h160v-160H620v160ZM180-180h160v-160H180v160Zm440 0h160v-160H620v160Z\"/>\n",
              "  </svg>\n",
              "    </button>\n",
              "\n",
              "  <style>\n",
              "    .colab-df-container {\n",
              "      display:flex;\n",
              "      gap: 12px;\n",
              "    }\n",
              "\n",
              "    .colab-df-convert {\n",
              "      background-color: #E8F0FE;\n",
              "      border: none;\n",
              "      border-radius: 50%;\n",
              "      cursor: pointer;\n",
              "      display: none;\n",
              "      fill: #1967D2;\n",
              "      height: 32px;\n",
              "      padding: 0 0 0 0;\n",
              "      width: 32px;\n",
              "    }\n",
              "\n",
              "    .colab-df-convert:hover {\n",
              "      background-color: #E2EBFA;\n",
              "      box-shadow: 0px 1px 2px rgba(60, 64, 67, 0.3), 0px 1px 3px 1px rgba(60, 64, 67, 0.15);\n",
              "      fill: #174EA6;\n",
              "    }\n",
              "\n",
              "    .colab-df-buttons div {\n",
              "      margin-bottom: 4px;\n",
              "    }\n",
              "\n",
              "    [theme=dark] .colab-df-convert {\n",
              "      background-color: #3B4455;\n",
              "      fill: #D2E3FC;\n",
              "    }\n",
              "\n",
              "    [theme=dark] .colab-df-convert:hover {\n",
              "      background-color: #434B5C;\n",
              "      box-shadow: 0px 1px 3px 1px rgba(0, 0, 0, 0.15);\n",
              "      filter: drop-shadow(0px 1px 2px rgba(0, 0, 0, 0.3));\n",
              "      fill: #FFFFFF;\n",
              "    }\n",
              "  </style>\n",
              "\n",
              "    <script>\n",
              "      const buttonEl =\n",
              "        document.querySelector('#df-6bcfd223-8790-4d69-9acd-86c208d00602 button.colab-df-convert');\n",
              "      buttonEl.style.display =\n",
              "        google.colab.kernel.accessAllowed ? 'block' : 'none';\n",
              "\n",
              "      async function convertToInteractive(key) {\n",
              "        const element = document.querySelector('#df-6bcfd223-8790-4d69-9acd-86c208d00602');\n",
              "        const dataTable =\n",
              "          await google.colab.kernel.invokeFunction('convertToInteractive',\n",
              "                                                    [key], {});\n",
              "        if (!dataTable) return;\n",
              "\n",
              "        const docLinkHtml = 'Like what you see? Visit the ' +\n",
              "          '<a target=\"_blank\" href=https://colab.research.google.com/notebooks/data_table.ipynb>data table notebook</a>'\n",
              "          + ' to learn more about interactive tables.';\n",
              "        element.innerHTML = '';\n",
              "        dataTable['output_type'] = 'display_data';\n",
              "        await google.colab.output.renderOutput(dataTable, element);\n",
              "        const docLink = document.createElement('div');\n",
              "        docLink.innerHTML = docLinkHtml;\n",
              "        element.appendChild(docLink);\n",
              "      }\n",
              "    </script>\n",
              "  </div>\n",
              "\n",
              "\n",
              "    <div id=\"df-5eb7828e-4414-44de-9198-749cf89f80ce\">\n",
              "      <button class=\"colab-df-quickchart\" onclick=\"quickchart('df-5eb7828e-4414-44de-9198-749cf89f80ce')\"\n",
              "                title=\"Suggest charts\"\n",
              "                style=\"display:none;\">\n",
              "\n",
              "<svg xmlns=\"http://www.w3.org/2000/svg\" height=\"24px\"viewBox=\"0 0 24 24\"\n",
              "     width=\"24px\">\n",
              "    <g>\n",
              "        <path d=\"M19 3H5c-1.1 0-2 .9-2 2v14c0 1.1.9 2 2 2h14c1.1 0 2-.9 2-2V5c0-1.1-.9-2-2-2zM9 17H7v-7h2v7zm4 0h-2V7h2v10zm4 0h-2v-4h2v4z\"/>\n",
              "    </g>\n",
              "</svg>\n",
              "      </button>\n",
              "\n",
              "<style>\n",
              "  .colab-df-quickchart {\n",
              "      --bg-color: #E8F0FE;\n",
              "      --fill-color: #1967D2;\n",
              "      --hover-bg-color: #E2EBFA;\n",
              "      --hover-fill-color: #174EA6;\n",
              "      --disabled-fill-color: #AAA;\n",
              "      --disabled-bg-color: #DDD;\n",
              "  }\n",
              "\n",
              "  [theme=dark] .colab-df-quickchart {\n",
              "      --bg-color: #3B4455;\n",
              "      --fill-color: #D2E3FC;\n",
              "      --hover-bg-color: #434B5C;\n",
              "      --hover-fill-color: #FFFFFF;\n",
              "      --disabled-bg-color: #3B4455;\n",
              "      --disabled-fill-color: #666;\n",
              "  }\n",
              "\n",
              "  .colab-df-quickchart {\n",
              "    background-color: var(--bg-color);\n",
              "    border: none;\n",
              "    border-radius: 50%;\n",
              "    cursor: pointer;\n",
              "    display: none;\n",
              "    fill: var(--fill-color);\n",
              "    height: 32px;\n",
              "    padding: 0;\n",
              "    width: 32px;\n",
              "  }\n",
              "\n",
              "  .colab-df-quickchart:hover {\n",
              "    background-color: var(--hover-bg-color);\n",
              "    box-shadow: 0 1px 2px rgba(60, 64, 67, 0.3), 0 1px 3px 1px rgba(60, 64, 67, 0.15);\n",
              "    fill: var(--button-hover-fill-color);\n",
              "  }\n",
              "\n",
              "  .colab-df-quickchart-complete:disabled,\n",
              "  .colab-df-quickchart-complete:disabled:hover {\n",
              "    background-color: var(--disabled-bg-color);\n",
              "    fill: var(--disabled-fill-color);\n",
              "    box-shadow: none;\n",
              "  }\n",
              "\n",
              "  .colab-df-spinner {\n",
              "    border: 2px solid var(--fill-color);\n",
              "    border-color: transparent;\n",
              "    border-bottom-color: var(--fill-color);\n",
              "    animation:\n",
              "      spin 1s steps(1) infinite;\n",
              "  }\n",
              "\n",
              "  @keyframes spin {\n",
              "    0% {\n",
              "      border-color: transparent;\n",
              "      border-bottom-color: var(--fill-color);\n",
              "      border-left-color: var(--fill-color);\n",
              "    }\n",
              "    20% {\n",
              "      border-color: transparent;\n",
              "      border-left-color: var(--fill-color);\n",
              "      border-top-color: var(--fill-color);\n",
              "    }\n",
              "    30% {\n",
              "      border-color: transparent;\n",
              "      border-left-color: var(--fill-color);\n",
              "      border-top-color: var(--fill-color);\n",
              "      border-right-color: var(--fill-color);\n",
              "    }\n",
              "    40% {\n",
              "      border-color: transparent;\n",
              "      border-right-color: var(--fill-color);\n",
              "      border-top-color: var(--fill-color);\n",
              "    }\n",
              "    60% {\n",
              "      border-color: transparent;\n",
              "      border-right-color: var(--fill-color);\n",
              "    }\n",
              "    80% {\n",
              "      border-color: transparent;\n",
              "      border-right-color: var(--fill-color);\n",
              "      border-bottom-color: var(--fill-color);\n",
              "    }\n",
              "    90% {\n",
              "      border-color: transparent;\n",
              "      border-bottom-color: var(--fill-color);\n",
              "    }\n",
              "  }\n",
              "</style>\n",
              "\n",
              "      <script>\n",
              "        async function quickchart(key) {\n",
              "          const quickchartButtonEl =\n",
              "            document.querySelector('#' + key + ' button');\n",
              "          quickchartButtonEl.disabled = true;  // To prevent multiple clicks.\n",
              "          quickchartButtonEl.classList.add('colab-df-spinner');\n",
              "          try {\n",
              "            const charts = await google.colab.kernel.invokeFunction(\n",
              "                'suggestCharts', [key], {});\n",
              "          } catch (error) {\n",
              "            console.error('Error during call to suggestCharts:', error);\n",
              "          }\n",
              "          quickchartButtonEl.classList.remove('colab-df-spinner');\n",
              "          quickchartButtonEl.classList.add('colab-df-quickchart-complete');\n",
              "        }\n",
              "        (() => {\n",
              "          let quickchartButtonEl =\n",
              "            document.querySelector('#df-5eb7828e-4414-44de-9198-749cf89f80ce button');\n",
              "          quickchartButtonEl.style.display =\n",
              "            google.colab.kernel.accessAllowed ? 'block' : 'none';\n",
              "        })();\n",
              "      </script>\n",
              "    </div>\n",
              "\n",
              "    </div>\n",
              "  </div>\n"
            ],
            "application/vnd.google.colaboratory.intrinsic+json": {
              "type": "dataframe",
              "summary": "{\n  \"name\": \"df[bill_amt_cols + pay_amt_cols]\",\n  \"rows\": 8,\n  \"fields\": [\n    {\n      \"column\": \"BILL_AMT1\",\n      \"properties\": {\n        \"dtype\": \"number\",\n        \"std\": 10606.11608472479,\n        \"min\": -2.9443119518757164,\n        \"max\": 30000.0,\n        \"num_unique_values\": 8,\n        \"samples\": [\n          -1.2316074086508403e-17,\n          -0.39168838910513415,\n          30000.0\n        ],\n        \"semantic_type\": \"\",\n        \"description\": \"\"\n      }\n    },\n    {\n      \"column\": \"BILL_AMT2\",\n      \"properties\": {\n        \"dtype\": \"number\",\n        \"std\": 10606.015456115107,\n        \"min\": -1.6713750002611574,\n        \"max\": 30000.0,\n        \"num_unique_values\": 8,\n        \"samples\": [\n          -3.789561257387201e-17,\n          -0.3931159186151285,\n          30000.0\n        ],\n        \"semantic_type\": \"\",\n        \"description\": \"\"\n      }\n    },\n    {\n      \"column\": \"BILL_AMT3\",\n      \"properties\": {\n        \"dtype\": \"number\",\n        \"std\": 10605.567896787286,\n        \"min\": -2.94567215491687,\n        \"max\": 30000.0,\n        \"num_unique_values\": 8,\n        \"samples\": [\n          6.252776074688882e-17,\n          -0.3882529399959551,\n          30000.0\n        ],\n        \"semantic_type\": \"\",\n        \"description\": \"\"\n      }\n    },\n    {\n      \"column\": \"BILL_AMT4\",\n      \"properties\": {\n        \"dtype\": \"number\",\n        \"std\": 10606.096095886933,\n        \"min\": -3.315047959227435,\n        \"max\": 30000.0,\n        \"num_unique_values\": 8,\n        \"samples\": [\n          5.873819948950162e-17,\n          -0.3763450583038348,\n          30000.0\n        ],\n        \"semantic_type\": \"\",\n        \"description\": \"\"\n      }\n    },\n    {\n      \"column\": \"BILL_AMT5\",\n      \"properties\": {\n        \"dtype\": \"number\",\n        \"std\": 10605.95907276141,\n        \"min\": -2.0008736740970923,\n        \"max\": 30000.0,\n        \"num_unique_values\": 8,\n        \"samples\": [\n          -2.3684757858670008e-17,\n          -0.3652682565423103,\n          30000.0\n        ],\n        \"semantic_type\": \"\",\n        \"description\": \"\"\n      }\n    },\n    {\n      \"column\": \"BILL_AMT6\",\n      \"properties\": {\n        \"dtype\": \"number\",\n        \"std\": 10606.133017742442,\n        \"min\": -6.355247087480026,\n        \"max\": 30000.0,\n        \"num_unique_values\": 8,\n        \"samples\": [\n          1.1368683772161604e-17,\n          -0.36607254573731907,\n          30000.0\n        ],\n        \"semantic_type\": \"\",\n        \"description\": \"\"\n      }\n    },\n    {\n      \"column\": \"PAY_AMT1\",\n      \"properties\": {\n        \"dtype\": \"number\",\n        \"std\": 10603.964862255143,\n        \"min\": -0.34194161870789364,\n        \"max\": 30000.0,\n        \"num_unique_values\": 8,\n        \"samples\": [\n          -4.736951571734001e-18,\n          -0.21515302635247877,\n          30000.0\n        ],\n        \"semantic_type\": \"\",\n        \"description\": \"\"\n      }\n    },\n    {\n      \"column\": \"PAY_AMT2\",\n      \"properties\": {\n        \"dtype\": \"number\",\n        \"std\": 10602.93741485849,\n        \"min\": -0.2569895184166682,\n        \"max\": 30000.0,\n        \"num_unique_values\": 8,\n        \"samples\": [\n          1.3737159558028604e-17,\n          -0.16979517857128365,\n          30000.0\n        ],\n        \"semantic_type\": \"\",\n        \"description\": \"\"\n      }\n    },\n    {\n      \"column\": \"PAY_AMT3\",\n      \"properties\": {\n        \"dtype\": \"number\",\n        \"std\": 10604.05128817463,\n        \"min\": -0.296801274077391,\n        \"max\": 30000.0,\n        \"num_unique_values\": 8,\n        \"samples\": [\n          2.0842586915629606e-17,\n          -0.19456727965210813,\n          30000.0\n        ],\n        \"semantic_type\": \"\",\n        \"description\": \"\"\n      }\n    },\n    {\n      \"column\": \"PAY_AMT4\",\n      \"properties\": {\n        \"dtype\": \"number\",\n        \"std\": 10604.6170723351,\n        \"min\": -0.3080625617347319,\n        \"max\": 30000.0,\n        \"num_unique_values\": 8,\n        \"samples\": [\n          1.8000415972589204e-17,\n          -0.21231318695917795,\n          30000.0\n        ],\n        \"semantic_type\": \"\",\n        \"description\": \"\"\n      }\n    },\n    {\n      \"column\": \"PAY_AMT5\",\n      \"properties\": {\n        \"dtype\": \"number\",\n        \"std\": 10605.205760116723,\n        \"min\": -0.3141361173103375,\n        \"max\": 30000.0,\n        \"num_unique_values\": 8,\n        \"samples\": [\n          -1.9658349022696106e-17,\n          -0.21595605519307123,\n          30000.0\n        ],\n        \"semantic_type\": \"\",\n        \"description\": \"\"\n      }\n    },\n    {\n      \"column\": \"PAY_AMT6\",\n      \"properties\": {\n        \"dtype\": \"number\",\n        \"std\": 10605.11232401398,\n        \"min\": -0.2933820579246719,\n        \"max\": 30000.0,\n        \"num_unique_values\": 8,\n        \"samples\": [\n          -1.7881992183295854e-17,\n          -0.2090041707964776,\n          30000.0\n        ],\n        \"semantic_type\": \"\",\n        \"description\": \"\"\n      }\n    }\n  ]\n}"
            }
          },
          "metadata": {},
          "execution_count": 71
        }
      ]
    },
    {
      "cell_type": "code",
      "source": [
        "# Resultado final limpo\n",
        "df_cleaned = df.copy()\n"
      ],
      "metadata": {
        "id": "CBiiab-MQh7-"
      },
      "execution_count": 73,
      "outputs": []
    },
    {
      "cell_type": "markdown",
      "source": [
        "# 2 Análise Exploratória (EDA)\n"
      ],
      "metadata": {
        "id": "IG0b0QcZoiFZ"
      }
    },
    {
      "cell_type": "markdown",
      "source": [
        "## Vizualização por gráficos\n"
      ],
      "metadata": {
        "id": "RjvAcUZIA4dK"
      }
    },
    {
      "cell_type": "code",
      "source": [
        "sex = df['SEX'].replace({1:'Masculino', 2:'faminino'}).value_counts().reset_index()\n",
        "plt.bar(sex['SEX'], sex['count'])\n",
        "plt.title('Quantidade de Pessoas por Sexo')\n",
        "plt.show()\n",
        "\n"
      ],
      "metadata": {
        "colab": {
          "base_uri": "https://localhost:8080/",
          "height": 452
        },
        "id": "G7HUoYFospmL",
        "outputId": "ac97386a-6fc3-433b-b098-991231b1c5d6"
      },
      "execution_count": 79,
      "outputs": [
        {
          "output_type": "display_data",
          "data": {
            "text/plain": [
              "<Figure size 640x480 with 1 Axes>"
            ],
            "image/png": "[encoded data removed]"
          },
          "metadata": {}
        }
      ]
    },
    {
      "cell_type": "code",
      "source": [
        "education = df['EDUCATION'].replace({\n",
        "    1: 'Pós-graduação',\n",
        "    2: 'Universidade',\n",
        "    3: 'Graduação escolar',\n",
        "    4: 'Outros',}).value_counts().reset_index()\n",
        "plt.bar(education['EDUCATION'], education['count'])\n",
        "plt.title('Quantidade de Pessoas por Estado Civil')\n",
        "plt.show()"
      ],
      "metadata": {
        "colab": {
          "base_uri": "https://localhost:8080/",
          "height": 453
        },
        "id": "wMsLdsXhDOav",
        "outputId": "34b427a7-ba77-4e87-f58c-aa07fa05f4b9"
      },
      "execution_count": 61,
      "outputs": [
        {
          "output_type": "display_data",
          "data": {
            "text/plain": [
              "<Figure size 640x480 with 1 Axes>"
            ],
            "image/png": "[encoded data removed]"
          },
          "metadata": {}
        }
      ]
    },
    {
      "cell_type": "code",
      "source": [
        "age = df['AGE'].value_counts().reset_index()\n",
        "plt.bar(age['AGE'], age['count'])\n",
        "plt.title('Quantidade de Pessoas por Idade')\n",
        "plt.show()\n"
      ],
      "metadata": {
        "colab": {
          "base_uri": "https://localhost:8080/",
          "height": 452
        },
        "id": "3mTW3RfTE6v6",
        "outputId": "68616a01-2658-4e79-888f-045b9f2f4eb4"
      },
      "execution_count": 60,
      "outputs": [
        {
          "output_type": "display_data",
          "data": {
            "text/plain": [
              "<Figure size 640x480 with 1 Axes>"
            ],
            "image/png": "[encoded data removed]"
          },
          "metadata": {}
        }
      ]
    },
    {
      "cell_type": "code",
      "source": [
        "default_next_month = df['DEF_NEXT_MONTH'].replace(\n",
        "    {0:'Adimplente', 1:'Inadimplente'}\n",
        ").value_counts().reset_index()\n",
        "plt.bar(default_next_month['DEF_NEXT_MONTH'], default_next_month['count'], color='#BD0101')\n",
        "plt.title('Situação de inadimplência no próximo mês')\n",
        "plt.show()\n"
      ],
      "metadata": {
        "colab": {
          "base_uri": "https://localhost:8080/",
          "height": 453
        },
        "id": "EbmlJoK4HPQt",
        "outputId": "3af766e6-17d3-4de8-a12d-2d765df87a02"
      },
      "execution_count": 84,
      "outputs": [
        {
          "output_type": "display_data",
          "data": {
            "text/plain": [
              "<Figure size 640x480 with 1 Axes>"
            ],
            "image/png": "[encoded data removed]"
          },
          "metadata": {}
        }
      ]
    },
    {
      "cell_type": "markdown",
      "source": [
        "\n",
        "\n",
        "> Com os gráficos é possível observar algumas informações importantes. Em especial a \"Situação de inadimplência no próximo mês\", pois nela contem o alvo de para o aprendizado de máquina do projeto.\n",
        "\n",
        "\n",
        "  \n",
        "\n",
        "\n",
        "\n"
      ],
      "metadata": {
        "id": "rkYvrnpdI-np"
      }
    },
    {
      "cell_type": "code",
      "source": [
        "# correlacao = df[['PAY_1', 'BILL_AMT1', 'PAY_AMT1', 'LIMIT_BAL']].corr()\n",
        "# print(\"Matriz de Correlação: \\n\",correlacao)\n",
        "#\n",
        "# plt.imshow(correlacao, cmap='coolwarm', interpolation='none')\n",
        "# plt.colorbar()\n",
        "# plt.xticks(range(len(correlacao)), correlacao.columns, rotation=45)\n",
        "# plt.yticks(range(len(correlacao)), correlacao.columns)\n",
        "# plt.title('Mapa de Correlação')\n",
        "# plt.show()"
      ],
      "metadata": {
        "id": "w1VsDpE0n0Zx"
      },
      "execution_count": null,
      "outputs": []
    }
  ]
}